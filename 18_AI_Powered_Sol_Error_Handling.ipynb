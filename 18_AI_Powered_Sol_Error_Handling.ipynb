{
 "cells": [
  {
   "cell_type": "markdown",
   "metadata": {},
   "source": [
    "# Error Handling\n",
    "## Exception Handling\n",
    "- try\n",
    "- except\n",
    "- finally"
   ]
  },
  {
   "cell_type": "code",
   "execution_count": 1,
   "metadata": {},
   "outputs": [
    {
     "name": "stdout",
     "output_type": "stream",
     "text": [
      "2.25\n"
     ]
    }
   ],
   "source": [
    "num1 = 9\n",
    "num2 = 4\n",
    "print(num1/num2)"
   ]
  },
  {
   "cell_type": "code",
   "execution_count": 2,
   "metadata": {},
   "outputs": [
    {
     "ename": "ZeroDivisionError",
     "evalue": "division by zero",
     "output_type": "error",
     "traceback": [
      "\u001b[1;31m---------------------------------------------------------------------------\u001b[0m",
      "\u001b[1;31mZeroDivisionError\u001b[0m                         Traceback (most recent call last)",
      "\u001b[1;32md:\\JUPYTER_NOTEBOOK IN VS CODE\\Data Science Training\\18_AI_Powered_Sol_Error_Handling.ipynb Cell 3\u001b[0m line \u001b[0;36m3\n\u001b[0;32m      <a href='vscode-notebook-cell:/d%3A/JUPYTER_NOTEBOOK%20IN%20VS%20CODE/Data%20Science%20Training/18_AI_Powered_Sol_Error_Handling.ipynb#W3sZmlsZQ%3D%3D?line=0'>1</a>\u001b[0m num1 \u001b[39m=\u001b[39m \u001b[39m9\u001b[39m\n\u001b[0;32m      <a href='vscode-notebook-cell:/d%3A/JUPYTER_NOTEBOOK%20IN%20VS%20CODE/Data%20Science%20Training/18_AI_Powered_Sol_Error_Handling.ipynb#W3sZmlsZQ%3D%3D?line=1'>2</a>\u001b[0m num2 \u001b[39m=\u001b[39m \u001b[39m0\u001b[39m\n\u001b[1;32m----> <a href='vscode-notebook-cell:/d%3A/JUPYTER_NOTEBOOK%20IN%20VS%20CODE/Data%20Science%20Training/18_AI_Powered_Sol_Error_Handling.ipynb#W3sZmlsZQ%3D%3D?line=2'>3</a>\u001b[0m \u001b[39mprint\u001b[39m(num1\u001b[39m/\u001b[39;49mnum2)\n",
      "\u001b[1;31mZeroDivisionError\u001b[0m: division by zero"
     ]
    }
   ],
   "source": [
    "num1 = 9\n",
    "num2 = 0\n",
    "print(num1/num2)"
   ]
  },
  {
   "cell_type": "code",
   "execution_count": 4,
   "metadata": {},
   "outputs": [
    {
     "ename": "TypeError",
     "evalue": "unsupported operand type(s) for /: 'int' and 'str'",
     "output_type": "error",
     "traceback": [
      "\u001b[1;31m---------------------------------------------------------------------------\u001b[0m",
      "\u001b[1;31mTypeError\u001b[0m                                 Traceback (most recent call last)",
      "\u001b[1;32md:\\JUPYTER_NOTEBOOK IN VS CODE\\Data Science Training\\18_AI_Powered_Sol_Error_Handling.ipynb Cell 4\u001b[0m line \u001b[0;36m4\n\u001b[0;32m      <a href='vscode-notebook-cell:/d%3A/JUPYTER_NOTEBOOK%20IN%20VS%20CODE/Data%20Science%20Training/18_AI_Powered_Sol_Error_Handling.ipynb#W4sZmlsZQ%3D%3D?line=1'>2</a>\u001b[0m num2 \u001b[39m=\u001b[39m \u001b[39m0\u001b[39m\n\u001b[0;32m      <a href='vscode-notebook-cell:/d%3A/JUPYTER_NOTEBOOK%20IN%20VS%20CODE/Data%20Science%20Training/18_AI_Powered_Sol_Error_Handling.ipynb#W4sZmlsZQ%3D%3D?line=2'>3</a>\u001b[0m num3 \u001b[39m=\u001b[39m \u001b[39m\"\u001b[39m\u001b[39mthree\u001b[39m\u001b[39m\"\u001b[39m\n\u001b[1;32m----> <a href='vscode-notebook-cell:/d%3A/JUPYTER_NOTEBOOK%20IN%20VS%20CODE/Data%20Science%20Training/18_AI_Powered_Sol_Error_Handling.ipynb#W4sZmlsZQ%3D%3D?line=3'>4</a>\u001b[0m \u001b[39mprint\u001b[39m(num1\u001b[39m/\u001b[39;49mnum3)\n",
      "\u001b[1;31mTypeError\u001b[0m: unsupported operand type(s) for /: 'int' and 'str'"
     ]
    }
   ],
   "source": [
    "num1 = 9\n",
    "num2 = 0\n",
    "num3 = \"three\"\n",
    "print(num1/num3)"
   ]
  },
  {
   "cell_type": "code",
   "execution_count": 5,
   "metadata": {},
   "outputs": [
    {
     "name": "stdout",
     "output_type": "stream",
     "text": [
      "Please provide an integer number\n"
     ]
    }
   ],
   "source": [
    "try:\n",
    "    div_num = num1/num3\n",
    "    print(f\"your correct answer is {div_num}\")\n",
    "except ZeroDivisionError:\n",
    "    print(\"dont use zero\")\n",
    "\n",
    "except TypeError:\n",
    "    print(\"Please provide an integer number\")"
   ]
  },
  {
   "cell_type": "code",
   "execution_count": 6,
   "metadata": {},
   "outputs": [
    {
     "name": "stdout",
     "output_type": "stream",
     "text": [
      "dont use zero\n"
     ]
    }
   ],
   "source": [
    "try:\n",
    "    div_num = num1/num2\n",
    "    print(f\"your correct answer is {div_num}\")\n",
    "except ZeroDivisionError:\n",
    "    print(\"dont use zero\")\n",
    "\n",
    "except TypeError:\n",
    "    print(\"Please provide an integer number\")"
   ]
  },
  {
   "cell_type": "code",
   "execution_count": 7,
   "metadata": {},
   "outputs": [
    {
     "name": "stdout",
     "output_type": "stream",
     "text": [
      "your correct answer is 1.0\n"
     ]
    }
   ],
   "source": [
    "try:\n",
    "    div_num = num1/num1\n",
    "    print(f\"your correct answer is {div_num}\")\n",
    "except ZeroDivisionError:\n",
    "    print(\"dont use zero\")\n",
    "\n",
    "except TypeError:\n",
    "    print(\"Please provide an integer number\")"
   ]
  },
  {
   "cell_type": "code",
   "execution_count": 8,
   "metadata": {},
   "outputs": [],
   "source": [
    "import re"
   ]
  },
  {
   "cell_type": "code",
   "execution_count": 12,
   "metadata": {},
   "outputs": [
    {
     "name": "stdout",
     "output_type": "stream",
     "text": [
      "john.doe@example.com\n",
      "user1234@example.com\n",
      "last.first@example.com\n",
      "demo.user@example.com\n",
      "sample.test@example.com\n",
      "anotheruser@example.com\n"
     ]
    }
   ],
   "source": [
    "emails = ['test@example-com', 'firstlast@examplecom', 'test.one@@example.com',\n",
    "              'secondtest@ex#ample.com', 'john.doe@example.com', 'third.testexample.com',\n",
    "              'sample_email@examplecom', 'user1234@example.com', 'alice.bob@ex&ample.com',\n",
    "              'last.first@example.com', 'randomuserexample.com', 'test_two@exam*ple.com',\n",
    "              'demo.user@example.com', 'testthreeexample.com', 'example_user@examplecom',\n",
    "              'sample.test@example.com', 'user.test@examp$le.com', 'test.four @example.com',\n",
    "              'fifth.test@exa!mple.com', 'anotheruser@example.com']\n",
    "\n",
    "pattren = r\"[\\w.]+@\\w+[.]com\"\n",
    "\n",
    "for i in emails:\n",
    "    if re.search(pattren,i):\n",
    "        print(i)"
   ]
  },
  {
   "cell_type": "code",
   "execution_count": 14,
   "metadata": {},
   "outputs": [],
   "source": [
    "email = \"invalid.emai@com\"\n",
    "\n",
    "if re.search(pattren,email):\n",
    "    print(\"ok\")"
   ]
  },
  {
   "cell_type": "code",
   "execution_count": 15,
   "metadata": {},
   "outputs": [
    {
     "name": "stdout",
     "output_type": "stream",
     "text": [
      "ok\n"
     ]
    }
   ],
   "source": [
    "email = \"invalid.emai@com\"\n",
    "\n",
    "if not re.search(pattren,email):\n",
    "    print(\"ok\")"
   ]
  },
  {
   "cell_type": "code",
   "execution_count": 17,
   "metadata": {},
   "outputs": [
    {
     "ename": "ValueError",
     "evalue": "Invalid email id",
     "output_type": "error",
     "traceback": [
      "\u001b[1;31m---------------------------------------------------------------------------\u001b[0m",
      "\u001b[1;31mValueError\u001b[0m                                Traceback (most recent call last)",
      "\u001b[1;32md:\\JUPYTER_NOTEBOOK IN VS CODE\\Data Science Training\\18_AI_Powered_Sol_Error_Handling.ipynb Cell 12\u001b[0m line \u001b[0;36m4\n\u001b[0;32m      <a href='vscode-notebook-cell:/d%3A/JUPYTER_NOTEBOOK%20IN%20VS%20CODE/Data%20Science%20Training/18_AI_Powered_Sol_Error_Handling.ipynb#X15sZmlsZQ%3D%3D?line=0'>1</a>\u001b[0m email \u001b[39m=\u001b[39m \u001b[39m\"\u001b[39m\u001b[39minvalid.emai@com\u001b[39m\u001b[39m\"\u001b[39m\n\u001b[0;32m      <a href='vscode-notebook-cell:/d%3A/JUPYTER_NOTEBOOK%20IN%20VS%20CODE/Data%20Science%20Training/18_AI_Powered_Sol_Error_Handling.ipynb#X15sZmlsZQ%3D%3D?line=2'>3</a>\u001b[0m \u001b[39mif\u001b[39;00m \u001b[39mnot\u001b[39;00m re\u001b[39m.\u001b[39msearch(pattren,email):\n\u001b[1;32m----> <a href='vscode-notebook-cell:/d%3A/JUPYTER_NOTEBOOK%20IN%20VS%20CODE/Data%20Science%20Training/18_AI_Powered_Sol_Error_Handling.ipynb#X15sZmlsZQ%3D%3D?line=3'>4</a>\u001b[0m     \u001b[39mraise\u001b[39;00m \u001b[39mValueError\u001b[39;00m(\u001b[39m\"\u001b[39m\u001b[39mInvalid email id\u001b[39m\u001b[39m\"\u001b[39m)\n",
      "\u001b[1;31mValueError\u001b[0m: Invalid email id"
     ]
    }
   ],
   "source": [
    "email = \"invalid.emai@com\"\n",
    "\n",
    "if not re.search(pattren,email):\n",
    "    raise ValueError(\"Invalid email id\")"
   ]
  },
  {
   "cell_type": "code",
   "execution_count": 20,
   "metadata": {},
   "outputs": [],
   "source": [
    "def Valid_email(email):   \n",
    "    if not re.search(pattren,email):\n",
    "        raise ValueError(\"Invalid email id\")"
   ]
  },
  {
   "cell_type": "code",
   "execution_count": 22,
   "metadata": {},
   "outputs": [
    {
     "ename": "ValueError",
     "evalue": "Invalid email id",
     "output_type": "error",
     "traceback": [
      "\u001b[1;31m---------------------------------------------------------------------------\u001b[0m",
      "\u001b[1;31mValueError\u001b[0m                                Traceback (most recent call last)",
      "\u001b[1;32md:\\JUPYTER_NOTEBOOK IN VS CODE\\Data Science Training\\18_AI_Powered_Sol_Error_Handling.ipynb Cell 14\u001b[0m line \u001b[0;36m1\n\u001b[1;32m----> <a href='vscode-notebook-cell:/d%3A/JUPYTER_NOTEBOOK%20IN%20VS%20CODE/Data%20Science%20Training/18_AI_Powered_Sol_Error_Handling.ipynb#X20sZmlsZQ%3D%3D?line=0'>1</a>\u001b[0m Valid_email(email)\n",
      "\u001b[1;32md:\\JUPYTER_NOTEBOOK IN VS CODE\\Data Science Training\\18_AI_Powered_Sol_Error_Handling.ipynb Cell 14\u001b[0m line \u001b[0;36m3\n\u001b[0;32m      <a href='vscode-notebook-cell:/d%3A/JUPYTER_NOTEBOOK%20IN%20VS%20CODE/Data%20Science%20Training/18_AI_Powered_Sol_Error_Handling.ipynb#X20sZmlsZQ%3D%3D?line=0'>1</a>\u001b[0m \u001b[39mdef\u001b[39;00m \u001b[39mValid_email\u001b[39m(email):   \n\u001b[0;32m      <a href='vscode-notebook-cell:/d%3A/JUPYTER_NOTEBOOK%20IN%20VS%20CODE/Data%20Science%20Training/18_AI_Powered_Sol_Error_Handling.ipynb#X20sZmlsZQ%3D%3D?line=1'>2</a>\u001b[0m     \u001b[39mif\u001b[39;00m \u001b[39mnot\u001b[39;00m re\u001b[39m.\u001b[39msearch(pattren,email):\n\u001b[1;32m----> <a href='vscode-notebook-cell:/d%3A/JUPYTER_NOTEBOOK%20IN%20VS%20CODE/Data%20Science%20Training/18_AI_Powered_Sol_Error_Handling.ipynb#X20sZmlsZQ%3D%3D?line=2'>3</a>\u001b[0m         \u001b[39mraise\u001b[39;00m \u001b[39mValueError\u001b[39;00m(\u001b[39m\"\u001b[39m\u001b[39mInvalid email id\u001b[39m\u001b[39m\"\u001b[39m)\n",
      "\u001b[1;31mValueError\u001b[0m: Invalid email id"
     ]
    }
   ],
   "source": [
    "Valid_email(email)"
   ]
  },
  {
   "cell_type": "code",
   "execution_count": 23,
   "metadata": {},
   "outputs": [
    {
     "name": "stdout",
     "output_type": "stream",
     "text": [
      "Error:Invalid email id\n"
     ]
    }
   ],
   "source": [
    "try:\n",
    "    Valid_email(email)\n",
    "    print(\"You have entered the correct email id \")\n",
    "except ValueError as e:\n",
    "    print(f\"Error:{e}\")\n",
    "    "
   ]
  },
  {
   "cell_type": "code",
   "execution_count": 27,
   "metadata": {},
   "outputs": [
    {
     "name": "stdout",
     "output_type": "stream",
     "text": [
      "Error:Invalid email id\n",
      "Error:Invalid email id\n",
      "Error:Invalid email id\n",
      "Error:Invalid email id\n",
      "You have entered the correct email id\n",
      "Error:Invalid email id\n",
      "Error:Invalid email id\n",
      "You have entered the correct email id\n",
      "Error:Invalid email id\n",
      "You have entered the correct email id\n",
      "Error:Invalid email id\n",
      "Error:Invalid email id\n",
      "You have entered the correct email id\n",
      "Error:Invalid email id\n",
      "Error:Invalid email id\n",
      "You have entered the correct email id\n",
      "Error:Invalid email id\n",
      "Error:Invalid email id\n",
      "Error:Invalid email id\n",
      "You have entered the correct email id\n"
     ]
    }
   ],
   "source": [
    "for email in emails:\n",
    "    try:\n",
    "        Valid_email(email)\n",
    "        print(\"You have entered the correct email id\")\n",
    "        \n",
    "    except ValueError as e:\n",
    "        print(f\"Error:{e}\")"
   ]
  }
 ],
 "metadata": {
  "kernelspec": {
   "display_name": "base",
   "language": "python",
   "name": "python3"
  },
  "language_info": {
   "codemirror_mode": {
    "name": "ipython",
    "version": 3
   },
   "file_extension": ".py",
   "mimetype": "text/x-python",
   "name": "python",
   "nbconvert_exporter": "python",
   "pygments_lexer": "ipython3",
   "version": "3.10.9"
  }
 },
 "nbformat": 4,
 "nbformat_minor": 2
}
