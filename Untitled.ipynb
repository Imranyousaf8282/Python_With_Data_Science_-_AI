{
 "cells": [
  {
   "cell_type": "code",
   "execution_count": null,
   "id": "17cc735f-e8e5-4b30-bc58-d8c85764d577",
   "metadata": {},
   "outputs": [],
   "source": []
  },
  {
   "cell_type": "code",
   "execution_count": null,
   "id": "1cc7f480-338a-4f9d-8064-8e472082d9e2",
   "metadata": {},
   "outputs": [],
   "source": []
  },
  {
   "cell_type": "code",
   "execution_count": null,
   "id": "0323d408-9f3e-4578-997a-daeb2a9c9f41",
   "metadata": {},
   "outputs": [],
   "source": []
  },
  {
   "cell_type": "code",
   "execution_count": null,
   "id": "2610ed76-d65e-4b32-8ce7-59d6e3c10b0f",
   "metadata": {},
   "outputs": [],
   "source": [
    "## def add(a, b):\n",
    "    return a + b\n",
    "\n",
    "def mul(a, b):\n",
    "    return a - b\n",
    "\n",
    "def sub(a, b):\n",
    "    return a * b\n",
    "\n",
    "def div(a, b):\n",
    "    return a / b\n",
    "\n",
    "while True:\n",
    "    choice = input(\"Select your choice:\")\n",
    "\n",
    "    if choice in (\"1\",\"2\",\"3\",\"4\"):\n",
    "        num_1 = float(input(\"Enter your first value:\"))\n",
    "        num_2 = float(input(\"Enter your second value:\"))\n",
    "\n",
    "        if choice == '1':\n",
    "            print(num_1,\"+\",num_2, add(num_1, num_2))\n",
    "\n",
    "        elif choice == '2':\n",
    "            print(num_1,\"-\",num_2, sub(num_1, num_2))\n",
    "\n",
    "        elif choice == '3':\n",
    "            print(num_1,\"*\",num_2, mul(num_1, num_2))\n",
    "\n",
    "        elif choice == '4':\n",
    "            print(num_1,\"/\",num_2, div(num_1, num_2))\n",
    "    else:\n",
    "        print(\"Invalid input\")\n",
    "\n",
    "\n"
   ]
  },
  {
   "cell_type": "code",
   "execution_count": null,
   "id": "33a7a26e-ec98-42f4-a072-aa77163eb30b",
   "metadata": {},
   "outputs": [],
   "source": []
  }
 ],
 "metadata": {
  "kernelspec": {
   "display_name": "Python 3 (ipykernel)",
   "language": "python",
   "name": "python3"
  },
  "language_info": {
   "codemirror_mode": {
    "name": "ipython",
    "version": 3
   },
   "file_extension": ".py",
   "mimetype": "text/x-python",
   "name": "python",
   "nbconvert_exporter": "python",
   "pygments_lexer": "ipython3",
   "version": "3.12.2"
  }
 },
 "nbformat": 4,
 "nbformat_minor": 5
}
