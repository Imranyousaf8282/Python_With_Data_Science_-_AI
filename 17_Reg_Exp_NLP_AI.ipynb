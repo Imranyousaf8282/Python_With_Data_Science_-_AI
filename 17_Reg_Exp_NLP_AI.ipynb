{
 "cells": [
  {
   "cell_type": "markdown",
   "metadata": {},
   "source": [
    "# Regular Expression(Rrgex-- REG-EX) in AI & NLP"
   ]
  },
  {
   "cell_type": "code",
   "execution_count": 1,
   "metadata": {},
   "outputs": [],
   "source": [
    "import re"
   ]
  },
  {
   "cell_type": "code",
   "execution_count": 2,
   "metadata": {},
   "outputs": [],
   "source": [
    "pattren = \"and\"\n",
    "string = \"ahand\""
   ]
  },
  {
   "cell_type": "code",
   "execution_count": 3,
   "metadata": {},
   "outputs": [
    {
     "data": {
      "text/plain": [
       "<re.Match object; span=(2, 5), match='and'>"
      ]
     },
     "execution_count": 3,
     "metadata": {},
     "output_type": "execute_result"
    }
   ],
   "source": [
    "re.search(pattren,string)"
   ]
  },
  {
   "cell_type": "code",
   "execution_count": 5,
   "metadata": {},
   "outputs": [
    {
     "name": "stdout",
     "output_type": "stream",
     "text": [
      "None\n"
     ]
    }
   ],
   "source": [
    "print(re.search(pattren,\"ahnad\"))"
   ]
  },
  {
   "cell_type": "code",
   "execution_count": 6,
   "metadata": {},
   "outputs": [
    {
     "name": "stdout",
     "output_type": "stream",
     "text": [
      "yes it is matched\n"
     ]
    }
   ],
   "source": [
    "if re.search(pattren,string):\n",
    "    print(\"yes it is matched\")\n",
    "else:\n",
    "    print(\"no match\")"
   ]
  },
  {
   "cell_type": "code",
   "execution_count": 9,
   "metadata": {},
   "outputs": [
    {
     "name": "stdout",
     "output_type": "stream",
     "text": [
      "no match\n"
     ]
    }
   ],
   "source": [
    "if re.search(pattren,\"ahnad\"):\n",
    "    print(\"yes it is matched\")\n",
    "else:\n",
    "    print(\"no match\")"
   ]
  },
  {
   "cell_type": "code",
   "execution_count": 11,
   "metadata": {},
   "outputs": [],
   "source": [
    "l = [\"my favourite color is Blue\",\n",
    "     \"His favourite color is red\",\n",
    "     \"ahmad favourite color is blue and red\"]\n",
    "pattren = \"Blue\""
   ]
  },
  {
   "cell_type": "code",
   "execution_count": 13,
   "metadata": {},
   "outputs": [
    {
     "name": "stdout",
     "output_type": "stream",
     "text": [
      "match\n",
      "no match\n",
      "no match\n"
     ]
    }
   ],
   "source": [
    "for i in l:\n",
    "    if re.search(pattren,i):\n",
    "        print(\"match\")\n",
    "    else:\n",
    "        print(\"no match\")"
   ]
  },
  {
   "cell_type": "code",
   "execution_count": 14,
   "metadata": {},
   "outputs": [
    {
     "name": "stdout",
     "output_type": "stream",
     "text": [
      "imra\n",
      "n\n"
     ]
    }
   ],
   "source": [
    "print(\"imra\\nn\")"
   ]
  },
  {
   "cell_type": "code",
   "execution_count": 16,
   "metadata": {},
   "outputs": [
    {
     "name": "stdout",
     "output_type": "stream",
     "text": [
      "imra\\nn\n"
     ]
    }
   ],
   "source": [
    "print(r\"imra\\nn\")"
   ]
  },
  {
   "cell_type": "markdown",
   "metadata": {},
   "source": [
    "## Set []\n",
    "- cry,try"
   ]
  },
  {
   "cell_type": "code",
   "execution_count": 17,
   "metadata": {},
   "outputs": [],
   "source": [
    "pattren = r\"[ct]ry\""
   ]
  },
  {
   "cell_type": "code",
   "execution_count": 18,
   "metadata": {},
   "outputs": [
    {
     "name": "stdout",
     "output_type": "stream",
     "text": [
      "match\n",
      "no match\n",
      "match\n"
     ]
    }
   ],
   "source": [
    "pattren = \"[Bb]lue\"\n",
    "for i in l:\n",
    "    if re.search(pattren,i):\n",
    "        print(\"match\")\n",
    "    else:\n",
    "        print(\"no match\")"
   ]
  },
  {
   "cell_type": "code",
   "execution_count": 19,
   "metadata": {},
   "outputs": [],
   "source": [
    "discount_codes = ['P-49382', 'X-21341', 'P-2827', 'A-45221', 'S-420349', 'M-89321',\n",
    "                 'S-98277', 'D-21312', 'P-73821', 'T-73819', 'Z-29381', 'S23498',\n",
    "                 'R-23789', 'P23123', 'L-21391', 'S-23812', 'W-84321', 'P-98123',\n",
    "                 'Q-34821', 'S-39482']"
   ]
  },
  {
   "cell_type": "code",
   "execution_count": 23,
   "metadata": {},
   "outputs": [
    {
     "name": "stdout",
     "output_type": "stream",
     "text": [
      "P-49382\n",
      "P-2827\n",
      "S-420349\n",
      "S-98277\n",
      "P-73821\n",
      "S-23812\n",
      "P-98123\n",
      "S-39482\n"
     ]
    }
   ],
   "source": [
    "# select code whose starting with P or S ,after P or S print -\n",
    "for c in discount_codes:\n",
    "    if re.search(\"[PS]-\",c):\n",
    "        print(c)"
   ]
  },
  {
   "cell_type": "markdown",
   "metadata": {},
   "source": [
    "## Ranges\n",
    "- [a-d] -> a,b,c,d\n",
    "- [a-s]\n",
    "- [A-Z]\n",
    "- [a-z]\n",
    "- [0-9]\n",
    "- [Az0-Zz9_$]"
   ]
  },
  {
   "cell_type": "markdown",
   "metadata": {},
   "source": [
    "email = \"waqas@gmail.com\"\n",
    "email = \"waqas@hotmail.com\"\n",
    "\n",
    "* `.` everything is included except Newline character `\\n`\n",
    "* `\\w` [Aa0-Zz9_]\n",
    "* `\\d` [0-9]"
   ]
  },
  {
   "cell_type": "markdown",
   "metadata": {},
   "source": [
    "# Quantifiers\n",
    "### numeric quantifiers\n",
    "- a{3} -> the character a three times\n",
    "- a{3,5} -> the character a three,four,five times\n",
    "- a{,3} -> the character a zero,one,two,three times\n",
    "- a{8,} -> the character a eight or more times\n",
    "### Single character quantifier\n",
    "- a* ->{0,}  -> character a zero or more times\n",
    "- a+ ->{0,1}  -> character a one or more  times\n",
    "- a? ->{0,}  -> character a zero or one times\n"
   ]
  },
  {
   "cell_type": "code",
   "execution_count": 34,
   "metadata": {},
   "outputs": [],
   "source": [
    "\"reddddd\",\"redd\",\"red\"\n",
    "pattren = r\"red{1,5}\",r\"red+\" #this patren above str"
   ]
  },
  {
   "cell_type": "code",
   "execution_count": 35,
   "metadata": {},
   "outputs": [],
   "source": [
    "numbers = [\"123-555-7890\", \"9875553210\", \"123-4567-89\", \"123-456-78\", \"156-7890\"]"
   ]
  },
  {
   "cell_type": "code",
   "execution_count": 38,
   "metadata": {},
   "outputs": [
    {
     "name": "stdout",
     "output_type": "stream",
     "text": [
      "123-555-7890\n",
      "9875553210\n"
     ]
    }
   ],
   "source": [
    "pattren = r\"[0-9]{3}-?[0-9]{3}-?[0-9]{4}\"\n",
    "\n",
    "for i in numbers:\n",
    "    if re.search(pattren,i):\n",
    "        print(i)"
   ]
  },
  {
   "cell_type": "code",
   "execution_count": 44,
   "metadata": {},
   "outputs": [
    {
     "name": "stdout",
     "output_type": "stream",
     "text": [
      "123-555-7890\n",
      "9875553210\n"
     ]
    }
   ],
   "source": [
    "# or\n",
    "pattren = r\"\\d{3}-?\\d{3}-?\\d{4}\"\n",
    "for num in numbers:\n",
    "    if re.search(pattren,num):\n",
    "        print(num)"
   ]
  },
  {
   "cell_type": "code",
   "execution_count": 45,
   "metadata": {},
   "outputs": [
    {
     "name": "stdout",
     "output_type": "stream",
     "text": [
      "123-555-7890\n",
      "9875553210\n"
     ]
    }
   ],
   "source": [
    "# or\n",
    "pattren = r\"\\d{3}-{0,1}\\d{3}-{0,1}\\d{4}\"\n",
    "for num in numbers:\n",
    "    if re.search(pattren,num):\n",
    "        print(num)"
   ]
  },
  {
   "cell_type": "code",
   "execution_count": 46,
   "metadata": {},
   "outputs": [],
   "source": [
    "emails = ['test@example-com', 'firstlast@examplecom', 'test.one@@example.com',\n",
    "              'secondtest@ex#ample.com', 'john.doe@example.com', 'third.testexample.com',\n",
    "              'sample_email@examplecom', 'user1234@example.com', 'alice.bob@ex&ample.com',\n",
    "              'last.first@example.com', 'randomuserexample.com', 'test_two@exam*ple.com',\n",
    "              'demo.user@example.com', 'testthreeexample.com', 'example_user@examplecom',\n",
    "              'sample.test@example.com', 'user.test@examp$le.com', 'test.four @example.com',\n",
    "              'fifth.test@exa!mple.com', 'anotheruser@example.com']\n"
   ]
  },
  {
   "cell_type": "code",
   "execution_count": 48,
   "metadata": {},
   "outputs": [
    {
     "name": "stdout",
     "output_type": "stream",
     "text": [
      "test@example-com\n",
      "john.doe@example.com\n",
      "user1234@example.com\n",
      "last.first@example.com\n",
      "demo.user@example.com\n",
      "sample.test@example.com\n",
      "anotheruser@example.com\n"
     ]
    }
   ],
   "source": [
    "pattren = r\"[\\w.]+@example.com\"\n",
    "for i in emails:\n",
    "    if re.search(pattren,i):\n",
    "        print(i)"
   ]
  },
  {
   "cell_type": "code",
   "execution_count": 49,
   "metadata": {},
   "outputs": [
    {
     "name": "stdout",
     "output_type": "stream",
     "text": [
      "john.doe@example.com\n",
      "user1234@example.com\n",
      "last.first@example.com\n",
      "demo.user@example.com\n",
      "sample.test@example.com\n",
      "anotheruser@example.com\n"
     ]
    }
   ],
   "source": [
    "# or\n",
    "pattren = r\"[\\w.]+@example[.]com\"\n",
    "for i in emails:\n",
    "    if re.search(pattren,i):\n",
    "        print(i)"
   ]
  },
  {
   "cell_type": "code",
   "execution_count": 58,
   "metadata": {},
   "outputs": [
    {
     "name": "stdout",
     "output_type": "stream",
     "text": [
      "john.doe@example.com\n",
      "user1234@example.com\n",
      "last.first@example.com\n",
      "demo.user@example.com\n",
      "sample.test@example.com\n",
      "anotheruser@example.com\n"
     ]
    }
   ],
   "source": [
    "# before .com add something\n",
    "pattren = r\"[\\w.]+@\\w+[.]com\"\n",
    "for i in emails:\n",
    "    if re.search(pattren,i):\n",
    "        print(i)"
   ]
  },
  {
   "cell_type": "code",
   "execution_count": 59,
   "metadata": {},
   "outputs": [
    {
     "name": "stdout",
     "output_type": "stream",
     "text": [
      "john.doe@example.com\n",
      "user1234@example.com\n",
      "last.first@example.com\n",
      "demo.user@example.com\n",
      "sample.test@example.com\n",
      "anotheruser@example.com\n"
     ]
    }
   ],
   "source": [
    "# before .com add something\n",
    "pattren = r\"[\\w.]+@\\w+\\.com\"\n",
    "for i in emails:\n",
    "    if re.search(pattren,i):\n",
    "        print(i)"
   ]
  },
  {
   "cell_type": "code",
   "execution_count": 60,
   "metadata": {},
   "outputs": [],
   "source": [
    "emails.append(\"imranyousaf@gmail.com\")"
   ]
  },
  {
   "cell_type": "code",
   "execution_count": 61,
   "metadata": {},
   "outputs": [
    {
     "name": "stdout",
     "output_type": "stream",
     "text": [
      "john.doe@example.com\n",
      "user1234@example.com\n",
      "last.first@example.com\n",
      "demo.user@example.com\n",
      "sample.test@example.com\n",
      "anotheruser@example.com\n",
      "imranyousaf@gmail.com\n"
     ]
    }
   ],
   "source": [
    "# before .com add something\n",
    "pattren = r\"[\\w.]+@\\w+\\.com\"\n",
    "for i in emails:\n",
    "    if re.search(pattren,i):\n",
    "        print(i)"
   ]
  },
  {
   "cell_type": "code",
   "execution_count": 62,
   "metadata": {},
   "outputs": [],
   "source": [
    "emails.append(\"imranyousaf@hotmail.com\")"
   ]
  },
  {
   "cell_type": "code",
   "execution_count": 63,
   "metadata": {},
   "outputs": [
    {
     "name": "stdout",
     "output_type": "stream",
     "text": [
      "john.doe@example.com\n",
      "user1234@example.com\n",
      "last.first@example.com\n",
      "demo.user@example.com\n",
      "sample.test@example.com\n",
      "anotheruser@example.com\n",
      "imranyousaf@gmail.com\n",
      "imranyousaf@hotmail.com\n"
     ]
    }
   ],
   "source": [
    "# before .com add something\n",
    "pattren = r\"[\\w.]+@\\w+\\.com\"\n",
    "for i in emails:\n",
    "    if re.search(pattren,i):\n",
    "        print(i)"
   ]
  },
  {
   "cell_type": "code",
   "execution_count": 64,
   "metadata": {},
   "outputs": [],
   "source": [
    "emails.append(\"waqas@@gmail.com\")"
   ]
  },
  {
   "cell_type": "code",
   "execution_count": 65,
   "metadata": {},
   "outputs": [
    {
     "name": "stdout",
     "output_type": "stream",
     "text": [
      "john.doe@example.com\n",
      "user1234@example.com\n",
      "last.first@example.com\n",
      "demo.user@example.com\n",
      "sample.test@example.com\n",
      "anotheruser@example.com\n",
      "imranyousaf@gmail.com\n",
      "imranyousaf@hotmail.com\n"
     ]
    }
   ],
   "source": [
    "# before .com add something\n",
    "pattren = r\"[\\w.]+@\\w+\\.com\"\n",
    "for i in emails:\n",
    "    if re.search(pattren,i):\n",
    "        print(i)"
   ]
  },
  {
   "cell_type": "code",
   "execution_count": null,
   "metadata": {},
   "outputs": [],
   "source": []
  },
  {
   "cell_type": "code",
   "execution_count": null,
   "metadata": {},
   "outputs": [],
   "source": []
  }
 ],
 "metadata": {
  "kernelspec": {
   "display_name": "base",
   "language": "python",
   "name": "python3"
  },
  "language_info": {
   "codemirror_mode": {
    "name": "ipython",
    "version": 3
   },
   "file_extension": ".py",
   "mimetype": "text/x-python",
   "name": "python",
   "nbconvert_exporter": "python",
   "pygments_lexer": "ipython3",
   "version": "3.10.9"
  }
 },
 "nbformat": 4,
 "nbformat_minor": 2
}
