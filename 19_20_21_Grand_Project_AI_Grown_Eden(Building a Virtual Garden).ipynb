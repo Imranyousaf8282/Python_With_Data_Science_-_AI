{
 "cells": [
  {
   "cell_type": "markdown",
   "metadata": {},
   "source": [
    "### Grand Project Ai_Grown_Eden Building a virtual Garden"
   ]
  },
  {
   "cell_type": "code",
   "execution_count": 67,
   "metadata": {},
   "outputs": [
    {
     "data": {
      "text/plain": [
       "4"
      ]
     },
     "execution_count": 67,
     "metadata": {},
     "output_type": "execute_result"
    }
   ],
   "source": [
    "l = [1,4,5,8,7,6]\n",
    "l.index(7)"
   ]
  },
  {
   "cell_type": "code",
   "execution_count": 68,
   "metadata": {},
   "outputs": [],
   "source": [
    "class Plant:\n",
    "    def __init__(self,name,harvest_yield):\n",
    "        self.name = name\n",
    "        self.harvest_yield = harvest_yield\n",
    "        self.growth_stages = [\"seed\",\"sprout\",\"mature\",\"flower\",\"fruit\",\"harvest_ready\"]\n",
    "        self.current_stage = self.growth_stages[0]\n",
    "        self.harvestable = False\n",
    "\n",
    "    def grow(self):\n",
    "        current_index = self.growth_stages.index(self.current_stage)\n",
    "\n",
    "        if current_index < len(self.growth_stages)-1:\n",
    "            self.current_stage = self.growth_stages[current_index+1]\n",
    "            if self.current_stage == self.growth_stages[-1]:\n",
    "                self.harvestable = True\n",
    "        elif self.current_stage == self.growth_stages[-1]:\n",
    "            print(f\"Your {self.name} is fully grown\")\n",
    "\n",
    "    def harvest(self):\n",
    "        if self.harvestable:\n",
    "            self.harvestable = False\n",
    "            return self.harvest_yield\n",
    "        else:\n",
    "            print(f\"Your {self.name} is not harvestable\")\n",
    "    \n",
    "\n",
    "        \n"
   ]
  },
  {
   "cell_type": "code",
   "execution_count": 69,
   "metadata": {},
   "outputs": [],
   "source": [
    "tomato = Plant(\"tomato\",10)"
   ]
  },
  {
   "cell_type": "code",
   "execution_count": 70,
   "metadata": {},
   "outputs": [
    {
     "name": "stdout",
     "output_type": "stream",
     "text": [
      "Your tomato is not harvestable\n"
     ]
    }
   ],
   "source": [
    "tomato.harvest()"
   ]
  },
  {
   "cell_type": "code",
   "execution_count": 71,
   "metadata": {},
   "outputs": [
    {
     "data": {
      "text/plain": [
       "'seed'"
      ]
     },
     "execution_count": 71,
     "metadata": {},
     "output_type": "execute_result"
    }
   ],
   "source": [
    "tomato.current_stage"
   ]
  },
  {
   "cell_type": "code",
   "execution_count": 72,
   "metadata": {},
   "outputs": [
    {
     "data": {
      "text/plain": [
       "'sprout'"
      ]
     },
     "execution_count": 72,
     "metadata": {},
     "output_type": "execute_result"
    }
   ],
   "source": [
    "tomato.grow()\n",
    "tomato.current_stage"
   ]
  },
  {
   "cell_type": "code",
   "execution_count": 73,
   "metadata": {},
   "outputs": [
    {
     "data": {
      "text/plain": [
       "'mature'"
      ]
     },
     "execution_count": 73,
     "metadata": {},
     "output_type": "execute_result"
    }
   ],
   "source": [
    "tomato.grow()\n",
    "tomato.current_stage"
   ]
  },
  {
   "cell_type": "code",
   "execution_count": 74,
   "metadata": {},
   "outputs": [
    {
     "data": {
      "text/plain": [
       "'flower'"
      ]
     },
     "execution_count": 74,
     "metadata": {},
     "output_type": "execute_result"
    }
   ],
   "source": [
    "tomato.grow()\n",
    "tomato.current_stage"
   ]
  },
  {
   "cell_type": "code",
   "execution_count": 75,
   "metadata": {},
   "outputs": [
    {
     "data": {
      "text/plain": [
       "'fruit'"
      ]
     },
     "execution_count": 75,
     "metadata": {},
     "output_type": "execute_result"
    }
   ],
   "source": [
    "tomato.grow()\n",
    "tomato.current_stage"
   ]
  },
  {
   "cell_type": "code",
   "execution_count": 76,
   "metadata": {},
   "outputs": [
    {
     "data": {
      "text/plain": [
       "'harvest_ready'"
      ]
     },
     "execution_count": 76,
     "metadata": {},
     "output_type": "execute_result"
    }
   ],
   "source": [
    "tomato.grow()\n",
    "tomato.current_stage"
   ]
  },
  {
   "cell_type": "code",
   "execution_count": 77,
   "metadata": {},
   "outputs": [
    {
     "name": "stdout",
     "output_type": "stream",
     "text": [
      "Your tomato is fully grown\n"
     ]
    },
    {
     "data": {
      "text/plain": [
       "'harvest_ready'"
      ]
     },
     "execution_count": 77,
     "metadata": {},
     "output_type": "execute_result"
    }
   ],
   "source": [
    "tomato.grow()\n",
    "tomato.current_stage"
   ]
  },
  {
   "cell_type": "code",
   "execution_count": 78,
   "metadata": {},
   "outputs": [
    {
     "data": {
      "text/plain": [
       "10"
      ]
     },
     "execution_count": 78,
     "metadata": {},
     "output_type": "execute_result"
    }
   ],
   "source": [
    "tomato.harvest()"
   ]
  },
  {
   "cell_type": "markdown",
   "metadata": {},
   "source": [
    "## Part 2\n",
    "### Virtual Garden"
   ]
  },
  {
   "cell_type": "code",
   "execution_count": 79,
   "metadata": {},
   "outputs": [],
   "source": [
    "class Plant:\n",
    "    def __init__(self,name,harvest_yield):\n",
    "        self.name = name\n",
    "        self.harvest_yield = harvest_yield\n",
    "        self.growth_stages = [\"seed\",\"sprout\",\"mature\",\"flower\",\"fruit\",\"harvest_ready\"]\n",
    "        self.current_stage = self.growth_stages[0]\n",
    "        self.harvestable = False\n",
    "\n",
    "    def grow(self):\n",
    "        current_index = self.growth_stages.index(self.current_stage)\n",
    "\n",
    "        if current_index < len(self.growth_stages)-1:\n",
    "            self.current_stage = self.growth_stages[current_index+1]\n",
    "            if self.current_stage == self.growth_stages[-1]:\n",
    "                self.harvestable = True\n",
    "        elif self.current_stage == self.growth_stages[-1]:\n",
    "            print(f\"Your {self.name} is fully grown\")\n",
    "\n",
    "    def harvest(self):\n",
    "        if self.harvestable:\n",
    "            self.harvestable = False\n",
    "            return self.harvest_yield\n",
    "        else:\n",
    "            print(f\"Your {self.name} is not harvestable\")\n",
    "    \n",
    "\n",
    "        \n"
   ]
  },
  {
   "cell_type": "code",
   "execution_count": 80,
   "metadata": {},
   "outputs": [],
   "source": [
    "# class Tomato(Plant):\n",
    "#     def __init__(self,name,harvest_yield):\n",
    "#         super().__init__(name,harvest_yield)\n",
    "\n",
    "\n",
    "\n",
    "class Tomato(Plant):\n",
    "    def __init__(self):\n",
    "        super().__init__(\"Tomato\",10)\n",
    "\n",
    "class Potato(Plant):\n",
    "    def __init__(self):\n",
    "        super().__init__(\"Potato\",10)\n",
    "        self.growth_stages = [\"seed\",\"sprout\",\"mature\",\"harvest_ready\"]\n",
    "\n",
    "class Carrot(Plant):\n",
    "    def __init__(self):\n",
    "        super().__init__(\"Carrot\",10)\n",
    "        self.growth_stages = [\"seed\",\"sprout\",\"mature\",\"harvest_ready\"]"
   ]
  },
  {
   "cell_type": "code",
   "execution_count": 81,
   "metadata": {},
   "outputs": [],
   "source": [
    "import random\n",
    "\n",
    "seeds = [\"tomato\",\"potato\",\"carrot\"]\n",
    "# random.choice(seeds)"
   ]
  },
  {
   "cell_type": "code",
   "execution_count": 82,
   "metadata": {},
   "outputs": [],
   "source": [
    "class Gardner:\n",
    "    \"\"\"Represent Gardner who can plant and harvest plant.\"\"\"\n",
    "    def __init__(self,name):\n",
    "        self.name = name\n",
    "        self.inventory = {} # seed name and quantity\n",
    "\n",
    "    def get_seed(self):\n",
    "        seed = random.choice(seeds)\n",
    "\n",
    "        if seed not in self.inventory:\n",
    "            self.inventory[seed] = 1\n",
    "        else:\n",
    "            self.inventory[seed] += 1\n",
    "        print(f\"{self.name} has found the {seed}\")\n",
    "\n",
    "    def plant(self):\n",
    "        pass"
   ]
  },
  {
   "cell_type": "code",
   "execution_count": 83,
   "metadata": {},
   "outputs": [
    {
     "data": {
      "text/plain": [
       "['tomato', 'Potato', 'Carrot']"
      ]
     },
     "execution_count": 83,
     "metadata": {},
     "output_type": "execute_result"
    }
   ],
   "source": [
    "inventory = {\"tomato\":5,\"Potato\":9,\"Carrot\":7}\n",
    "\n",
    "inventory.keys()\n",
    "\n",
    "list(inventory.keys())"
   ]
  },
  {
   "cell_type": "code",
   "execution_count": 84,
   "metadata": {},
   "outputs": [
    {
     "data": {
      "text/plain": [
       "9"
      ]
     },
     "execution_count": 84,
     "metadata": {},
     "output_type": "execute_result"
    }
   ],
   "source": [
    "inventory[\"Potato\"]"
   ]
  },
  {
   "cell_type": "code",
   "execution_count": 85,
   "metadata": {},
   "outputs": [],
   "source": [
    "def select_seed(items): # here items will replace an inventory dict\n",
    "    item_list = list(items.keys())\n",
    "    \n",
    "    for i in range(len(item_list)):\n",
    "        item_name = item_list[i]\n",
    "        print(f\"{i+1}.{item_name}\")"
   ]
  },
  {
   "cell_type": "code",
   "execution_count": 86,
   "metadata": {},
   "outputs": [
    {
     "name": "stdout",
     "output_type": "stream",
     "text": [
      "1.tomato\n",
      "2.Potato\n",
      "3.Carrot\n"
     ]
    }
   ],
   "source": [
    "select_seed(inventory)"
   ]
  },
  {
   "cell_type": "code",
   "execution_count": 87,
   "metadata": {},
   "outputs": [],
   "source": [
    "def select_seed(items): # here items will replace an inventory dict\n",
    "    item_list = list(items.keys())\n",
    "    \n",
    "    for i in range(len(item_list)):\n",
    "        item_name = item_list[i]\n",
    "        print(f\"{i+1}.{item_name}\")\n",
    "\n",
    "    while True:\n",
    "        user_input = input(\"Select your seed! number\")\n",
    "        try:\n",
    "            user_input = int(user_input)\n",
    "            if 0<user_input <= len(item_list):\n",
    "               return item_list[user_input -1]\n",
    "        \n",
    "            else:\n",
    "               print(\"Invalid user_input\")\n",
    "        except:\n",
    "            print(\"Invalid user_input\")"
   ]
  },
  {
   "cell_type": "code",
   "execution_count": 88,
   "metadata": {},
   "outputs": [
    {
     "name": "stdout",
     "output_type": "stream",
     "text": [
      "1.tomato\n",
      "2.Potato\n",
      "3.Carrot\n",
      "Invalid user_input\n",
      "Invalid user_input\n"
     ]
    },
    {
     "data": {
      "text/plain": [
       "'Carrot'"
      ]
     },
     "execution_count": 88,
     "metadata": {},
     "output_type": "execute_result"
    }
   ],
   "source": [
    "select_seed(inventory)"
   ]
  },
  {
   "cell_type": "code",
   "execution_count": 94,
   "metadata": {},
   "outputs": [],
   "source": [
    "class Gardner:\n",
    "    \"\"\"Represent Gardner who can plant and harvest plant.\"\"\"\n",
    "\n",
    "    plant_dict = {\"tomato\":Tomato,\"potato\":Potato,\"carrot\":Carrot}\n",
    "    def __init__(self,name):\n",
    "        self.name = name\n",
    "        self.inventory = {} # seed name and quantity\n",
    "        self.planted_plant = []\n",
    "\n",
    "    def get_seed(self):\n",
    "        seed = random.choice(seeds)\n",
    "\n",
    "        if seed not in self.inventory:\n",
    "            self.inventory[seed] = 1\n",
    "        else:\n",
    "            self.inventory[seed] += 1\n",
    "        print(f\"{self.name} has found the {seed}\")\n",
    "\n",
    "    def plant(self):\n",
    "        selected_plant = select_seed(self.inventory)\n",
    "\n",
    "        if selected_plant in self.inventory and self.inventory[selected_plant] > 0:\n",
    "            self.inventory[selected_plant] -= 1\n",
    "\n",
    "            if self.inventory[selected_plant] == 0:\n",
    "               del self.inventory[selected_plant]\n",
    "            new_plant = self.plant_dict[selected_plant]()\n",
    "\n",
    "            self.planted_plant.append(new_plant)\n",
    "            print(f\"{self.name} has planted a {selected_plant} plant!\")\n",
    "        else:\n",
    "            print(f\"{self.name} does not have any {selected_plant} plant!\")\n"
   ]
  },
  {
   "cell_type": "code",
   "execution_count": 95,
   "metadata": {},
   "outputs": [],
   "source": [
    "imran = Gardner(\"imran\")\n"
   ]
  },
  {
   "cell_type": "code",
   "execution_count": 96,
   "metadata": {},
   "outputs": [
    {
     "data": {
      "text/plain": [
       "{}"
      ]
     },
     "execution_count": 96,
     "metadata": {},
     "output_type": "execute_result"
    }
   ],
   "source": [
    "imran.inventory"
   ]
  },
  {
   "cell_type": "code",
   "execution_count": 97,
   "metadata": {},
   "outputs": [
    {
     "data": {
      "text/plain": [
       "[]"
      ]
     },
     "execution_count": 97,
     "metadata": {},
     "output_type": "execute_result"
    }
   ],
   "source": [
    "imran.planted_plant"
   ]
  },
  {
   "cell_type": "code",
   "execution_count": 98,
   "metadata": {},
   "outputs": [
    {
     "name": "stdout",
     "output_type": "stream",
     "text": [
      "imran has found the carrot\n"
     ]
    }
   ],
   "source": [
    "imran.get_seed()"
   ]
  },
  {
   "cell_type": "code",
   "execution_count": 99,
   "metadata": {},
   "outputs": [
    {
     "data": {
      "text/plain": [
       "{'carrot': 1}"
      ]
     },
     "execution_count": 99,
     "metadata": {},
     "output_type": "execute_result"
    }
   ],
   "source": [
    "imran.inventory"
   ]
  },
  {
   "cell_type": "code",
   "execution_count": 100,
   "metadata": {},
   "outputs": [
    {
     "name": "stdout",
     "output_type": "stream",
     "text": [
      "imran has found the tomato\n"
     ]
    }
   ],
   "source": [
    "imran.get_seed()"
   ]
  },
  {
   "cell_type": "code",
   "execution_count": 101,
   "metadata": {},
   "outputs": [
    {
     "name": "stdout",
     "output_type": "stream",
     "text": [
      "imran has found the potato\n"
     ]
    }
   ],
   "source": [
    "imran.get_seed()"
   ]
  },
  {
   "cell_type": "code",
   "execution_count": 102,
   "metadata": {},
   "outputs": [
    {
     "name": "stdout",
     "output_type": "stream",
     "text": [
      "imran has found the tomato\n"
     ]
    }
   ],
   "source": [
    "imran.get_seed()"
   ]
  },
  {
   "cell_type": "code",
   "execution_count": 103,
   "metadata": {},
   "outputs": [
    {
     "data": {
      "text/plain": [
       "{'carrot': 1, 'tomato': 2, 'potato': 1}"
      ]
     },
     "execution_count": 103,
     "metadata": {},
     "output_type": "execute_result"
    }
   ],
   "source": [
    "imran.inventory"
   ]
  },
  {
   "cell_type": "code",
   "execution_count": 104,
   "metadata": {},
   "outputs": [
    {
     "data": {
      "text/plain": [
       "[]"
      ]
     },
     "execution_count": 104,
     "metadata": {},
     "output_type": "execute_result"
    }
   ],
   "source": [
    "imran.planted_plant"
   ]
  },
  {
   "cell_type": "code",
   "execution_count": 105,
   "metadata": {},
   "outputs": [
    {
     "name": "stdout",
     "output_type": "stream",
     "text": [
      "1.carrot\n",
      "2.tomato\n",
      "3.potato\n",
      "Invalid user_input\n",
      "imran has planted a potato plant!\n"
     ]
    }
   ],
   "source": [
    "imran.plant()"
   ]
  },
  {
   "cell_type": "code",
   "execution_count": 108,
   "metadata": {},
   "outputs": [
    {
     "data": {
      "text/plain": [
       "[<__main__.Potato at 0x15dec8a7d30>]"
      ]
     },
     "execution_count": 108,
     "metadata": {},
     "output_type": "execute_result"
    }
   ],
   "source": [
    "imran.planted_plant"
   ]
  },
  {
   "cell_type": "code",
   "execution_count": 109,
   "metadata": {},
   "outputs": [
    {
     "data": {
      "text/plain": [
       "{'carrot': 1, 'tomato': 2}"
      ]
     },
     "execution_count": 109,
     "metadata": {},
     "output_type": "execute_result"
    }
   ],
   "source": [
    "imran.inventory"
   ]
  },
  {
   "cell_type": "markdown",
   "metadata": {},
   "source": [
    "# Final Part Virtual Garden"
   ]
  },
  {
   "cell_type": "code",
   "execution_count": 1,
   "metadata": {},
   "outputs": [],
   "source": [
    "class Plant:\n",
    "    def __init__(self,name,harvest_yield):\n",
    "        self.name = name\n",
    "        self.harvest_yield = harvest_yield\n",
    "        self.growth_stages = [\"seed\",\"sprout\",\"mature\",\"flower\",\"fruit\",\"harvest_ready\"]\n",
    "        self.current_stage = self.growth_stages[0]\n",
    "        self.harvestable = False\n",
    "\n",
    "    def grow(self):\n",
    "        current_index = self.growth_stages.index(self.current_stage)\n",
    "\n",
    "        if current_index < len(self.growth_stages)-1:\n",
    "            self.current_stage = self.growth_stages[current_index+1]\n",
    "            if self.current_stage == self.growth_stages[-1]:\n",
    "                self.harvestable = True\n",
    "        elif self.current_stage == self.growth_stages[-1]:\n",
    "            print(f\"Your {self.name} is fully grown\")\n",
    "\n",
    "    def harvest(self):\n",
    "        if self.harvestable:\n",
    "            self.harvestable = False\n",
    "            return self.harvest_yield\n",
    "        else:\n",
    "            print(f\"Your {self.name} is not harvestable\")\n",
    "    \n",
    "\n",
    "        \n"
   ]
  },
  {
   "cell_type": "code",
   "execution_count": 2,
   "metadata": {},
   "outputs": [],
   "source": [
    "# class Tomato(Plant):\n",
    "#     def __init__(self,name,harvest_yield):\n",
    "#         super().__init__(name,harvest_yield)\n",
    "\n",
    "\n",
    "\n",
    "class Tomato(Plant):\n",
    "    def __init__(self):\n",
    "        super().__init__(\"Tomato\",10)\n",
    "\n",
    "class Potato(Plant):\n",
    "    def __init__(self):\n",
    "        super().__init__(\"Potato\",10)\n",
    "        self.growth_stages = [\"seed\",\"sprout\",\"mature\",\"harvest_ready\"]\n",
    "\n",
    "class Carrot(Plant):\n",
    "    def __init__(self):\n",
    "        super().__init__(\"Carrot\",10)\n",
    "        self.growth_stages = [\"seed\",\"sprout\",\"mature\",\"harvest_ready\"]"
   ]
  },
  {
   "cell_type": "code",
   "execution_count": 3,
   "metadata": {},
   "outputs": [],
   "source": [
    "import random\n",
    "\n",
    "seeds = [\"tomato\",\"potato\",\"carrot\"]\n",
    "# random.choice(seeds)"
   ]
  },
  {
   "cell_type": "code",
   "execution_count": 4,
   "metadata": {},
   "outputs": [],
   "source": [
    "def select_seed(items): # here items will replace an inventory dict\n",
    "    item_list = list(items.keys())\n",
    "    \n",
    "    for i in range(len(item_list)):\n",
    "        item_name = item_list[i]\n",
    "        print(f\"{i+1}.{item_name}\")\n",
    "\n",
    "    while True:\n",
    "        user_input = input(\"Select your seed! number\")\n",
    "        try:\n",
    "            user_input = int(user_input)\n",
    "            if 0<user_input <= len(item_list):\n",
    "               return item_list[user_input -1]\n",
    "        \n",
    "            else:\n",
    "               print(\"Invalid user_input\")\n",
    "        except:\n",
    "            print(\"Invalid user_input\")"
   ]
  },
  {
   "cell_type": "code",
   "execution_count": 7,
   "metadata": {},
   "outputs": [],
   "source": [
    "class Gardener:\n",
    "    \"\"\"Represent Gardner who can plant and harvest plant.\"\"\"\n",
    "\n",
    "    plant_dict = {\"tomato\":Tomato,\"potato\":Potato,\"carrot\":Carrot}\n",
    "    def __init__(self,name):\n",
    "        self.name = name\n",
    "        self.inventory = {} # seed name and quantity\n",
    "        self.planted_plants = []\n",
    "\n",
    "    def get_seed(self):\n",
    "        seed = random.choice(seeds)\n",
    "\n",
    "        if seed not in self.inventory:\n",
    "            self.inventory[seed] = 1\n",
    "        else:\n",
    "            self.inventory[seed] += 1\n",
    "        print(f\"{self.name} has found the {seed}\")\n",
    "\n",
    "    def plant(self):\n",
    "        selected_plant = select_seed(self.inventory)\n",
    "\n",
    "        if selected_plant in self.inventory and self.inventory[selected_plant] > 0:\n",
    "            self.inventory[selected_plant] -= 1\n",
    "\n",
    "            if self.inventory[selected_plant] == 0:\n",
    "               del self.inventory[selected_plant]\n",
    "            new_plant = self.plant_dict[selected_plant]()\n",
    "\n",
    "            self.planted_plants.append(new_plant)\n",
    "            print(f\"{self.name} has planted a {selected_plant} plant!\")\n",
    "        else:\n",
    "            print(f\"{self.name} does not have any {selected_plant} plant!\")\n",
    "    \n",
    "    def tend(self):\n",
    "        for plant in self.planted_plants:\n",
    "            if not plant.harvestable:\n",
    "                plant.grow()\n",
    "                print(f\"{plant.name} is now on a {plant.current_stage} stage!\")\n",
    "            else:\n",
    "                print(f\"{plant.name} is ready to harvestable!\")\n",
    "\n"
   ]
  },
  {
   "cell_type": "code",
   "execution_count": 8,
   "metadata": {},
   "outputs": [],
   "source": [
    "imran = Gardener(\"imran\")"
   ]
  },
  {
   "cell_type": "code",
   "execution_count": 9,
   "metadata": {},
   "outputs": [
    {
     "name": "stdout",
     "output_type": "stream",
     "text": [
      "imran has found the tomato\n"
     ]
    }
   ],
   "source": [
    "imran.get_seed()"
   ]
  },
  {
   "cell_type": "code",
   "execution_count": 10,
   "metadata": {},
   "outputs": [
    {
     "data": {
      "text/plain": [
       "{'tomato': 1}"
      ]
     },
     "execution_count": 10,
     "metadata": {},
     "output_type": "execute_result"
    }
   ],
   "source": [
    "imran.inventory"
   ]
  },
  {
   "cell_type": "code",
   "execution_count": 12,
   "metadata": {},
   "outputs": [
    {
     "name": "stdout",
     "output_type": "stream",
     "text": [
      "imran has found the carrot\n"
     ]
    }
   ],
   "source": [
    "imran.get_seed()"
   ]
  },
  {
   "cell_type": "code",
   "execution_count": 13,
   "metadata": {},
   "outputs": [
    {
     "data": {
      "text/plain": [
       "{'tomato': 1, 'carrot': 1}"
      ]
     },
     "execution_count": 13,
     "metadata": {},
     "output_type": "execute_result"
    }
   ],
   "source": [
    "imran.inventory"
   ]
  },
  {
   "cell_type": "code",
   "execution_count": 15,
   "metadata": {},
   "outputs": [
    {
     "name": "stdout",
     "output_type": "stream",
     "text": [
      "1.tomato\n",
      "2.carrot\n",
      "imran has planted a carrot plant!\n"
     ]
    }
   ],
   "source": [
    "imran.plant()"
   ]
  },
  {
   "cell_type": "code",
   "execution_count": 16,
   "metadata": {},
   "outputs": [
    {
     "name": "stdout",
     "output_type": "stream",
     "text": [
      "Carrot is now on a sprout stage!\n"
     ]
    }
   ],
   "source": [
    "imran.tend()"
   ]
  },
  {
   "cell_type": "code",
   "execution_count": 17,
   "metadata": {},
   "outputs": [
    {
     "name": "stdout",
     "output_type": "stream",
     "text": [
      "Carrot is now on a mature stage!\n"
     ]
    }
   ],
   "source": [
    "imran.tend()"
   ]
  },
  {
   "cell_type": "code",
   "execution_count": 18,
   "metadata": {},
   "outputs": [
    {
     "name": "stdout",
     "output_type": "stream",
     "text": [
      "Carrot is now on a harvest_ready stage!\n"
     ]
    }
   ],
   "source": [
    "imran.tend()"
   ]
  },
  {
   "cell_type": "code",
   "execution_count": 19,
   "metadata": {},
   "outputs": [
    {
     "name": "stdout",
     "output_type": "stream",
     "text": [
      "Carrot is ready to harvestable!\n"
     ]
    }
   ],
   "source": [
    "imran.tend()"
   ]
  },
  {
   "cell_type": "code",
   "execution_count": null,
   "metadata": {},
   "outputs": [],
   "source": [
    "class Gardener:\n",
    "    \"\"\"Represent Gardner who can plant and harvest plant.\"\"\"\n",
    "\n",
    "    plant_dict = {\"tomato\":Tomato,\"potato\":Potato,\"carrot\":Carrot}\n",
    "    def __init__(self,name):\n",
    "        self.name = name\n",
    "        self.inventory = {} # seed name and quantity\n",
    "        self.planted_plants = []\n",
    "\n",
    "    def get_seed(self):\n",
    "        seed = random.choice(seeds)\n",
    "\n",
    "        if seed not in self.inventory:\n",
    "            self.inventory[seed] = 1\n",
    "        else:\n",
    "            self.inventory[seed] += 1\n",
    "        print(f\"{self.name} has found the {seed}\")\n",
    "\n",
    "    def plant(self):\n",
    "        selected_plant = select_seed(self.inventory)\n",
    "\n",
    "        if selected_plant in self.inventory and self.inventory[selected_plant] > 0:\n",
    "            self.inventory[selected_plant] -= 1\n",
    "\n",
    "            if self.inventory[selected_plant] == 0:\n",
    "               del self.inventory[selected_plant]\n",
    "            new_plant = self.plant_dict[selected_plant]()\n",
    "\n",
    "            self.planted_plants.append(new_plant)\n",
    "            print(f\"{self.name} has planted a {selected_plant} plant!\")\n",
    "        else:\n",
    "            print(f\"{self.name} does not have any {selected_plant} plant!\")\n",
    "    \n",
    "    def tend(self):\n",
    "        for plant in self.planted_plants:\n",
    "            if not plant.harvestable:\n",
    "                plant.grow()\n",
    "                print(f\"{plant.name} is now on a {plant.current_stage} stage!\")\n",
    "            else:\n",
    "                print(f\"{plant.name} is ready to harvestable!\")\n",
    "    \n",
    "    def harvest(self):\n",
    "        pass\n"
   ]
  },
  {
   "cell_type": "code",
   "execution_count": 21,
   "metadata": {},
   "outputs": [],
   "source": [
    "def select_items(items): # here items will replace an inventory dict\n",
    "    if type(items) == dict:\n",
    "        item_list = list(items.keys()) # tomato,potato,carrot\n",
    "    \n",
    "    elif type(items) == list:\n",
    "        item_list = items # Potato(),Tomato()\n",
    "    \n",
    "    for i in range(len(item_list)):\n",
    "        try:\n",
    "            item_name = item_list[i].name\n",
    "        except:\n",
    "           item_name = item_list[i]\n",
    "        print(f\"{i+1}.{item_name}\")\n",
    "\n",
    "    print()\n",
    "    while True:\n",
    "        user_input = input(\"Select your seed! number\")\n",
    "        try:\n",
    "            user_input = int(user_input)\n",
    "            if 0<user_input <= len(item_list):\n",
    "               return item_list[user_input -1]\n",
    "        \n",
    "            else:\n",
    "               print(\"Invalid user_input\")\n",
    "        except:\n",
    "            print(\"Invalid user_input\")"
   ]
  },
  {
   "cell_type": "code",
   "execution_count": 22,
   "metadata": {},
   "outputs": [],
   "source": [
    "class Gardener:\n",
    "    \"\"\"Represent Gardner who can plant and harvest plant.\"\"\"\n",
    "\n",
    "    plant_dict = {\"tomato\":Tomato,\"potato\":Potato,\"carrot\":Carrot}\n",
    "    def __init__(self,name):\n",
    "        self.name = name\n",
    "        self.inventory = {} # seed name and quantity\n",
    "        self.planted_plants = []\n",
    "\n",
    "    def get_seed(self):\n",
    "        seed = random.choice(seeds)\n",
    "\n",
    "        if seed not in self.inventory:\n",
    "            self.inventory[seed] = 1\n",
    "        else:\n",
    "            self.inventory[seed] += 1\n",
    "        print(f\"{self.name} has found the {seed}\")\n",
    "\n",
    "    def plant(self):\n",
    "        selected_plant = select_seed(self.inventory)\n",
    "\n",
    "        if selected_plant in self.inventory and self.inventory[selected_plant] > 0:\n",
    "            self.inventory[selected_plant] -= 1\n",
    "\n",
    "            if self.inventory[selected_plant] == 0:\n",
    "               del self.inventory[selected_plant]\n",
    "            new_plant = self.plant_dict[selected_plant]()\n",
    "\n",
    "            self.planted_plants.append(new_plant)\n",
    "            print(f\"{self.name} has planted a {selected_plant} plant!\")\n",
    "        else:\n",
    "            print(f\"{self.name} does not have any {selected_plant} plant!\")\n",
    "    \n",
    "    def tend(self):\n",
    "        for plant in self.planted_plants:\n",
    "            if not plant.harvestable:\n",
    "                plant.grow()\n",
    "                print(f\"{plant.name} is now on a {plant.current_stage} stage!\")\n",
    "            else:\n",
    "                print(f\"{plant.name} is ready to harvestable!\")\n",
    "    \n",
    "    def harvest(self):\n",
    "        selected_plant = select_items(self.planted_plants)\n",
    "        if selected_plant.harvestable == True:\n",
    "            if selected_plant.name not in self.inventory:\n",
    "                self.inventory[selected_plant.name] = selected_plant.harvest()\n",
    "            else:\n",
    "                self.inventory[selected_plant.name] += selected_plant.harvest()\n",
    "            print(f\"You have harvested {selected_plant.name}\")\n",
    "            self.planted_plants.remove(selected_plant)\n",
    "\n",
    "        else:\n",
    "            print(f\"You can't harvested {selected_plant.name}\")\n",
    "\n",
    "\n",
    "\n",
    "\n"
   ]
  },
  {
   "cell_type": "code",
   "execution_count": 34,
   "metadata": {},
   "outputs": [],
   "source": [
    "imran = Gardener(\"imran\")"
   ]
  },
  {
   "cell_type": "code",
   "execution_count": 35,
   "metadata": {},
   "outputs": [
    {
     "name": "stdout",
     "output_type": "stream",
     "text": [
      "imran has found the tomato\n"
     ]
    }
   ],
   "source": [
    "imran.get_seed()"
   ]
  },
  {
   "cell_type": "code",
   "execution_count": 36,
   "metadata": {},
   "outputs": [
    {
     "name": "stdout",
     "output_type": "stream",
     "text": [
      "imran has found the potato\n"
     ]
    }
   ],
   "source": [
    "imran.get_seed()"
   ]
  },
  {
   "cell_type": "code",
   "execution_count": 37,
   "metadata": {},
   "outputs": [
    {
     "name": "stdout",
     "output_type": "stream",
     "text": [
      "imran has found the tomato\n"
     ]
    }
   ],
   "source": [
    "imran.get_seed()"
   ]
  },
  {
   "cell_type": "code",
   "execution_count": 38,
   "metadata": {},
   "outputs": [
    {
     "data": {
      "text/plain": [
       "{'tomato': 2, 'potato': 1}"
      ]
     },
     "execution_count": 38,
     "metadata": {},
     "output_type": "execute_result"
    }
   ],
   "source": [
    "imran.inventory"
   ]
  },
  {
   "cell_type": "code",
   "execution_count": 39,
   "metadata": {},
   "outputs": [
    {
     "name": "stdout",
     "output_type": "stream",
     "text": [
      "1.tomato\n",
      "2.potato\n",
      "imran has planted a tomato plant!\n"
     ]
    }
   ],
   "source": [
    "imran.plant()"
   ]
  },
  {
   "cell_type": "code",
   "execution_count": 40,
   "metadata": {},
   "outputs": [
    {
     "name": "stdout",
     "output_type": "stream",
     "text": [
      "1.tomato\n",
      "2.potato\n",
      "imran has planted a potato plant!\n"
     ]
    }
   ],
   "source": [
    "imran.plant()"
   ]
  },
  {
   "cell_type": "code",
   "execution_count": 41,
   "metadata": {},
   "outputs": [
    {
     "name": "stdout",
     "output_type": "stream",
     "text": [
      "1.tomato\n",
      "imran has planted a tomato plant!\n"
     ]
    }
   ],
   "source": [
    "imran.plant()"
   ]
  },
  {
   "cell_type": "code",
   "execution_count": 42,
   "metadata": {},
   "outputs": [
    {
     "data": {
      "text/plain": [
       "{}"
      ]
     },
     "execution_count": 42,
     "metadata": {},
     "output_type": "execute_result"
    }
   ],
   "source": [
    "imran.inventory"
   ]
  },
  {
   "cell_type": "code",
   "execution_count": 43,
   "metadata": {},
   "outputs": [
    {
     "name": "stdout",
     "output_type": "stream",
     "text": [
      "Tomato is now on a sprout stage!\n",
      "Potato is now on a sprout stage!\n",
      "Tomato is now on a sprout stage!\n"
     ]
    }
   ],
   "source": [
    "imran.tend()"
   ]
  },
  {
   "cell_type": "code",
   "execution_count": 44,
   "metadata": {},
   "outputs": [
    {
     "name": "stdout",
     "output_type": "stream",
     "text": [
      "Tomato is now on a mature stage!\n",
      "Potato is now on a mature stage!\n",
      "Tomato is now on a mature stage!\n"
     ]
    }
   ],
   "source": [
    "imran.tend()"
   ]
  },
  {
   "cell_type": "code",
   "execution_count": 45,
   "metadata": {},
   "outputs": [
    {
     "name": "stdout",
     "output_type": "stream",
     "text": [
      "Tomato is now on a flower stage!\n",
      "Potato is now on a harvest_ready stage!\n",
      "Tomato is now on a flower stage!\n"
     ]
    }
   ],
   "source": [
    "imran.tend()"
   ]
  },
  {
   "cell_type": "code",
   "execution_count": 46,
   "metadata": {},
   "outputs": [
    {
     "name": "stdout",
     "output_type": "stream",
     "text": [
      "Tomato is now on a fruit stage!\n",
      "Potato is ready to harvestable!\n",
      "Tomato is now on a fruit stage!\n"
     ]
    }
   ],
   "source": [
    "imran.tend()"
   ]
  },
  {
   "cell_type": "code",
   "execution_count": 47,
   "metadata": {},
   "outputs": [
    {
     "name": "stdout",
     "output_type": "stream",
     "text": [
      "1.Tomato\n",
      "2.Potato\n",
      "3.Tomato\n",
      "\n",
      "You have harvested Potato\n"
     ]
    }
   ],
   "source": [
    "imran.harvest()"
   ]
  },
  {
   "cell_type": "code",
   "execution_count": 48,
   "metadata": {},
   "outputs": [
    {
     "name": "stdout",
     "output_type": "stream",
     "text": [
      "1.Tomato\n",
      "2.Tomato\n",
      "\n",
      "You can't harvested Tomato\n"
     ]
    }
   ],
   "source": [
    "imran.harvest()"
   ]
  },
  {
   "cell_type": "code",
   "execution_count": 51,
   "metadata": {},
   "outputs": [
    {
     "name": "stdout",
     "output_type": "stream",
     "text": [
      "Tomato is ready to harvestable!\n",
      "Tomato is ready to harvestable!\n"
     ]
    }
   ],
   "source": [
    "imran.tend()"
   ]
  },
  {
   "cell_type": "code",
   "execution_count": 53,
   "metadata": {},
   "outputs": [
    {
     "name": "stdout",
     "output_type": "stream",
     "text": [
      "1.Tomato\n",
      "\n",
      "You have harvested Tomato\n"
     ]
    }
   ],
   "source": [
    "imran.harvest()"
   ]
  },
  {
   "cell_type": "code",
   "execution_count": 57,
   "metadata": {},
   "outputs": [
    {
     "name": "stdout",
     "output_type": "stream",
     "text": [
      "Welcome to Virtual Garden\n",
      "Welcome imran yousaf \n",
      "type 'help' for valid command!\n",
      "**** Available Command ****\n",
      "help\n",
      "quit\n",
      "seed\n",
      "plant\n",
      "tend\n",
      "harvest\n",
      "imran yousaf has found the tomato\n",
      "imran yousaf has found the potato\n",
      "imran yousaf has found the carrot\n",
      "1.tomato\n",
      "2.potato\n",
      "3.carrot\n",
      "imran yousaf has planted a potato plant!\n",
      "Potato is now on a sprout stage!\n",
      "Potato is now on a mature stage!\n",
      "Potato is now on a harvest_ready stage!\n",
      "Potato is ready to harvestable!\n",
      "1.Potato\n",
      "\n",
      "You have harvested Potato\n",
      "Thank you for your interest.Come again.Good Bye!\n"
     ]
    }
   ],
   "source": [
    "valid_commands = [\"help\",\"quit\",\"seed\",\"plant\",\"tend\",\"harvest\"]\n",
    "\n",
    "print(\"Welcome to Virtual Garden\")\n",
    "\n",
    "gardener_name = input(\"What is the gardener name!\")\n",
    "\n",
    "print(f\"Welcome {gardener_name} \\ntype 'help' for valid command!\")\n",
    "gardener = Gardener(gardener_name)\n",
    "\n",
    "while True:\n",
    "    gardener_action = input(\"What do you want to do\")\n",
    "    if gardener_action in valid_commands:\n",
    "        if gardener_action == \"help\":\n",
    "            print(\"**** Available Command ****\")\n",
    "            for command in valid_commands:\n",
    "                print(command)\n",
    "        elif gardener_action == \"seed\":\n",
    "            gardener.get_seed()\n",
    "\n",
    "        elif gardener_action == \"plant\":\n",
    "            gardener.plant()\n",
    "        elif gardener_action == \"tend\":\n",
    "            gardener.tend()\n",
    "        elif gardener_action == \"harvest\":\n",
    "            gardener.harvest()\n",
    "        elif gardener_action == \"quit\":\n",
    "            print(\"Thank you for your interest.Come again.Good Bye!\")\n",
    "            break\n",
    "        else:\n",
    "            print(\"Invalid Command\")"
   ]
  }
 ],
 "metadata": {
  "kernelspec": {
   "display_name": "base",
   "language": "python",
   "name": "python3"
  },
  "language_info": {
   "codemirror_mode": {
    "name": "ipython",
    "version": 3
   },
   "file_extension": ".py",
   "mimetype": "text/x-python",
   "name": "python",
   "nbconvert_exporter": "python",
   "pygments_lexer": "ipython3",
   "version": "3.10.9"
  }
 },
 "nbformat": 4,
 "nbformat_minor": 2
}
