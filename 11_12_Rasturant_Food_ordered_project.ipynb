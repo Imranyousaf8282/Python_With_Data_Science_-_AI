{
 "cells": [
  {
   "cell_type": "code",
   "execution_count": 109,
   "metadata": {},
   "outputs": [],
   "source": [
    "# type(input(\"Enter your number:\"))"
   ]
  },
  {
   "cell_type": "code",
   "execution_count": 110,
   "metadata": {},
   "outputs": [],
   "source": [
    "restu_name = \"Buddies Inn\"\n",
    "# SKU mean Stock Keeping Unit\n",
    "# gst mean grosary sale text\n",
    "menu = menu = {\n",
    "    'SKU1': {'name': 'Burger', 'price': 5.99},\n",
    "    'SKU2': {'name': 'Pizza', 'price': 8.99},\n",
    "    'SKU3': {'name': 'Pasta', 'price': 7.49},\n",
    "    'SKU4': {'name': 'Salad', 'price': 4.99},\n",
    "    'SKU5': {'name': 'Steak', 'price': 12.99},\n",
    "    'SKU6': {'name': 'Sushi', 'price': 10.49},\n",
    "    'SKU7': {'name': 'Chicken Wings', 'price': 6.99},\n",
    "    'SKU8': {'name': 'Sandwich', 'price': 4.49},\n",
    "    'SKU9': {'name': 'Tacos', 'price': 5.49},\n",
    "    'SKU10': {'name': 'Ice Cream', 'price': 3.99}\n",
    "}\n",
    "cart ={}\n",
    "\n",
    "actions = {\"1\":\"Add item to the cart\",\n",
    "           \"2\":\"Remove item from the cart\",\n",
    "           \"3\":\"Modify item quantity's in the cart\",\n",
    "           \"4\":\"View items in the cart\",\n",
    "           \"5\":\"Checkout\",\n",
    "           \"6\":\"Exit\"}\n",
    "\n",
    "gst = 0.07"
   ]
  },
  {
   "cell_type": "code",
   "execution_count": 111,
   "metadata": {},
   "outputs": [
    {
     "name": "stdout",
     "output_type": "stream",
     "text": [
      "1 Burger 5.99\n",
      "2 Pizza 8.99\n",
      "3 Pasta 7.49\n",
      "4 Salad 4.99\n",
      "5 Steak 12.99\n",
      "6 Sushi 10.49\n",
      "7 Chicken Wings 6.99\n",
      "8 Sandwich 4.49\n",
      "9 Tacos 5.49\n",
      "10 Ice Cream 3.99\n"
     ]
    }
   ],
   "source": [
    "for sku in menu:\n",
    "    stock = sku[3:]\n",
    "    name = menu[sku][\"name\"]\n",
    "    price = menu[sku][\"price\"]\n",
    "\n",
    "    print(stock,name,price)"
   ]
  },
  {
   "cell_type": "code",
   "execution_count": 112,
   "metadata": {},
   "outputs": [
    {
     "name": "stdout",
     "output_type": "stream",
     "text": [
      "(1) Burger  $5.99\n",
      "(2) Pizza  $8.99\n",
      "(3) Pasta  $7.49\n",
      "(4) Salad  $4.99\n",
      "(5) Steak  $12.99\n",
      "(6) Sushi  $10.49\n",
      "(7) Chicken Wings  $6.99\n",
      "(8) Sandwich  $4.49\n",
      "(9) Tacos  $5.49\n",
      "(10) Ice Cream  $3.99\n"
     ]
    }
   ],
   "source": [
    "# or\n",
    "for sku in menu:\n",
    "    stock = sku[3:]\n",
    "    name = menu[sku][\"name\"]\n",
    "    price = menu[sku][\"price\"]\n",
    "\n",
    "    print(f\"({stock}) {name}  ${price}\")"
   ]
  },
  {
   "cell_type": "code",
   "execution_count": 113,
   "metadata": {},
   "outputs": [],
   "source": [
    "# convert above code into function\n",
    "def Display_menu():\n",
    "    \"\"\"\n",
    "    Display all items SKU's, name price\n",
    "    \"\"\"\n",
    "\n",
    "    print(\"\\n****** BUDDIES INN ******\\n\")\n",
    "\n",
    "    for sku in menu:\n",
    "        stock = sku[3:]\n",
    "        name = menu[sku][\"name\"]\n",
    "        price = menu[sku][\"price\"]\n",
    "\n",
    "        print(f\"({stock}) {name} ${price}\")\n",
    "    print(\"\\n\")"
   ]
  },
  {
   "cell_type": "code",
   "execution_count": 114,
   "metadata": {},
   "outputs": [
    {
     "name": "stdout",
     "output_type": "stream",
     "text": [
      "\n",
      "****** BUDDIES INN ******\n",
      "\n",
      "(1) Burger $5.99\n",
      "(2) Pizza $8.99\n",
      "(3) Pasta $7.49\n",
      "(4) Salad $4.99\n",
      "(5) Steak $12.99\n",
      "(6) Sushi $10.49\n",
      "(7) Chicken Wings $6.99\n",
      "(8) Sandwich $4.49\n",
      "(9) Tacos $5.49\n",
      "(10) Ice Cream $3.99\n",
      "\n",
      "\n"
     ]
    }
   ],
   "source": [
    "Display_menu()"
   ]
  },
  {
   "cell_type": "code",
   "execution_count": 115,
   "metadata": {},
   "outputs": [
    {
     "data": {
      "text/plain": [
       "{}"
      ]
     },
     "execution_count": 115,
     "metadata": {},
     "output_type": "execute_result"
    }
   ],
   "source": [
    "cart"
   ]
  },
  {
   "cell_type": "code",
   "execution_count": 116,
   "metadata": {},
   "outputs": [
    {
     "data": {
      "text/plain": [
       "{'1': 'Add item to the cart',\n",
       " '2': 'Remove item from the cart',\n",
       " '3': \"Modify item quantity's in the cart\",\n",
       " '4': 'View items in the cart',\n",
       " '5': 'Checkout',\n",
       " '6': 'Exit'}"
      ]
     },
     "execution_count": 116,
     "metadata": {},
     "output_type": "execute_result"
    }
   ],
   "source": [
    "actions"
   ]
  },
  {
   "cell_type": "markdown",
   "metadata": {},
   "source": [
    "* 1:Add items to the cart"
   ]
  },
  {
   "cell_type": "code",
   "execution_count": 117,
   "metadata": {},
   "outputs": [],
   "source": [
    "order = \"SKU\" +\"4\""
   ]
  },
  {
   "cell_type": "code",
   "execution_count": 118,
   "metadata": {},
   "outputs": [],
   "source": [
    "# Add_To_Cart(\"SKU10\",4)\n",
    "# cart"
   ]
  },
  {
   "cell_type": "code",
   "execution_count": 119,
   "metadata": {},
   "outputs": [
    {
     "data": {
      "text/plain": [
       "{'SKU1': {'name': 'Burger', 'price': 5.99},\n",
       " 'SKU2': {'name': 'Pizza', 'price': 8.99},\n",
       " 'SKU3': {'name': 'Pasta', 'price': 7.49},\n",
       " 'SKU4': {'name': 'Salad', 'price': 4.99},\n",
       " 'SKU5': {'name': 'Steak', 'price': 12.99},\n",
       " 'SKU6': {'name': 'Sushi', 'price': 10.49},\n",
       " 'SKU7': {'name': 'Chicken Wings', 'price': 6.99},\n",
       " 'SKU8': {'name': 'Sandwich', 'price': 4.49},\n",
       " 'SKU9': {'name': 'Tacos', 'price': 5.49},\n",
       " 'SKU10': {'name': 'Ice Cream', 'price': 3.99}}"
      ]
     },
     "execution_count": 119,
     "metadata": {},
     "output_type": "execute_result"
    }
   ],
   "source": [
    "menu"
   ]
  },
  {
   "cell_type": "code",
   "execution_count": 120,
   "metadata": {},
   "outputs": [],
   "source": [
    "d = {}\n",
    "d[\"items\"] = 1"
   ]
  },
  {
   "cell_type": "code",
   "execution_count": 121,
   "metadata": {},
   "outputs": [
    {
     "data": {
      "text/plain": [
       "{'items': 1}"
      ]
     },
     "execution_count": 121,
     "metadata": {},
     "output_type": "execute_result"
    }
   ],
   "source": [
    "d"
   ]
  },
  {
   "cell_type": "code",
   "execution_count": 122,
   "metadata": {},
   "outputs": [],
   "source": [
    "d[\"items\"] += 2"
   ]
  },
  {
   "cell_type": "code",
   "execution_count": 123,
   "metadata": {},
   "outputs": [
    {
     "data": {
      "text/plain": [
       "{'items': 3}"
      ]
     },
     "execution_count": 123,
     "metadata": {},
     "output_type": "execute_result"
    }
   ],
   "source": [
    "d"
   ]
  },
  {
   "cell_type": "code",
   "execution_count": 124,
   "metadata": {},
   "outputs": [
    {
     "data": {
      "text/plain": [
       "True"
      ]
     },
     "execution_count": 124,
     "metadata": {},
     "output_type": "execute_result"
    }
   ],
   "source": [
    "order in menu"
   ]
  },
  {
   "cell_type": "code",
   "execution_count": 125,
   "metadata": {},
   "outputs": [],
   "source": [
    "if order in menu:\n",
    "    if order in cart:\n",
    "        cart[order] += 1\n",
    "    else:\n",
    "        cart[order] = 1"
   ]
  },
  {
   "cell_type": "code",
   "execution_count": 126,
   "metadata": {},
   "outputs": [
    {
     "data": {
      "text/plain": [
       "'SKU15'"
      ]
     },
     "execution_count": 126,
     "metadata": {},
     "output_type": "execute_result"
    }
   ],
   "source": [
    "order = \"SKU\" + \"15\"\n",
    "order"
   ]
  },
  {
   "cell_type": "code",
   "execution_count": 127,
   "metadata": {},
   "outputs": [],
   "source": [
    "# if order in menu:\n",
    "#     if order not in cart:\n",
    "#         cart[order] = 1\n",
    "#     else:\n",
    "#         cart[order] += 1\n",
    "#     print(\"item has been added in your cart\")\n",
    "# else:\n",
    "#     print(\"Sorry! item is not available\")"
   ]
  },
  {
   "cell_type": "code",
   "execution_count": 128,
   "metadata": {},
   "outputs": [
    {
     "data": {
      "text/plain": [
       "{'SKU4': 1}"
      ]
     },
     "execution_count": 128,
     "metadata": {},
     "output_type": "execute_result"
    }
   ],
   "source": [
    "cart"
   ]
  },
  {
   "cell_type": "code",
   "execution_count": 129,
   "metadata": {},
   "outputs": [],
   "source": [
    "def Add_To_Cart(sku, quantity=1):\n",
    "    \"\"\"\n",
    "    Add an items and its quantity to the cart\n",
    "\n",
    "    Param1 string sku:  the input SKU numbered being ordered\n",
    "    Param2 int quantity: the input quantity being ordered\n",
    "\n",
    "    \"\"\"\n",
    "    if sku in menu:\n",
    "        if sku not in cart:\n",
    "            cart[sku] = quantity\n",
    "        else:\n",
    "            cart[sku] += quantity\n",
    "        \n",
    "        print(f\"Added {quantity} {menu[sku]['name']} to the cart\")\n",
    "    else:\n",
    "        print(\"Sorry! item is not available\")"
   ]
  },
  {
   "cell_type": "code",
   "execution_count": 130,
   "metadata": {},
   "outputs": [
    {
     "name": "stdout",
     "output_type": "stream",
     "text": [
      "Added 5 Pasta to the cart\n"
     ]
    }
   ],
   "source": [
    "Add_To_Cart(\"SKU3\",5)"
   ]
  },
  {
   "cell_type": "code",
   "execution_count": 131,
   "metadata": {},
   "outputs": [
    {
     "data": {
      "text/plain": [
       "{'SKU4': 1, 'SKU3': 5}"
      ]
     },
     "execution_count": 131,
     "metadata": {},
     "output_type": "execute_result"
    }
   ],
   "source": [
    "cart"
   ]
  },
  {
   "cell_type": "markdown",
   "metadata": {},
   "source": [
    "* 2: Remove item from the cart"
   ]
  },
  {
   "cell_type": "code",
   "execution_count": 132,
   "metadata": {},
   "outputs": [
    {
     "data": {
      "text/plain": [
       "1"
      ]
     },
     "execution_count": 132,
     "metadata": {},
     "output_type": "execute_result"
    }
   ],
   "source": [
    "Sku4 = cart.pop(\"SKU4\")\n",
    "Sku4"
   ]
  },
  {
   "cell_type": "code",
   "execution_count": 133,
   "metadata": {},
   "outputs": [],
   "source": [
    "removed_item = \"SKU10\""
   ]
  },
  {
   "cell_type": "code",
   "execution_count": 134,
   "metadata": {},
   "outputs": [
    {
     "data": {
      "text/plain": [
       "False"
      ]
     },
     "execution_count": 134,
     "metadata": {},
     "output_type": "execute_result"
    }
   ],
   "source": [
    "removed_item in cart"
   ]
  },
  {
   "cell_type": "code",
   "execution_count": 135,
   "metadata": {},
   "outputs": [
    {
     "data": {
      "text/plain": [
       "{'SKU3': 5}"
      ]
     },
     "execution_count": 135,
     "metadata": {},
     "output_type": "execute_result"
    }
   ],
   "source": [
    "cart"
   ]
  },
  {
   "cell_type": "code",
   "execution_count": 136,
   "metadata": {},
   "outputs": [
    {
     "name": "stdout",
     "output_type": "stream",
     "text": [
      "Sorry! item is not available\n"
     ]
    }
   ],
   "source": [
    "if removed_item in cart:\n",
    "    removed = cart.pop(removed_item)\n",
    "    print(\"Remove item from the cart\")\n",
    "else:\n",
    "    print(\"Sorry! item is not available\")\n"
   ]
  },
  {
   "cell_type": "code",
   "execution_count": 137,
   "metadata": {},
   "outputs": [
    {
     "name": "stdout",
     "output_type": "stream",
     "text": [
      "Sorry! item is not available\n"
     ]
    }
   ],
   "source": [
    "if removed_item in cart:\n",
    "    removed = cart.pop(removed_item)\n",
    "    print(\"Remove item from the cart\")\n",
    "else:\n",
    "    print(\"Sorry! item is not available\")\n"
   ]
  },
  {
   "cell_type": "code",
   "execution_count": 138,
   "metadata": {},
   "outputs": [],
   "source": [
    "def Remove_from_cart(sku):\n",
    "    \"\"\"\n",
    "    Remove Sku number form the cart\n",
    "    Param1 string sku: input number sku remove from the cart    \"\"\"\n",
    "    if sku in cart:\n",
    "\n",
    "        removed_val = cart.pop(sku)\n",
    "        print(f\"Remove {menu[sku]['name']} from the cart\")\n",
    "    else:\n",
    "        print(\"Sorry! item is not available\")\n",
    "\n",
    "    "
   ]
  },
  {
   "cell_type": "code",
   "execution_count": 139,
   "metadata": {},
   "outputs": [
    {
     "name": "stdout",
     "output_type": "stream",
     "text": [
      "Remove Pasta from the cart\n"
     ]
    }
   ],
   "source": [
    "Remove_from_cart(\"SKU3\")"
   ]
  },
  {
   "cell_type": "markdown",
   "metadata": {},
   "source": [
    "* 3:Modify item to the cart"
   ]
  },
  {
   "cell_type": "code",
   "execution_count": 140,
   "metadata": {},
   "outputs": [],
   "source": [
    "def Modify_Cart(sku,quantity):\n",
    "    \"\"\" \n",
    "    Modify an item's quantity in the cart\n",
    "\n",
    "    Param1 string sku: input SKU number being ordered\n",
    "    Param2 int quantity: input new quantity to modify in cart\n",
    "    \"\"\"\n",
    "    if sku in cart:\n",
    "        if quantity >0:\n",
    "            cart[sku] = quantity\n",
    "            print(f\"Modified {menu[sku]['name']}\\'s quantity {quantity}\")\n",
    "        else:\n",
    "            Remove_from_cart(sku)\n",
    "    else:\n",
    "        print(\"Sorry! item is not available\")\n",
    "\n"
   ]
  },
  {
   "cell_type": "code",
   "execution_count": 141,
   "metadata": {},
   "outputs": [],
   "source": [
    "cart[\"SKU3\"] = 7\n",
    "cart[\"SKU6\"] = 4\n"
   ]
  },
  {
   "cell_type": "code",
   "execution_count": 142,
   "metadata": {},
   "outputs": [
    {
     "name": "stdout",
     "output_type": "stream",
     "text": [
      "Modified Pasta's quantity 5\n"
     ]
    }
   ],
   "source": [
    "Modify_Cart(\"SKU3\",5)"
   ]
  },
  {
   "cell_type": "code",
   "execution_count": 143,
   "metadata": {},
   "outputs": [
    {
     "name": "stdout",
     "output_type": "stream",
     "text": [
      "Modified Sushi's quantity 7\n"
     ]
    }
   ],
   "source": [
    "Modify_Cart(\"SKU6\",7)"
   ]
  },
  {
   "cell_type": "code",
   "execution_count": 144,
   "metadata": {},
   "outputs": [
    {
     "data": {
      "text/plain": [
       "{'SKU3': 5, 'SKU6': 7}"
      ]
     },
     "execution_count": 144,
     "metadata": {},
     "output_type": "execute_result"
    }
   ],
   "source": [
    "cart"
   ]
  },
  {
   "cell_type": "code",
   "execution_count": 145,
   "metadata": {},
   "outputs": [
    {
     "name": "stdout",
     "output_type": "stream",
     "text": [
      "Remove Pasta from the cart\n"
     ]
    }
   ],
   "source": [
    "Modify_Cart(\"SKU3\",0)"
   ]
  },
  {
   "cell_type": "code",
   "execution_count": 146,
   "metadata": {},
   "outputs": [
    {
     "name": "stdout",
     "output_type": "stream",
     "text": [
      "Remove Sushi from the cart\n"
     ]
    }
   ],
   "source": [
    "Modify_Cart(\"SKU6\",0)"
   ]
  },
  {
   "cell_type": "code",
   "execution_count": 147,
   "metadata": {},
   "outputs": [
    {
     "data": {
      "text/plain": [
       "{}"
      ]
     },
     "execution_count": 147,
     "metadata": {},
     "output_type": "execute_result"
    }
   ],
   "source": [
    "cart"
   ]
  },
  {
   "cell_type": "code",
   "execution_count": 148,
   "metadata": {},
   "outputs": [
    {
     "data": {
      "text/plain": [
       "{'1': 'Add item to the cart',\n",
       " '2': 'Remove item from the cart',\n",
       " '3': \"Modify item quantity's in the cart\",\n",
       " '4': 'View items in the cart',\n",
       " '5': 'Checkout',\n",
       " '6': 'Exit'}"
      ]
     },
     "execution_count": 148,
     "metadata": {},
     "output_type": "execute_result"
    }
   ],
   "source": [
    "actions"
   ]
  },
  {
   "cell_type": "markdown",
   "metadata": {},
   "source": [
    "* 4: view item in  the cart"
   ]
  },
  {
   "cell_type": "code",
   "execution_count": 149,
   "metadata": {},
   "outputs": [],
   "source": [
    "cart[\"SKU3\"] = 7\n",
    "cart[\"SKU6\"] = 4\n",
    "cart[\"SKU9\"] = 8\n"
   ]
  },
  {
   "cell_type": "code",
   "execution_count": 150,
   "metadata": {},
   "outputs": [
    {
     "data": {
      "text/plain": [
       "{'SKU3': 7, 'SKU6': 4, 'SKU9': 8}"
      ]
     },
     "execution_count": 150,
     "metadata": {},
     "output_type": "execute_result"
    }
   ],
   "source": [
    "cart"
   ]
  },
  {
   "cell_type": "code",
   "execution_count": 151,
   "metadata": {},
   "outputs": [
    {
     "name": "stdout",
     "output_type": "stream",
     "text": [
      "7 X Pasta\n",
      "4 X Sushi\n",
      "8 X Tacos\n",
      "total:$ 147.99\n"
     ]
    }
   ],
   "source": [
    "subtotal = 0\n",
    "for sku in cart:\n",
    "    quantity = cart[sku]\n",
    "    price = menu[sku][\"price\"]\n",
    "\n",
    "    subtotal += quantity*price\n",
    "\n",
    "    print(f\"{quantity} X {menu[sku]['name']}\")\n",
    "\n",
    "tax = subtotal*gst\n",
    "total = subtotal +tax\n",
    "print(\"total:$\",round(total,2))"
   ]
  },
  {
   "cell_type": "code",
   "execution_count": 152,
   "metadata": {},
   "outputs": [],
   "source": [
    "def View_Cart():\n",
    "    \"\"\" \n",
    "    Display menu, name,quantity,total amount \n",
    "    \"\"\"\n",
    "    print(\"\\n******Your Order******\\n\")\n",
    "    subtotal = 0\n",
    "    for sku in cart:\n",
    "        quantity = cart[sku]\n",
    "        price = menu[sku][\"price\"]\n",
    "\n",
    "        subtotal += quantity*price\n",
    "\n",
    "        print(f\"{quantity} X {menu[sku]['name']}\")\n",
    "\n",
    "    tax = subtotal*gst\n",
    "    total = subtotal +tax\n",
    "    print(f\"total: ${total: .2f}\")\n",
    "    print(\"\\n\")"
   ]
  },
  {
   "cell_type": "code",
   "execution_count": 153,
   "metadata": {},
   "outputs": [
    {
     "name": "stdout",
     "output_type": "stream",
     "text": [
      "\n",
      "******Your Order******\n",
      "\n",
      "7 X Pasta\n",
      "4 X Sushi\n",
      "8 X Tacos\n",
      "total: $ 147.99\n",
      "\n",
      "\n"
     ]
    }
   ],
   "source": [
    "View_Cart()"
   ]
  },
  {
   "cell_type": "code",
   "execution_count": 154,
   "metadata": {},
   "outputs": [
    {
     "data": {
      "text/plain": [
       "{'1': 'Add item to the cart',\n",
       " '2': 'Remove item from the cart',\n",
       " '3': \"Modify item quantity's in the cart\",\n",
       " '4': 'View items in the cart',\n",
       " '5': 'Checkout',\n",
       " '6': 'Exit'}"
      ]
     },
     "execution_count": 154,
     "metadata": {},
     "output_type": "execute_result"
    }
   ],
   "source": [
    "actions"
   ]
  },
  {
   "cell_type": "markdown",
   "metadata": {},
   "source": [
    "#### Checkout"
   ]
  },
  {
   "cell_type": "code",
   "execution_count": 155,
   "metadata": {},
   "outputs": [],
   "source": [
    "def checkout():\n",
    "    \"\"\"\n",
    "    Display the subtotal info for the user to checkout\n",
    "    \"\"\"\n",
    "    print(\"****CHECKOUT****\")\n",
    "    View_Cart()\n",
    "    print(\"Thank you for the order! Goodbye!\")\n",
    "    print(\"\\n\")\n"
   ]
  },
  {
   "cell_type": "code",
   "execution_count": 156,
   "metadata": {},
   "outputs": [
    {
     "name": "stdout",
     "output_type": "stream",
     "text": [
      "****CHECKOUT****\n",
      "\n",
      "******Your Order******\n",
      "\n",
      "7 X Pasta\n",
      "4 X Sushi\n",
      "8 X Tacos\n",
      "total: $ 147.99\n",
      "\n",
      "\n",
      "Thank you for the order! Goodbye!\n",
      "\n",
      "\n"
     ]
    }
   ],
   "source": [
    "checkout()"
   ]
  },
  {
   "cell_type": "code",
   "execution_count": 157,
   "metadata": {},
   "outputs": [
    {
     "name": "stdout",
     "output_type": "stream",
     "text": [
      "***Please chose your option***\n",
      "\n",
      "Add item to the cart\n",
      "Remove item from the cart\n",
      "Modify item quantity's in the cart\n",
      "View items in the cart\n",
      "Checkout\n",
      "Exit\n"
     ]
    }
   ],
   "source": [
    "print(\"***Please chose your option***\")\n",
    "print()\n",
    "for action in actions:\n",
    "    details = actions[action]\n",
    "    print(details)\n"
   ]
  },
  {
   "cell_type": "code",
   "execution_count": 158,
   "metadata": {},
   "outputs": [
    {
     "name": "stdout",
     "output_type": "stream",
     "text": [
      "***Please chose your option***\n",
      "\n",
      "(1) Add item to the cart\n",
      "(2) Remove item from the cart\n",
      "(3) Modify item quantity's in the cart\n",
      "(4) View items in the cart\n",
      "(5) Checkout\n",
      "(6) Exit\n"
     ]
    }
   ],
   "source": [
    "print(\"***Please chose your option***\")\n",
    "print()\n",
    "for action in actions:\n",
    "    details = actions[action]\n",
    "    print(f\"({action}) {details}\")\n"
   ]
  },
  {
   "cell_type": "code",
   "execution_count": 159,
   "metadata": {},
   "outputs": [],
   "source": [
    "def cust_actions():\n",
    "    print(\"\\n***Please chose your option***\\n\")\n",
    "    for action in actions:\n",
    "        details = actions[action]\n",
    "        print(f\"({action}) {details}\")\n"
   ]
  },
  {
   "cell_type": "code",
   "execution_count": 160,
   "metadata": {},
   "outputs": [
    {
     "name": "stdout",
     "output_type": "stream",
     "text": [
      "\n",
      "***Please chose your option***\n",
      "\n",
      "(1) Add item to the cart\n",
      "(2) Remove item from the cart\n",
      "(3) Modify item quantity's in the cart\n",
      "(4) View items in the cart\n",
      "(5) Checkout\n",
      "(6) Exit\n"
     ]
    }
   ],
   "source": [
    "cust_actions()"
   ]
  },
  {
   "cell_type": "code",
   "execution_count": 161,
   "metadata": {},
   "outputs": [],
   "source": [
    "def order():\n",
    "    \"\"\"\n",
    "    It will take order from the customer\n",
    "    \"\"\"\n",
    "    print(f\"Welcome to the {restu_name}!\")\n",
    "\n",
    "    ordering = True\n",
    "    while ordering:\n",
    "        cust_actions()\n",
    "        break"
   ]
  },
  {
   "cell_type": "code",
   "execution_count": 162,
   "metadata": {},
   "outputs": [
    {
     "name": "stdout",
     "output_type": "stream",
     "text": [
      "Welcome to the Buddies Inn!\n",
      "\n",
      "***Please chose your option***\n",
      "\n",
      "(1) Add item to the cart\n",
      "(2) Remove item from the cart\n",
      "(3) Modify item quantity's in the cart\n",
      "(4) View items in the cart\n",
      "(5) Checkout\n",
      "(6) Exit\n"
     ]
    }
   ],
   "source": [
    "order()"
   ]
  },
  {
   "cell_type": "code",
   "execution_count": 163,
   "metadata": {},
   "outputs": [],
   "source": [
    "def order():\n",
    "    \"\"\"\n",
    "    It will take order from the customer\n",
    "    \"\"\"\n",
    "    print(f\"Welcome to the {restu_name}!\")\n",
    "\n",
    "    ordering = True\n",
    "    while ordering:\n",
    "        cust_actions()\n",
    "        response = input(\"Please enter the desire option:\")\n",
    "        if response == \"1\":\n",
    "            Display_menu()\n",
    "        break"
   ]
  },
  {
   "cell_type": "code",
   "execution_count": 164,
   "metadata": {},
   "outputs": [
    {
     "name": "stdout",
     "output_type": "stream",
     "text": [
      "Welcome to the Buddies Inn!\n",
      "\n",
      "***Please chose your option***\n",
      "\n",
      "(1) Add item to the cart\n",
      "(2) Remove item from the cart\n",
      "(3) Modify item quantity's in the cart\n",
      "(4) View items in the cart\n",
      "(5) Checkout\n",
      "(6) Exit\n",
      "\n",
      "****** BUDDIES INN ******\n",
      "\n",
      "(1) Burger $5.99\n",
      "(2) Pizza $8.99\n",
      "(3) Pasta $7.49\n",
      "(4) Salad $4.99\n",
      "(5) Steak $12.99\n",
      "(6) Sushi $10.49\n",
      "(7) Chicken Wings $6.99\n",
      "(8) Sandwich $4.49\n",
      "(9) Tacos $5.49\n",
      "(10) Ice Cream $3.99\n",
      "\n",
      "\n"
     ]
    }
   ],
   "source": [
    "order()"
   ]
  },
  {
   "cell_type": "code",
   "execution_count": 165,
   "metadata": {},
   "outputs": [
    {
     "name": "stdout",
     "output_type": "stream",
     "text": [
      "Sorry! item is not available\n"
     ]
    }
   ],
   "source": [
    "Add_To_Cart(\"1\",quantity=1)"
   ]
  },
  {
   "cell_type": "code",
   "execution_count": 166,
   "metadata": {},
   "outputs": [
    {
     "data": {
      "text/plain": [
       "{'SKU3': 7, 'SKU6': 4, 'SKU9': 8}"
      ]
     },
     "execution_count": 166,
     "metadata": {},
     "output_type": "execute_result"
    }
   ],
   "source": [
    "cart"
   ]
  },
  {
   "cell_type": "code",
   "execution_count": 167,
   "metadata": {},
   "outputs": [
    {
     "name": "stdout",
     "output_type": "stream",
     "text": [
      "Added 2 Pasta to the cart\n"
     ]
    }
   ],
   "source": [
    "Add_To_Cart(\"SKU3\",quantity=2)"
   ]
  },
  {
   "cell_type": "code",
   "execution_count": 168,
   "metadata": {},
   "outputs": [],
   "source": [
    "def order():\n",
    "    \"\"\"\n",
    "    It will take order from the customer\n",
    "    \"\"\"\n",
    "    print(f\"Welcome to the {restu_name}!\")\n",
    "\n",
    "    ordering = True\n",
    "    while ordering:\n",
    "        cust_actions()\n",
    "        response = input(\"Please enter the desire option:\")\n",
    "        if response == \"1\":\n",
    "            Display_menu()\n",
    "            sku_prompt = \"Please enter the meal number in the menu you want to order\"\n",
    "            quantity_prompt = \"Please enter the quantity in the menu you want to order[bydefault=1]\"   \n",
    "            Add_To_Cart(sku, quantity=1)\n",
    "            break"
   ]
  },
  {
   "cell_type": "code",
   "execution_count": 169,
   "metadata": {},
   "outputs": [],
   "source": [
    "# build func to get sku & qty\n",
    "def get_sku_and_qty(sku_prompt,quantity_prompt):\n",
    "    sku_num = input(sku_prompt)\n",
    "    sku = \"SKU\"+sku_num\n",
    "\n",
    "    qty = input(quantity_prompt)\n",
    "    if not qty.isdigit():\n",
    "        qty = 1\n",
    "    else:\n",
    "        qty = int(qty)\n",
    "\n",
    "    return sku,qty"
   ]
  },
  {
   "cell_type": "code",
   "execution_count": 170,
   "metadata": {},
   "outputs": [
    {
     "data": {
      "text/plain": [
       "True"
      ]
     },
     "execution_count": 170,
     "metadata": {},
     "output_type": "execute_result"
    }
   ],
   "source": [
    "\"1\".isdigit()"
   ]
  },
  {
   "cell_type": "code",
   "execution_count": 171,
   "metadata": {},
   "outputs": [
    {
     "data": {
      "text/plain": [
       "('SKU3', 2)"
      ]
     },
     "execution_count": 171,
     "metadata": {},
     "output_type": "execute_result"
    }
   ],
   "source": [
    "sku_prompt = \"Please enter the meal number in the menu you want to order\"\n",
    "quantity_prompt = \"Please enter the quantity in the menu you want to order[bydefault=1]\"\n",
    "get_sku_and_qty(sku_prompt,quantity_prompt)"
   ]
  },
  {
   "cell_type": "code",
   "execution_count": 173,
   "metadata": {},
   "outputs": [],
   "source": [
    "def order():\n",
    "    \"\"\"\n",
    "    It will take order from the customer\n",
    "    \"\"\"\n",
    "    print(f\"Welcome to the {restu_name}!\")\n",
    "\n",
    "    ordering = True\n",
    "    while ordering:\n",
    "        cust_actions()\n",
    "        response = input(\"Please enter the desire option:\")\n",
    "        if response == \"1\":\n",
    "            Display_menu()\n",
    "            sku_prompt = \"Please enter the meal number in the menu you want to order\"\n",
    "            quantity_prompt = \"Please enter the quantity in the menu you want to order[bydefault=1]\" \n",
    "            sku, quantity= get_sku_and_qty(sku_prompt,quantity_prompt)  \n",
    "            Add_To_Cart(sku, quantity)\n",
    "            break"
   ]
  },
  {
   "cell_type": "code",
   "execution_count": 174,
   "metadata": {},
   "outputs": [
    {
     "name": "stdout",
     "output_type": "stream",
     "text": [
      "Welcome to the Buddies Inn!\n",
      "\n",
      "***Please chose your option***\n",
      "\n",
      "(1) Add item to the cart\n",
      "(2) Remove item from the cart\n",
      "(3) Modify item quantity's in the cart\n",
      "(4) View items in the cart\n",
      "(5) Checkout\n",
      "(6) Exit\n",
      "\n",
      "****** BUDDIES INN ******\n",
      "\n",
      "(1) Burger $5.99\n",
      "(2) Pizza $8.99\n",
      "(3) Pasta $7.49\n",
      "(4) Salad $4.99\n",
      "(5) Steak $12.99\n",
      "(6) Sushi $10.49\n",
      "(7) Chicken Wings $6.99\n",
      "(8) Sandwich $4.49\n",
      "(9) Tacos $5.49\n",
      "(10) Ice Cream $3.99\n",
      "\n",
      "\n",
      "Added 3 Salad to the cart\n"
     ]
    }
   ],
   "source": [
    "order()"
   ]
  },
  {
   "cell_type": "code",
   "execution_count": 176,
   "metadata": {},
   "outputs": [],
   "source": [
    "def order():\n",
    "    \"\"\"\n",
    "    It will take order from the customer\n",
    "    \"\"\"\n",
    "    print(f\"Welcome to the {restu_name}!\")\n",
    "\n",
    "    ordering = True\n",
    "    while ordering:\n",
    "        cust_actions()\n",
    "        response = input(\"Please enter the desire option:\")\n",
    "        if response == \"1\":\n",
    "            Display_menu()\n",
    "            sku_prompt = \"Please enter the meal number in the menu you want to order\"\n",
    "            quantity_prompt = \"Please enter the quantity in the menu you want to order[bydefault=1]\" \n",
    "            sku, quantity= get_sku_and_qty(sku_prompt,quantity_prompt)  \n",
    "            Add_To_Cart(sku, quantity)\n",
    "        elif response == \"2\":\n",
    "            Display_menu()\n",
    "            sku_prompt = \"Please enter the meal number in the menu you want to order\"\n",
    "             \n",
    "            sku, quantity= get_sku_and_qty(sku_prompt,quantity_prompt) \n",
    "            Remove_from_cart(sku)\n",
    "            break\n"
   ]
  },
  {
   "cell_type": "code",
   "execution_count": 179,
   "metadata": {},
   "outputs": [],
   "source": [
    "# order()\n",
    "# UnboundLocalError: local variable 'quantity_prompt' referenced before assignment"
   ]
  },
  {
   "cell_type": "code",
   "execution_count": 180,
   "metadata": {},
   "outputs": [
    {
     "name": "stdout",
     "output_type": "stream",
     "text": [
      "ok\n"
     ]
    }
   ],
   "source": [
    "num = 5\n",
    "if num:\n",
    "    print(\"ok\")"
   ]
  },
  {
   "cell_type": "code",
   "execution_count": 181,
   "metadata": {},
   "outputs": [],
   "source": [
    "num = None\n",
    "if num:\n",
    "    print(\"ok\")"
   ]
  },
  {
   "cell_type": "code",
   "execution_count": 194,
   "metadata": {},
   "outputs": [],
   "source": [
    "# build func to get sku & qty\n",
    "def get_sku_and_qty(sku_prompt,quantity_prompt=None):\n",
    "    sku_num = input(sku_prompt)\n",
    "    sku = \"SKU\"+sku_num\n",
    "\n",
    "    qty = input(quantity_prompt)\n",
    "    if not qty.isdigit():\n",
    "        qty = 1\n",
    "    else:\n",
    "        qty = int(qty)\n",
    "\n",
    "    return sku,qty"
   ]
  },
  {
   "cell_type": "code",
   "execution_count": 195,
   "metadata": {},
   "outputs": [],
   "source": [
    "def order():\n",
    "    \"\"\"\n",
    "    It will take order from the customer\n",
    "    \"\"\"\n",
    "    print(f\"Welcome to the {restu_name}!\")\n",
    "\n",
    "    ordering = True\n",
    "    while ordering:\n",
    "        cust_actions()\n",
    "        response = input(\"Please enter the desire option:\")\n",
    "        if response == \"1\":\n",
    "            Display_menu()\n",
    "            sku_prompt = \"Please enter the meal number in the menu you want to order\"\n",
    "            quantity_prompt = \"Please enter the quantity in the menu you want to order[bydefault=1]\" \n",
    "            sku, quantity= get_sku_and_qty(sku_prompt,quantity_prompt)  \n",
    "            Add_To_Cart(sku, quantity)\n",
    "        elif response == \"2\":\n",
    "            Display_menu()\n",
    "            sku_prompt = \"Please enter the meal number in the menu you want to order\"\n",
    "             \n",
    "            sku, quantity= get_sku_and_qty(sku_prompt,quantity_prompt) \n",
    "            Remove_from_cart(sku)\n",
    "            break\n"
   ]
  },
  {
   "cell_type": "code",
   "execution_count": 198,
   "metadata": {},
   "outputs": [
    {
     "data": {
      "text/plain": [
       "{}"
      ]
     },
     "execution_count": 198,
     "metadata": {},
     "output_type": "execute_result"
    }
   ],
   "source": [
    "cart"
   ]
  },
  {
   "cell_type": "code",
   "execution_count": 197,
   "metadata": {},
   "outputs": [
    {
     "name": "stdout",
     "output_type": "stream",
     "text": [
      "Welcome to the Buddies Inn!\n",
      "\n",
      "***Please chose your option***\n",
      "\n",
      "(1) Add item to the cart\n",
      "(2) Remove item from the cart\n",
      "(3) Modify item quantity's in the cart\n",
      "(4) View items in the cart\n",
      "(5) Checkout\n",
      "(6) Exit\n",
      "\n",
      "****** BUDDIES INN ******\n",
      "\n",
      "(1) Burger $5.99\n",
      "(2) Pizza $8.99\n",
      "(3) Pasta $7.49\n",
      "(4) Salad $4.99\n",
      "(5) Steak $12.99\n",
      "(6) Sushi $10.49\n",
      "(7) Chicken Wings $6.99\n",
      "(8) Sandwich $4.49\n",
      "(9) Tacos $5.49\n",
      "(10) Ice Cream $3.99\n",
      "\n",
      "\n",
      "Added 2 Pizza to the cart\n",
      "\n",
      "***Please chose your option***\n",
      "\n",
      "(1) Add item to the cart\n",
      "(2) Remove item from the cart\n",
      "(3) Modify item quantity's in the cart\n",
      "(4) View items in the cart\n",
      "(5) Checkout\n",
      "(6) Exit\n",
      "\n",
      "****** BUDDIES INN ******\n",
      "\n",
      "(1) Burger $5.99\n",
      "(2) Pizza $8.99\n",
      "(3) Pasta $7.49\n",
      "(4) Salad $4.99\n",
      "(5) Steak $12.99\n",
      "(6) Sushi $10.49\n",
      "(7) Chicken Wings $6.99\n",
      "(8) Sandwich $4.49\n",
      "(9) Tacos $5.49\n",
      "(10) Ice Cream $3.99\n",
      "\n",
      "\n",
      "Remove Pizza from the cart\n"
     ]
    }
   ],
   "source": [
    "order()"
   ]
  },
  {
   "cell_type": "code",
   "execution_count": 208,
   "metadata": {},
   "outputs": [],
   "source": [
    "def order():\n",
    "    \"\"\"\n",
    "    It will take order from the customer\n",
    "    \"\"\"\n",
    "    print(f\"Welcome to the {restu_name}!\")\n",
    "\n",
    "    ordering = True\n",
    "    while ordering:\n",
    "        cust_actions()\n",
    "        response = input(\"Please enter the desire option:\")\n",
    "        if response == \"1\":\n",
    "            Display_menu()\n",
    "            sku_prompt = \"Please enter the meal number in the menu you want to order\"\n",
    "            quantity_prompt = \"Please enter the quantity in the menu you want to order[bydefault=1]\" \n",
    "            sku, quantity= get_sku_and_qty(sku_prompt,quantity_prompt)  \n",
    "            Add_To_Cart(sku, quantity)\n",
    "        elif response == \"2\":\n",
    "            Display_menu()\n",
    "            sku_prompt = \"Please enter the meal number in the menu you want to order\"\n",
    "             \n",
    "            sku, quantity= get_sku_and_qty(sku_prompt,quantity_prompt) \n",
    "            Remove_from_cart(sku)\n",
    "        elif response == \"3\":\n",
    "            Display_menu()\n",
    "            sku_prompt = \"Please enter the meal number in the menu you want to modify\"\n",
    "            quantity_prompt = \"Please enter the quantity in the menu you want to modify]\" \n",
    "            sku, quantity= get_sku_and_qty(sku_prompt,quantity_prompt)  \n",
    "            Modify_Cart(sku, quantity)\n",
    "            break\n",
    "            \n"
   ]
  },
  {
   "cell_type": "code",
   "execution_count": 209,
   "metadata": {},
   "outputs": [
    {
     "data": {
      "text/plain": [
       "{'SKU1': 7, 'SKU5': 11}"
      ]
     },
     "execution_count": 209,
     "metadata": {},
     "output_type": "execute_result"
    }
   ],
   "source": [
    "cart"
   ]
  },
  {
   "cell_type": "code",
   "execution_count": 210,
   "metadata": {},
   "outputs": [
    {
     "name": "stdout",
     "output_type": "stream",
     "text": [
      "Welcome to the Buddies Inn!\n",
      "\n",
      "***Please chose your option***\n",
      "\n",
      "(1) Add item to the cart\n",
      "(2) Remove item from the cart\n",
      "(3) Modify item quantity's in the cart\n",
      "(4) View items in the cart\n",
      "(5) Checkout\n",
      "(6) Exit\n",
      "\n",
      "****** BUDDIES INN ******\n",
      "\n",
      "(1) Burger $5.99\n",
      "(2) Pizza $8.99\n",
      "(3) Pasta $7.49\n",
      "(4) Salad $4.99\n",
      "(5) Steak $12.99\n",
      "(6) Sushi $10.49\n",
      "(7) Chicken Wings $6.99\n",
      "(8) Sandwich $4.49\n",
      "(9) Tacos $5.49\n",
      "(10) Ice Cream $3.99\n",
      "\n",
      "\n",
      "Modified Steak's quantity 5\n"
     ]
    }
   ],
   "source": [
    "order()"
   ]
  },
  {
   "cell_type": "code",
   "execution_count": 211,
   "metadata": {},
   "outputs": [],
   "source": [
    "def order():\n",
    "    \"\"\"\n",
    "    It will take order from the customer\n",
    "    \"\"\"\n",
    "    print(f\"Welcome to the {restu_name}!\")\n",
    "\n",
    "    ordering = True\n",
    "    while ordering:\n",
    "        cust_actions()\n",
    "        response = input(\"Please enter the desire option:\")\n",
    "        if response == \"1\":\n",
    "            Display_menu()\n",
    "            sku_prompt = \"Please enter the meal number in the menu you want to order\"\n",
    "            quantity_prompt = \"Please enter the quantity in the menu you want to order[bydefault=1]\" \n",
    "            sku, quantity= get_sku_and_qty(sku_prompt,quantity_prompt)  \n",
    "            Add_To_Cart(sku, quantity)\n",
    "        elif response == \"2\":\n",
    "            Display_menu()\n",
    "            sku_prompt = \"Please enter the meal number in the menu you want to order\"\n",
    "             \n",
    "            sku, quantity= get_sku_and_qty(sku_prompt,quantity_prompt) \n",
    "            Remove_from_cart(sku)\n",
    "        elif response == \"3\":\n",
    "            Display_menu()\n",
    "            sku_prompt = \"Please enter the meal number in the menu you want to modify\"\n",
    "            quantity_prompt = \"Please enter the quantity in the menu you want to modify]\" \n",
    "            sku, quantity= get_sku_and_qty(sku_prompt,quantity_prompt)  \n",
    "            Modify_Cart(sku, quantity)\n",
    "        elif response == \"4\":\n",
    "            View_Cart()\n",
    "            break\n",
    "        \n",
    "            \n"
   ]
  },
  {
   "cell_type": "code",
   "execution_count": 212,
   "metadata": {},
   "outputs": [
    {
     "name": "stdout",
     "output_type": "stream",
     "text": [
      "Welcome to the Buddies Inn!\n",
      "\n",
      "***Please chose your option***\n",
      "\n",
      "(1) Add item to the cart\n",
      "(2) Remove item from the cart\n",
      "(3) Modify item quantity's in the cart\n",
      "(4) View items in the cart\n",
      "(5) Checkout\n",
      "(6) Exit\n",
      "\n",
      "******Your Order******\n",
      "\n",
      "7 X Burger\n",
      "5 X Steak\n",
      "total: $ 114.36\n",
      "\n",
      "\n"
     ]
    }
   ],
   "source": [
    "order()"
   ]
  },
  {
   "cell_type": "code",
   "execution_count": 213,
   "metadata": {},
   "outputs": [],
   "source": [
    "def order():\n",
    "    \"\"\"\n",
    "    It will take order from the customer\n",
    "    \"\"\"\n",
    "    print(f\"Welcome to the {restu_name}!\")\n",
    "\n",
    "    ordering = True\n",
    "    while ordering:\n",
    "        cust_actions()\n",
    "        response = input(\"Please enter the desire option:\")\n",
    "        if response == \"1\":\n",
    "            Display_menu()\n",
    "            sku_prompt = \"Please enter the meal number in the menu you want to order\"\n",
    "            quantity_prompt = \"Please enter the quantity in the menu you want to order[bydefault=1]\" \n",
    "            sku, quantity= get_sku_and_qty(sku_prompt,quantity_prompt)  \n",
    "            Add_To_Cart(sku, quantity)\n",
    "        elif response == \"2\":\n",
    "            Display_menu()\n",
    "            sku_prompt = \"Please enter the meal number in the menu you want to order\"\n",
    "             \n",
    "            sku, quantity= get_sku_and_qty(sku_prompt,quantity_prompt) \n",
    "            Remove_from_cart(sku)\n",
    "        elif response == \"3\":\n",
    "            Display_menu()\n",
    "            sku_prompt = \"Please enter the meal number in the menu you want to modify\"\n",
    "            quantity_prompt = \"Please enter the quantity in the menu you want to modify]\" \n",
    "            sku, quantity= get_sku_and_qty(sku_prompt,quantity_prompt)  \n",
    "            Modify_Cart(sku, quantity)\n",
    "        elif response == \"4\":\n",
    "            View_Cart()\n",
    "            break\n",
    "        elif response == \"5\":\n",
    "            checkout()\n",
    "            break\n",
    "        \n",
    "            \n"
   ]
  },
  {
   "cell_type": "code",
   "execution_count": 214,
   "metadata": {},
   "outputs": [
    {
     "name": "stdout",
     "output_type": "stream",
     "text": [
      "Welcome to the Buddies Inn!\n",
      "\n",
      "***Please chose your option***\n",
      "\n",
      "(1) Add item to the cart\n",
      "(2) Remove item from the cart\n",
      "(3) Modify item quantity's in the cart\n",
      "(4) View items in the cart\n",
      "(5) Checkout\n",
      "(6) Exit\n",
      "****CHECKOUT****\n",
      "\n",
      "******Your Order******\n",
      "\n",
      "7 X Burger\n",
      "5 X Steak\n",
      "total: $ 114.36\n",
      "\n",
      "\n",
      "Thank you for the order! Goodbye!\n",
      "\n",
      "\n"
     ]
    }
   ],
   "source": [
    "order()"
   ]
  },
  {
   "cell_type": "code",
   "execution_count": 222,
   "metadata": {},
   "outputs": [],
   "source": [
    "def order():\n",
    "    \"\"\"\n",
    "    It will take order from the customer\n",
    "    \"\"\"\n",
    "    print(f\"Welcome to the {restu_name}!\")\n",
    "\n",
    "    ordering = True\n",
    "    while ordering:\n",
    "        cust_actions()\n",
    "        response = input(\"Please enter the desire option:\")\n",
    "        if response == \"1\":\n",
    "            Display_menu()\n",
    "            sku_prompt = \"Please enter the meal number in the menu you want to order\"\n",
    "            quantity_prompt = \"Please enter the quantity in the menu you want to order[bydefault=1]\" \n",
    "            sku, quantity= get_sku_and_qty(sku_prompt,quantity_prompt)  \n",
    "            Add_To_Cart(sku, quantity)\n",
    "        elif response == \"2\":\n",
    "            Display_menu()\n",
    "            sku_prompt = \"Please enter the meal number in the menu you want to remove\"\n",
    "             \n",
    "            sku, quantity= get_sku_and_qty(sku_prompt,quantity_prompt) \n",
    "            Remove_from_cart(sku)\n",
    "\n",
    "        elif response == \"3\":\n",
    "            Display_menu()\n",
    "            sku_prompt = \"Please enter the meal number in the menu you want to modify\"\n",
    "            quantity_prompt = \"Please enter the quantity in the menu you want to modify]\" \n",
    "            sku, quantity= get_sku_and_qty(sku_prompt,quantity_prompt)  \n",
    "            Modify_Cart(sku, quantity)\n",
    "            \n",
    "        elif response == \"4\":\n",
    "            View_Cart()\n",
    "        elif response == \"5\":\n",
    "            checkout()\n",
    "        elif response == \"6\":\n",
    "            print(\"Thanks for coming!\")\n",
    "            ordering = False\n",
    "\n",
    "        else:\n",
    "            print(\"You have entered the invalid option,please try again later:\")\n",
    "        \n",
    "            \n"
   ]
  },
  {
   "cell_type": "code",
   "execution_count": 224,
   "metadata": {},
   "outputs": [
    {
     "name": "stdout",
     "output_type": "stream",
     "text": [
      "Welcome to the Buddies Inn!\n",
      "\n",
      "***Please chose your option***\n",
      "\n",
      "(1) Add item to the cart\n",
      "(2) Remove item from the cart\n",
      "(3) Modify item quantity's in the cart\n",
      "(4) View items in the cart\n",
      "(5) Checkout\n",
      "(6) Exit\n",
      "\n",
      "****** BUDDIES INN ******\n",
      "\n",
      "(1) Burger $5.99\n",
      "(2) Pizza $8.99\n",
      "(3) Pasta $7.49\n",
      "(4) Salad $4.99\n",
      "(5) Steak $12.99\n",
      "(6) Sushi $10.49\n",
      "(7) Chicken Wings $6.99\n",
      "(8) Sandwich $4.49\n",
      "(9) Tacos $5.49\n",
      "(10) Ice Cream $3.99\n",
      "\n",
      "\n",
      "Added 9 Ice Cream to the cart\n",
      "\n",
      "***Please chose your option***\n",
      "\n",
      "(1) Add item to the cart\n",
      "(2) Remove item from the cart\n",
      "(3) Modify item quantity's in the cart\n",
      "(4) View items in the cart\n",
      "(5) Checkout\n",
      "(6) Exit\n",
      "\n",
      "******Your Order******\n",
      "\n",
      "1 X Burger\n",
      "5 X Steak\n",
      "2 X Salad\n",
      "5 X Sandwich\n",
      "9 X Ice Cream\n",
      "total: $ 149.03\n",
      "\n",
      "\n",
      "\n",
      "***Please chose your option***\n",
      "\n",
      "(1) Add item to the cart\n",
      "(2) Remove item from the cart\n",
      "(3) Modify item quantity's in the cart\n",
      "(4) View items in the cart\n",
      "(5) Checkout\n",
      "(6) Exit\n",
      "\n",
      "******Your Order******\n",
      "\n",
      "1 X Burger\n",
      "5 X Steak\n",
      "2 X Salad\n",
      "5 X Sandwich\n",
      "9 X Ice Cream\n",
      "total: $ 149.03\n",
      "\n",
      "\n",
      "\n",
      "***Please chose your option***\n",
      "\n",
      "(1) Add item to the cart\n",
      "(2) Remove item from the cart\n",
      "(3) Modify item quantity's in the cart\n",
      "(4) View items in the cart\n",
      "(5) Checkout\n",
      "(6) Exit\n",
      "\n",
      "******Your Order******\n",
      "\n",
      "1 X Burger\n",
      "5 X Steak\n",
      "2 X Salad\n",
      "5 X Sandwich\n",
      "9 X Ice Cream\n",
      "total: $ 149.03\n",
      "\n",
      "\n",
      "\n",
      "***Please chose your option***\n",
      "\n",
      "(1) Add item to the cart\n",
      "(2) Remove item from the cart\n",
      "(3) Modify item quantity's in the cart\n",
      "(4) View items in the cart\n",
      "(5) Checkout\n",
      "(6) Exit\n",
      "Thanks for coming!\n"
     ]
    }
   ],
   "source": [
    "order()"
   ]
  },
  {
   "cell_type": "code",
   "execution_count": 225,
   "metadata": {},
   "outputs": [
    {
     "name": "stdout",
     "output_type": "stream",
     "text": [
      "Welcome to the Buddies Inn!\n",
      "\n",
      "***Please chose your option***\n",
      "\n",
      "(1) Add item to the cart\n",
      "(2) Remove item from the cart\n",
      "(3) Modify item quantity's in the cart\n",
      "(4) View items in the cart\n",
      "(5) Checkout\n",
      "(6) Exit\n",
      "****CHECKOUT****\n",
      "\n",
      "******Your Order******\n",
      "\n",
      "1 X Burger\n",
      "5 X Steak\n",
      "2 X Salad\n",
      "5 X Sandwich\n",
      "9 X Ice Cream\n",
      "total: $ 149.03\n",
      "\n",
      "\n",
      "Thank you for the order! Goodbye!\n",
      "\n",
      "\n",
      "\n",
      "***Please chose your option***\n",
      "\n",
      "(1) Add item to the cart\n",
      "(2) Remove item from the cart\n",
      "(3) Modify item quantity's in the cart\n",
      "(4) View items in the cart\n",
      "(5) Checkout\n",
      "(6) Exit\n",
      "Thanks for coming!\n"
     ]
    }
   ],
   "source": [
    "order()"
   ]
  },
  {
   "cell_type": "code",
   "execution_count": 227,
   "metadata": {},
   "outputs": [
    {
     "data": {
      "text/plain": [
       "['__class__',\n",
       " '__class_getitem__',\n",
       " '__contains__',\n",
       " '__delattr__',\n",
       " '__delitem__',\n",
       " '__dir__',\n",
       " '__doc__',\n",
       " '__eq__',\n",
       " '__format__',\n",
       " '__ge__',\n",
       " '__getattribute__',\n",
       " '__getitem__',\n",
       " '__gt__',\n",
       " '__hash__',\n",
       " '__init__',\n",
       " '__init_subclass__',\n",
       " '__ior__',\n",
       " '__iter__',\n",
       " '__le__',\n",
       " '__len__',\n",
       " '__lt__',\n",
       " '__ne__',\n",
       " '__new__',\n",
       " '__or__',\n",
       " '__reduce__',\n",
       " '__reduce_ex__',\n",
       " '__repr__',\n",
       " '__reversed__',\n",
       " '__ror__',\n",
       " '__setattr__',\n",
       " '__setitem__',\n",
       " '__sizeof__',\n",
       " '__str__',\n",
       " '__subclasshook__',\n",
       " 'clear',\n",
       " 'copy',\n",
       " 'fromkeys',\n",
       " 'get',\n",
       " 'items',\n",
       " 'keys',\n",
       " 'pop',\n",
       " 'popitem',\n",
       " 'setdefault',\n",
       " 'update',\n",
       " 'values']"
      ]
     },
     "execution_count": 227,
     "metadata": {},
     "output_type": "execute_result"
    }
   ],
   "source": [
    "dir(cart)"
   ]
  },
  {
   "cell_type": "code",
   "execution_count": 1,
   "metadata": {},
   "outputs": [
    {
     "ename": "NameError",
     "evalue": "name 'cart' is not defined",
     "output_type": "error",
     "traceback": [
      "\u001b[1;31m---------------------------------------------------------------------------\u001b[0m",
      "\u001b[1;31mNameError\u001b[0m                                 Traceback (most recent call last)",
      "Cell \u001b[1;32mIn[1], line 1\u001b[0m\n\u001b[1;32m----> 1\u001b[0m \u001b[43mcart\u001b[49m\u001b[38;5;241m.\u001b[39mclear()\n",
      "\u001b[1;31mNameError\u001b[0m: name 'cart' is not defined"
     ]
    }
   ],
   "source": [
    "cart.clear()"
   ]
  },
  {
   "cell_type": "code",
   "execution_count": 230,
   "metadata": {},
   "outputs": [
    {
     "data": {
      "text/plain": [
       "{}"
      ]
     },
     "execution_count": 230,
     "metadata": {},
     "output_type": "execute_result"
    }
   ],
   "source": [
    "cart"
   ]
  },
  {
   "cell_type": "code",
   "execution_count": 231,
   "metadata": {},
   "outputs": [
    {
     "name": "stdout",
     "output_type": "stream",
     "text": [
      "Welcome to the Buddies Inn!\n",
      "\n",
      "***Please chose your option***\n",
      "\n",
      "(1) Add item to the cart\n",
      "(2) Remove item from the cart\n",
      "(3) Modify item quantity's in the cart\n",
      "(4) View items in the cart\n",
      "(5) Checkout\n",
      "(6) Exit\n",
      "\n",
      "****** BUDDIES INN ******\n",
      "\n",
      "(1) Burger $5.99\n",
      "(2) Pizza $8.99\n",
      "(3) Pasta $7.49\n",
      "(4) Salad $4.99\n",
      "(5) Steak $12.99\n",
      "(6) Sushi $10.49\n",
      "(7) Chicken Wings $6.99\n",
      "(8) Sandwich $4.49\n",
      "(9) Tacos $5.49\n",
      "(10) Ice Cream $3.99\n",
      "\n",
      "\n",
      "Added 4 Burger to the cart\n",
      "\n",
      "***Please chose your option***\n",
      "\n",
      "(1) Add item to the cart\n",
      "(2) Remove item from the cart\n",
      "(3) Modify item quantity's in the cart\n",
      "(4) View items in the cart\n",
      "(5) Checkout\n",
      "(6) Exit\n",
      "\n",
      "****** BUDDIES INN ******\n",
      "\n",
      "(1) Burger $5.99\n",
      "(2) Pizza $8.99\n",
      "(3) Pasta $7.49\n",
      "(4) Salad $4.99\n",
      "(5) Steak $12.99\n",
      "(6) Sushi $10.49\n",
      "(7) Chicken Wings $6.99\n",
      "(8) Sandwich $4.49\n",
      "(9) Tacos $5.49\n",
      "(10) Ice Cream $3.99\n",
      "\n",
      "\n",
      "Added 5 Steak to the cart\n",
      "\n",
      "***Please chose your option***\n",
      "\n",
      "(1) Add item to the cart\n",
      "(2) Remove item from the cart\n",
      "(3) Modify item quantity's in the cart\n",
      "(4) View items in the cart\n",
      "(5) Checkout\n",
      "(6) Exit\n",
      "\n",
      "****** BUDDIES INN ******\n",
      "\n",
      "(1) Burger $5.99\n",
      "(2) Pizza $8.99\n",
      "(3) Pasta $7.49\n",
      "(4) Salad $4.99\n",
      "(5) Steak $12.99\n",
      "(6) Sushi $10.49\n",
      "(7) Chicken Wings $6.99\n",
      "(8) Sandwich $4.49\n",
      "(9) Tacos $5.49\n",
      "(10) Ice Cream $3.99\n",
      "\n",
      "\n",
      "Added 7 Chicken Wings to the cart\n",
      "\n",
      "***Please chose your option***\n",
      "\n",
      "(1) Add item to the cart\n",
      "(2) Remove item from the cart\n",
      "(3) Modify item quantity's in the cart\n",
      "(4) View items in the cart\n",
      "(5) Checkout\n",
      "(6) Exit\n",
      "Thanks for coming!\n"
     ]
    }
   ],
   "source": [
    "order()"
   ]
  },
  {
   "cell_type": "code",
   "execution_count": 232,
   "metadata": {},
   "outputs": [
    {
     "name": "stdout",
     "output_type": "stream",
     "text": [
      "Welcome to the Buddies Inn!\n",
      "\n",
      "***Please chose your option***\n",
      "\n",
      "(1) Add item to the cart\n",
      "(2) Remove item from the cart\n",
      "(3) Modify item quantity's in the cart\n",
      "(4) View items in the cart\n",
      "(5) Checkout\n",
      "(6) Exit\n",
      "\n",
      "******Your Order******\n",
      "\n",
      "4 X Burger\n",
      "5 X Steak\n",
      "7 X Chicken Wings\n",
      "total: $ 147.49\n",
      "\n",
      "\n",
      "\n",
      "***Please chose your option***\n",
      "\n",
      "(1) Add item to the cart\n",
      "(2) Remove item from the cart\n",
      "(3) Modify item quantity's in the cart\n",
      "(4) View items in the cart\n",
      "(5) Checkout\n",
      "(6) Exit\n",
      "Thanks for coming!\n"
     ]
    }
   ],
   "source": [
    "order()"
   ]
  }
 ],
 "metadata": {
  "kernelspec": {
   "display_name": "base",
   "language": "python",
   "name": "python3"
  },
  "language_info": {
   "codemirror_mode": {
    "name": "ipython",
    "version": 3
   },
   "file_extension": ".py",
   "mimetype": "text/x-python",
   "name": "python",
   "nbconvert_exporter": "python",
   "pygments_lexer": "ipython3",
   "version": "3.10.9"
  }
 },
 "nbformat": 4,
 "nbformat_minor": 2
}
