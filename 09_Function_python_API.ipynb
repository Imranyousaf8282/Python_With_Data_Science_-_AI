{
 "cells": [
  {
   "cell_type": "markdown",
   "metadata": {},
   "source": [
    "## working API using the function\n",
    "- legal for variable == alphabets,number and underscore(_)\n",
    "- _ =  when element values is not reused"
   ]
  },
  {
   "cell_type": "code",
   "execution_count": 6,
   "metadata": {},
   "outputs": [],
   "source": [
    "l = list(range(9))"
   ]
  },
  {
   "cell_type": "code",
   "execution_count": 7,
   "metadata": {},
   "outputs": [
    {
     "data": {
      "text/plain": [
       "[0, 1, 2, 3, 4, 5, 6, 7, 8]"
      ]
     },
     "execution_count": 7,
     "metadata": {},
     "output_type": "execute_result"
    }
   ],
   "source": [
    "l"
   ]
  },
  {
   "cell_type": "code",
   "execution_count": 8,
   "metadata": {},
   "outputs": [
    {
     "data": {
      "text/plain": [
       "[1, 2, 3, 4, 5, 6, 7, 8, 9]"
      ]
     },
     "execution_count": 8,
     "metadata": {},
     "output_type": "execute_result"
    }
   ],
   "source": [
    "l = list(range(1,10))\n",
    "l"
   ]
  },
  {
   "cell_type": "code",
   "execution_count": 9,
   "metadata": {},
   "outputs": [
    {
     "name": "stdout",
     "output_type": "stream",
     "text": [
      "[1, 2, 3, 4, 5, 6, 7, 8, 9]\n"
     ]
    }
   ],
   "source": [
    "print(l)"
   ]
  },
  {
   "cell_type": "code",
   "execution_count": 10,
   "metadata": {},
   "outputs": [
    {
     "data": {
      "text/plain": [
       "9"
      ]
     },
     "execution_count": 10,
     "metadata": {},
     "output_type": "execute_result"
    }
   ],
   "source": [
    "len(l)"
   ]
  },
  {
   "cell_type": "code",
   "execution_count": 11,
   "metadata": {},
   "outputs": [
    {
     "name": "stdout",
     "output_type": "stream",
     "text": [
      "2\n",
      "3\n",
      "4\n",
      "5\n",
      "6\n",
      "7\n",
      "8\n",
      "9\n",
      "10\n"
     ]
    }
   ],
   "source": [
    "list_count = 0\n",
    "for i in l:\n",
    "    print(i+1)"
   ]
  },
  {
   "cell_type": "code",
   "execution_count": 12,
   "metadata": {},
   "outputs": [],
   "source": [
    "list_count = 0\n",
    "for i in l:\n",
    "    list_count += 1"
   ]
  },
  {
   "cell_type": "code",
   "execution_count": 13,
   "metadata": {},
   "outputs": [
    {
     "data": {
      "text/plain": [
       "9"
      ]
     },
     "execution_count": 13,
     "metadata": {},
     "output_type": "execute_result"
    }
   ],
   "source": [
    "list_count"
   ]
  },
  {
   "cell_type": "code",
   "execution_count": 14,
   "metadata": {},
   "outputs": [
    {
     "name": "stdout",
     "output_type": "stream",
     "text": [
      "9\n"
     ]
    }
   ],
   "source": [
    "list_count = 0\n",
    "for _ in l:\n",
    "    list_count +=1\n",
    "\n",
    "print(list_count)"
   ]
  },
  {
   "cell_type": "code",
   "execution_count": 15,
   "metadata": {},
   "outputs": [
    {
     "data": {
      "text/plain": [
       "45"
      ]
     },
     "execution_count": 15,
     "metadata": {},
     "output_type": "execute_result"
    }
   ],
   "source": [
    "sum(l)"
   ]
  },
  {
   "cell_type": "code",
   "execution_count": 16,
   "metadata": {},
   "outputs": [
    {
     "data": {
      "text/plain": [
       "45"
      ]
     },
     "execution_count": 16,
     "metadata": {},
     "output_type": "execute_result"
    }
   ],
   "source": [
    "1+2+3+4+5+6+7+8+9"
   ]
  },
  {
   "cell_type": "code",
   "execution_count": 17,
   "metadata": {},
   "outputs": [],
   "source": [
    "list_sum = 0\n",
    "for i in l:\n",
    "    list_sum += i"
   ]
  },
  {
   "cell_type": "code",
   "execution_count": 18,
   "metadata": {},
   "outputs": [
    {
     "name": "stdout",
     "output_type": "stream",
     "text": [
      "45\n"
     ]
    }
   ],
   "source": [
    "print(list_sum)"
   ]
  },
  {
   "cell_type": "code",
   "execution_count": 19,
   "metadata": {},
   "outputs": [
    {
     "name": "stdout",
     "output_type": "stream",
     "text": [
      "45\n"
     ]
    }
   ],
   "source": [
    "list_sum = 0\n",
    "for _ in l:\n",
    "    list_sum += _\n",
    "\n",
    "print(list_sum)"
   ]
  },
  {
   "cell_type": "code",
   "execution_count": 20,
   "metadata": {},
   "outputs": [],
   "source": [
    "url =\" https://api.exchangerate-api.com/v4/latest/USD\""
   ]
  },
  {
   "cell_type": "code",
   "execution_count": 21,
   "metadata": {},
   "outputs": [],
   "source": [
    "import requests"
   ]
  },
  {
   "cell_type": "code",
   "execution_count": 22,
   "metadata": {},
   "outputs": [],
   "source": [
    "response = requests.get(url)"
   ]
  },
  {
   "cell_type": "code",
   "execution_count": 23,
   "metadata": {},
   "outputs": [
    {
     "data": {
      "text/plain": [
       "200"
      ]
     },
     "execution_count": 23,
     "metadata": {},
     "output_type": "execute_result"
    }
   ],
   "source": [
    "response.status_code"
   ]
  },
  {
   "cell_type": "code",
   "execution_count": 24,
   "metadata": {},
   "outputs": [],
   "source": [
    "data = response.json()"
   ]
  },
  {
   "cell_type": "code",
   "execution_count": 25,
   "metadata": {},
   "outputs": [
    {
     "data": {
      "text/plain": [
       "{'provider': 'https://www.exchangerate-api.com',\n",
       " 'WARNING_UPGRADE_TO_V6': 'https://www.exchangerate-api.com/docs/free',\n",
       " 'terms': 'https://www.exchangerate-api.com/terms',\n",
       " 'base': 'USD',\n",
       " 'date': '2023-12-31',\n",
       " 'time_last_updated': 1703980801,\n",
       " 'rates': {'USD': 1,\n",
       "  'AED': 3.67,\n",
       "  'AFN': 70.44,\n",
       "  'ALL': 93.73,\n",
       "  'AMD': 404.85,\n",
       "  'ANG': 1.79,\n",
       "  'AOA': 842.9,\n",
       "  'ARS': 808.48,\n",
       "  'AUD': 1.47,\n",
       "  'AWG': 1.79,\n",
       "  'AZN': 1.7,\n",
       "  'BAM': 1.77,\n",
       "  'BBD': 2,\n",
       "  'BDT': 109.64,\n",
       "  'BGN': 1.77,\n",
       "  'BHD': 0.376,\n",
       "  'BIF': 2837.31,\n",
       "  'BMD': 1,\n",
       "  'BND': 1.32,\n",
       "  'BOB': 6.86,\n",
       "  'BRL': 4.85,\n",
       "  'BSD': 1,\n",
       "  'BTN': 83.23,\n",
       "  'BWP': 13.48,\n",
       "  'BYN': 3.23,\n",
       "  'BZD': 2,\n",
       "  'CAD': 1.32,\n",
       "  'CDF': 2643.36,\n",
       "  'CHF': 0.841,\n",
       "  'CLP': 884.73,\n",
       "  'CNY': 7.12,\n",
       "  'COP': 3870.96,\n",
       "  'CRC': 517.25,\n",
       "  'CUP': 24,\n",
       "  'CVE': 99.83,\n",
       "  'CZK': 22.36,\n",
       "  'DJF': 177.72,\n",
       "  'DKK': 6.75,\n",
       "  'DOP': 56.97,\n",
       "  'DZD': 133.55,\n",
       "  'EGP': 30.75,\n",
       "  'ERN': 15,\n",
       "  'ETB': 56.44,\n",
       "  'EUR': 0.905,\n",
       "  'FJD': 2.19,\n",
       "  'FKP': 0.785,\n",
       "  'FOK': 6.75,\n",
       "  'GBP': 0.785,\n",
       "  'GEL': 2.69,\n",
       "  'GGP': 0.785,\n",
       "  'GHS': 11.97,\n",
       "  'GIP': 0.785,\n",
       "  'GMD': 64.39,\n",
       "  'GNF': 8581.24,\n",
       "  'GTQ': 7.76,\n",
       "  'GYD': 209.31,\n",
       "  'HKD': 7.81,\n",
       "  'HNL': 24.48,\n",
       "  'HRK': 6.82,\n",
       "  'HTG': 131.87,\n",
       "  'HUF': 346.76,\n",
       "  'IDR': 15408.6,\n",
       "  'ILS': 3.62,\n",
       "  'IMP': 0.785,\n",
       "  'INR': 83.22,\n",
       "  'IQD': 1310.6,\n",
       "  'IRR': 42093.04,\n",
       "  'ISK': 136.09,\n",
       "  'JEP': 0.785,\n",
       "  'JMD': 154.42,\n",
       "  'JOD': 0.709,\n",
       "  'JPY': 141.17,\n",
       "  'KES': 156.26,\n",
       "  'KGS': 89.15,\n",
       "  'KHR': 4091.32,\n",
       "  'KID': 1.47,\n",
       "  'KMF': 445.4,\n",
       "  'KRW': 1295.58,\n",
       "  'KWD': 0.307,\n",
       "  'KYD': 0.833,\n",
       "  'KZT': 455.06,\n",
       "  'LAK': 20334.67,\n",
       "  'LBP': 15000,\n",
       "  'LKR': 323.53,\n",
       "  'LRD': 189.91,\n",
       "  'LSL': 18.33,\n",
       "  'LYD': 4.78,\n",
       "  'MAD': 9.85,\n",
       "  'MDL': 17.41,\n",
       "  'MGA': 4573.33,\n",
       "  'MKD': 55.67,\n",
       "  'MMK': 2081.58,\n",
       "  'MNT': 3419.29,\n",
       "  'MOP': 8.05,\n",
       "  'MRU': 39.56,\n",
       "  'MUR': 43.85,\n",
       "  'MVR': 15.45,\n",
       "  'MWK': 1693.96,\n",
       "  'MXN': 16.96,\n",
       "  'MYR': 4.59,\n",
       "  'MZN': 63.88,\n",
       "  'NAD': 18.33,\n",
       "  'NGN': 917.55,\n",
       "  'NIO': 36.27,\n",
       "  'NOK': 10.17,\n",
       "  'NPR': 133.17,\n",
       "  'NZD': 1.58,\n",
       "  'OMR': 0.384,\n",
       "  'PAB': 1,\n",
       "  'PEN': 3.69,\n",
       "  'PGK': 3.69,\n",
       "  'PHP': 55.4,\n",
       "  'PKR': 281.83,\n",
       "  'PLN': 3.93,\n",
       "  'PYG': 7245.5,\n",
       "  'QAR': 3.64,\n",
       "  'RON': 4.5,\n",
       "  'RSD': 105.9,\n",
       "  'RUB': 90.74,\n",
       "  'RWF': 1294.39,\n",
       "  'SAR': 3.75,\n",
       "  'SBD': 8.45,\n",
       "  'SCR': 13.47,\n",
       "  'SDG': 510.42,\n",
       "  'SEK': 10.07,\n",
       "  'SGD': 1.32,\n",
       "  'SHP': 0.785,\n",
       "  'SLE': 22.91,\n",
       "  'SLL': 22905.01,\n",
       "  'SOS': 571.39,\n",
       "  'SRD': 37.35,\n",
       "  'SSP': 1082.75,\n",
       "  'STN': 22.18,\n",
       "  'SYP': 12770.03,\n",
       "  'SZL': 18.33,\n",
       "  'THB': 34.35,\n",
       "  'TJS': 10.93,\n",
       "  'TMT': 3.5,\n",
       "  'TND': 3.07,\n",
       "  'TOP': 2.33,\n",
       "  'TRY': 29.53,\n",
       "  'TTD': 6.71,\n",
       "  'TVD': 1.47,\n",
       "  'TWD': 30.58,\n",
       "  'TZS': 2515.95,\n",
       "  'UAH': 37.98,\n",
       "  'UGX': 3768.61,\n",
       "  'UYU': 39,\n",
       "  'UZS': 12329.9,\n",
       "  'VES': 35.96,\n",
       "  'VND': 24177.72,\n",
       "  'VUV': 117.23,\n",
       "  'WST': 2.69,\n",
       "  'XAF': 593.87,\n",
       "  'XCD': 2.7,\n",
       "  'XDR': 0.744,\n",
       "  'XOF': 593.87,\n",
       "  'XPF': 108.04,\n",
       "  'YER': 247.95,\n",
       "  'ZAR': 18.34,\n",
       "  'ZMW': 25.69,\n",
       "  'ZWL': 6054.51}}"
      ]
     },
     "execution_count": 25,
     "metadata": {},
     "output_type": "execute_result"
    }
   ],
   "source": [
    "data"
   ]
  },
  {
   "cell_type": "code",
   "execution_count": 26,
   "metadata": {},
   "outputs": [
    {
     "data": {
      "text/plain": [
       "dict_keys(['provider', 'WARNING_UPGRADE_TO_V6', 'terms', 'base', 'date', 'time_last_updated', 'rates'])"
      ]
     },
     "execution_count": 26,
     "metadata": {},
     "output_type": "execute_result"
    }
   ],
   "source": [
    "data.keys()"
   ]
  },
  {
   "cell_type": "code",
   "execution_count": 27,
   "metadata": {},
   "outputs": [
    {
     "data": {
      "text/plain": [
       "dict_values(['https://www.exchangerate-api.com', 'https://www.exchangerate-api.com/docs/free', 'https://www.exchangerate-api.com/terms', 'USD', '2023-12-31', 1703980801, {'USD': 1, 'AED': 3.67, 'AFN': 70.44, 'ALL': 93.73, 'AMD': 404.85, 'ANG': 1.79, 'AOA': 842.9, 'ARS': 808.48, 'AUD': 1.47, 'AWG': 1.79, 'AZN': 1.7, 'BAM': 1.77, 'BBD': 2, 'BDT': 109.64, 'BGN': 1.77, 'BHD': 0.376, 'BIF': 2837.31, 'BMD': 1, 'BND': 1.32, 'BOB': 6.86, 'BRL': 4.85, 'BSD': 1, 'BTN': 83.23, 'BWP': 13.48, 'BYN': 3.23, 'BZD': 2, 'CAD': 1.32, 'CDF': 2643.36, 'CHF': 0.841, 'CLP': 884.73, 'CNY': 7.12, 'COP': 3870.96, 'CRC': 517.25, 'CUP': 24, 'CVE': 99.83, 'CZK': 22.36, 'DJF': 177.72, 'DKK': 6.75, 'DOP': 56.97, 'DZD': 133.55, 'EGP': 30.75, 'ERN': 15, 'ETB': 56.44, 'EUR': 0.905, 'FJD': 2.19, 'FKP': 0.785, 'FOK': 6.75, 'GBP': 0.785, 'GEL': 2.69, 'GGP': 0.785, 'GHS': 11.97, 'GIP': 0.785, 'GMD': 64.39, 'GNF': 8581.24, 'GTQ': 7.76, 'GYD': 209.31, 'HKD': 7.81, 'HNL': 24.48, 'HRK': 6.82, 'HTG': 131.87, 'HUF': 346.76, 'IDR': 15408.6, 'ILS': 3.62, 'IMP': 0.785, 'INR': 83.22, 'IQD': 1310.6, 'IRR': 42093.04, 'ISK': 136.09, 'JEP': 0.785, 'JMD': 154.42, 'JOD': 0.709, 'JPY': 141.17, 'KES': 156.26, 'KGS': 89.15, 'KHR': 4091.32, 'KID': 1.47, 'KMF': 445.4, 'KRW': 1295.58, 'KWD': 0.307, 'KYD': 0.833, 'KZT': 455.06, 'LAK': 20334.67, 'LBP': 15000, 'LKR': 323.53, 'LRD': 189.91, 'LSL': 18.33, 'LYD': 4.78, 'MAD': 9.85, 'MDL': 17.41, 'MGA': 4573.33, 'MKD': 55.67, 'MMK': 2081.58, 'MNT': 3419.29, 'MOP': 8.05, 'MRU': 39.56, 'MUR': 43.85, 'MVR': 15.45, 'MWK': 1693.96, 'MXN': 16.96, 'MYR': 4.59, 'MZN': 63.88, 'NAD': 18.33, 'NGN': 917.55, 'NIO': 36.27, 'NOK': 10.17, 'NPR': 133.17, 'NZD': 1.58, 'OMR': 0.384, 'PAB': 1, 'PEN': 3.69, 'PGK': 3.69, 'PHP': 55.4, 'PKR': 281.83, 'PLN': 3.93, 'PYG': 7245.5, 'QAR': 3.64, 'RON': 4.5, 'RSD': 105.9, 'RUB': 90.74, 'RWF': 1294.39, 'SAR': 3.75, 'SBD': 8.45, 'SCR': 13.47, 'SDG': 510.42, 'SEK': 10.07, 'SGD': 1.32, 'SHP': 0.785, 'SLE': 22.91, 'SLL': 22905.01, 'SOS': 571.39, 'SRD': 37.35, 'SSP': 1082.75, 'STN': 22.18, 'SYP': 12770.03, 'SZL': 18.33, 'THB': 34.35, 'TJS': 10.93, 'TMT': 3.5, 'TND': 3.07, 'TOP': 2.33, 'TRY': 29.53, 'TTD': 6.71, 'TVD': 1.47, 'TWD': 30.58, 'TZS': 2515.95, 'UAH': 37.98, 'UGX': 3768.61, 'UYU': 39, 'UZS': 12329.9, 'VES': 35.96, 'VND': 24177.72, 'VUV': 117.23, 'WST': 2.69, 'XAF': 593.87, 'XCD': 2.7, 'XDR': 0.744, 'XOF': 593.87, 'XPF': 108.04, 'YER': 247.95, 'ZAR': 18.34, 'ZMW': 25.69, 'ZWL': 6054.51}])"
      ]
     },
     "execution_count": 27,
     "metadata": {},
     "output_type": "execute_result"
    }
   ],
   "source": [
    "data.values()"
   ]
  },
  {
   "cell_type": "code",
   "execution_count": 28,
   "metadata": {},
   "outputs": [
    {
     "data": {
      "text/plain": [
       "{'USD': 1,\n",
       " 'AED': 3.67,\n",
       " 'AFN': 70.44,\n",
       " 'ALL': 93.73,\n",
       " 'AMD': 404.85,\n",
       " 'ANG': 1.79,\n",
       " 'AOA': 842.9,\n",
       " 'ARS': 808.48,\n",
       " 'AUD': 1.47,\n",
       " 'AWG': 1.79,\n",
       " 'AZN': 1.7,\n",
       " 'BAM': 1.77,\n",
       " 'BBD': 2,\n",
       " 'BDT': 109.64,\n",
       " 'BGN': 1.77,\n",
       " 'BHD': 0.376,\n",
       " 'BIF': 2837.31,\n",
       " 'BMD': 1,\n",
       " 'BND': 1.32,\n",
       " 'BOB': 6.86,\n",
       " 'BRL': 4.85,\n",
       " 'BSD': 1,\n",
       " 'BTN': 83.23,\n",
       " 'BWP': 13.48,\n",
       " 'BYN': 3.23,\n",
       " 'BZD': 2,\n",
       " 'CAD': 1.32,\n",
       " 'CDF': 2643.36,\n",
       " 'CHF': 0.841,\n",
       " 'CLP': 884.73,\n",
       " 'CNY': 7.12,\n",
       " 'COP': 3870.96,\n",
       " 'CRC': 517.25,\n",
       " 'CUP': 24,\n",
       " 'CVE': 99.83,\n",
       " 'CZK': 22.36,\n",
       " 'DJF': 177.72,\n",
       " 'DKK': 6.75,\n",
       " 'DOP': 56.97,\n",
       " 'DZD': 133.55,\n",
       " 'EGP': 30.75,\n",
       " 'ERN': 15,\n",
       " 'ETB': 56.44,\n",
       " 'EUR': 0.905,\n",
       " 'FJD': 2.19,\n",
       " 'FKP': 0.785,\n",
       " 'FOK': 6.75,\n",
       " 'GBP': 0.785,\n",
       " 'GEL': 2.69,\n",
       " 'GGP': 0.785,\n",
       " 'GHS': 11.97,\n",
       " 'GIP': 0.785,\n",
       " 'GMD': 64.39,\n",
       " 'GNF': 8581.24,\n",
       " 'GTQ': 7.76,\n",
       " 'GYD': 209.31,\n",
       " 'HKD': 7.81,\n",
       " 'HNL': 24.48,\n",
       " 'HRK': 6.82,\n",
       " 'HTG': 131.87,\n",
       " 'HUF': 346.76,\n",
       " 'IDR': 15408.6,\n",
       " 'ILS': 3.62,\n",
       " 'IMP': 0.785,\n",
       " 'INR': 83.22,\n",
       " 'IQD': 1310.6,\n",
       " 'IRR': 42093.04,\n",
       " 'ISK': 136.09,\n",
       " 'JEP': 0.785,\n",
       " 'JMD': 154.42,\n",
       " 'JOD': 0.709,\n",
       " 'JPY': 141.17,\n",
       " 'KES': 156.26,\n",
       " 'KGS': 89.15,\n",
       " 'KHR': 4091.32,\n",
       " 'KID': 1.47,\n",
       " 'KMF': 445.4,\n",
       " 'KRW': 1295.58,\n",
       " 'KWD': 0.307,\n",
       " 'KYD': 0.833,\n",
       " 'KZT': 455.06,\n",
       " 'LAK': 20334.67,\n",
       " 'LBP': 15000,\n",
       " 'LKR': 323.53,\n",
       " 'LRD': 189.91,\n",
       " 'LSL': 18.33,\n",
       " 'LYD': 4.78,\n",
       " 'MAD': 9.85,\n",
       " 'MDL': 17.41,\n",
       " 'MGA': 4573.33,\n",
       " 'MKD': 55.67,\n",
       " 'MMK': 2081.58,\n",
       " 'MNT': 3419.29,\n",
       " 'MOP': 8.05,\n",
       " 'MRU': 39.56,\n",
       " 'MUR': 43.85,\n",
       " 'MVR': 15.45,\n",
       " 'MWK': 1693.96,\n",
       " 'MXN': 16.96,\n",
       " 'MYR': 4.59,\n",
       " 'MZN': 63.88,\n",
       " 'NAD': 18.33,\n",
       " 'NGN': 917.55,\n",
       " 'NIO': 36.27,\n",
       " 'NOK': 10.17,\n",
       " 'NPR': 133.17,\n",
       " 'NZD': 1.58,\n",
       " 'OMR': 0.384,\n",
       " 'PAB': 1,\n",
       " 'PEN': 3.69,\n",
       " 'PGK': 3.69,\n",
       " 'PHP': 55.4,\n",
       " 'PKR': 281.83,\n",
       " 'PLN': 3.93,\n",
       " 'PYG': 7245.5,\n",
       " 'QAR': 3.64,\n",
       " 'RON': 4.5,\n",
       " 'RSD': 105.9,\n",
       " 'RUB': 90.74,\n",
       " 'RWF': 1294.39,\n",
       " 'SAR': 3.75,\n",
       " 'SBD': 8.45,\n",
       " 'SCR': 13.47,\n",
       " 'SDG': 510.42,\n",
       " 'SEK': 10.07,\n",
       " 'SGD': 1.32,\n",
       " 'SHP': 0.785,\n",
       " 'SLE': 22.91,\n",
       " 'SLL': 22905.01,\n",
       " 'SOS': 571.39,\n",
       " 'SRD': 37.35,\n",
       " 'SSP': 1082.75,\n",
       " 'STN': 22.18,\n",
       " 'SYP': 12770.03,\n",
       " 'SZL': 18.33,\n",
       " 'THB': 34.35,\n",
       " 'TJS': 10.93,\n",
       " 'TMT': 3.5,\n",
       " 'TND': 3.07,\n",
       " 'TOP': 2.33,\n",
       " 'TRY': 29.53,\n",
       " 'TTD': 6.71,\n",
       " 'TVD': 1.47,\n",
       " 'TWD': 30.58,\n",
       " 'TZS': 2515.95,\n",
       " 'UAH': 37.98,\n",
       " 'UGX': 3768.61,\n",
       " 'UYU': 39,\n",
       " 'UZS': 12329.9,\n",
       " 'VES': 35.96,\n",
       " 'VND': 24177.72,\n",
       " 'VUV': 117.23,\n",
       " 'WST': 2.69,\n",
       " 'XAF': 593.87,\n",
       " 'XCD': 2.7,\n",
       " 'XDR': 0.744,\n",
       " 'XOF': 593.87,\n",
       " 'XPF': 108.04,\n",
       " 'YER': 247.95,\n",
       " 'ZAR': 18.34,\n",
       " 'ZMW': 25.69,\n",
       " 'ZWL': 6054.51}"
      ]
     },
     "execution_count": 28,
     "metadata": {},
     "output_type": "execute_result"
    }
   ],
   "source": [
    "data[\"rates\"]"
   ]
  },
  {
   "cell_type": "code",
   "execution_count": 29,
   "metadata": {},
   "outputs": [
    {
     "data": {
      "text/plain": [
       "28183.0"
      ]
     },
     "execution_count": 29,
     "metadata": {},
     "output_type": "execute_result"
    }
   ],
   "source": [
    "data[\"rates\"][\"PKR\"] * 100"
   ]
  },
  {
   "cell_type": "code",
   "execution_count": 30,
   "metadata": {},
   "outputs": [
    {
     "data": {
      "text/plain": [
       "4.0"
      ]
     },
     "execution_count": 30,
     "metadata": {},
     "output_type": "execute_result"
    }
   ],
   "source": [
    "data[\"rates\"][\"BBD\"] *100/50"
   ]
  },
  {
   "cell_type": "code",
   "execution_count": 31,
   "metadata": {},
   "outputs": [],
   "source": [
    "# creating function\n",
    "def curr_conv():\n",
    "    response = requests.get(url)\n",
    "    data = response.json()\n",
    "    amount = 100\n",
    "    conversation_currency = \"PKR\"\n",
    "    data[\"rates\"][conversation_currency]*amount\n"
   ]
  },
  {
   "cell_type": "code",
   "execution_count": 32,
   "metadata": {},
   "outputs": [],
   "source": [
    "curr_conv()"
   ]
  },
  {
   "cell_type": "code",
   "execution_count": 33,
   "metadata": {},
   "outputs": [],
   "source": [
    "def curr_conv():\n",
    "    response = requests.get(url)\n",
    "    data = response.json()\n",
    "    amount = 100\n",
    "    conversation_currency = \"PKR\"\n",
    "    data[\"rates\"][conversation_currency]*amount\n",
    "    return \"imran\""
   ]
  },
  {
   "cell_type": "code",
   "execution_count": 34,
   "metadata": {},
   "outputs": [
    {
     "data": {
      "text/plain": [
       "'imran'"
      ]
     },
     "execution_count": 34,
     "metadata": {},
     "output_type": "execute_result"
    }
   ],
   "source": [
    "curr_conv()"
   ]
  },
  {
   "cell_type": "code",
   "execution_count": 35,
   "metadata": {},
   "outputs": [],
   "source": [
    "def curr_conv():\n",
    "    response = requests.get(url)\n",
    "    data = response.json()\n",
    "    amount = 100\n",
    "    conversation_currency = \"PKR\"\n",
    "    conv = data[\"rates\"][conversation_currency]*amount\n",
    "    return conv"
   ]
  },
  {
   "cell_type": "code",
   "execution_count": 36,
   "metadata": {},
   "outputs": [
    {
     "data": {
      "text/plain": [
       "28183.0"
      ]
     },
     "execution_count": 36,
     "metadata": {},
     "output_type": "execute_result"
    }
   ],
   "source": [
    "curr_conv()"
   ]
  },
  {
   "cell_type": "code",
   "execution_count": 37,
   "metadata": {},
   "outputs": [],
   "source": [
    "def curr_conv(amount): # amount =parameter\n",
    "    response = requests.get(url)\n",
    "    data = response.json()\n",
    "    # amount = 100\n",
    "    conversation_currency = \"PKR\"\n",
    "    conv = data[\"rates\"][conversation_currency]*amount\n",
    "    return conv"
   ]
  },
  {
   "cell_type": "code",
   "execution_count": 38,
   "metadata": {},
   "outputs": [],
   "source": [
    "# curr_conv() # error"
   ]
  },
  {
   "cell_type": "code",
   "execution_count": 39,
   "metadata": {},
   "outputs": [
    {
     "data": {
      "text/plain": [
       "5636.599999999999"
      ]
     },
     "execution_count": 39,
     "metadata": {},
     "output_type": "execute_result"
    }
   ],
   "source": [
    "curr_conv(20)"
   ]
  },
  {
   "cell_type": "code",
   "execution_count": 40,
   "metadata": {},
   "outputs": [],
   "source": [
    "def curr_conv(amount,target_curr):\n",
    "    response = requests.get(url)\n",
    "    data = response.json()\n",
    "    # amount = 100\n",
    "    # conversation_currency = \"PKR\"\n",
    "    conv = data[\"rates\"][target_curr]*amount\n",
    "    return conv"
   ]
  },
  {
   "cell_type": "code",
   "execution_count": 41,
   "metadata": {},
   "outputs": [
    {
     "data": {
      "text/plain": [
       "100"
      ]
     },
     "execution_count": 41,
     "metadata": {},
     "output_type": "execute_result"
    }
   ],
   "source": [
    "curr_conv(100,\"USD\")"
   ]
  },
  {
   "cell_type": "code",
   "execution_count": 42,
   "metadata": {},
   "outputs": [
    {
     "data": {
      "text/plain": [
       "281.83"
      ]
     },
     "execution_count": 42,
     "metadata": {},
     "output_type": "execute_result"
    }
   ],
   "source": [
    "curr_conv(1,\"PKR\")"
   ]
  },
  {
   "cell_type": "code",
   "execution_count": 43,
   "metadata": {},
   "outputs": [],
   "source": [
    "def curr_conv(amount,target_curr):\n",
    "    response = requests.get(url)\n",
    "    data = response.json()\n",
    "    # amount = 100\n",
    "    # conversation_currency = \"PKR\"\n",
    "    conv = data[\"rates\"][target_curr]*amount\n",
    "    return target_curr + \" \"+ str(conv)"
   ]
  },
  {
   "cell_type": "code",
   "execution_count": 44,
   "metadata": {},
   "outputs": [
    {
     "data": {
      "text/plain": [
       "'PKR 28183.0'"
      ]
     },
     "execution_count": 44,
     "metadata": {},
     "output_type": "execute_result"
    }
   ],
   "source": [
    "curr_conv(100,\"PKR\")"
   ]
  },
  {
   "cell_type": "code",
   "execution_count": 45,
   "metadata": {},
   "outputs": [],
   "source": [
    "import json"
   ]
  },
  {
   "cell_type": "code",
   "execution_count": 46,
   "metadata": {},
   "outputs": [],
   "source": [
    "with open(\"sales.json\") as f:\n",
    "    sales = json.load(f)"
   ]
  },
  {
   "cell_type": "code",
   "execution_count": 47,
   "metadata": {},
   "outputs": [
    {
     "data": {
      "text/plain": [
       "{'3942': {'purchase_total': 100.5, 'currency': 'CAD'},\n",
       " '8791': {'purchase_total': 75.25, 'currency': 'EUR'},\n",
       " '5623': {'purchase_total': 50.75, 'currency': 'GBP'},\n",
       " '1234': {'purchase_total': 200.1, 'currency': 'USD'},\n",
       " '5678': {'purchase_total': 150.75, 'currency': 'JPY'},\n",
       " '9876': {'purchase_total': 300.5, 'currency': 'CAD'},\n",
       " '2457': {'purchase_total': 80.0, 'currency': 'USD'},\n",
       " '7365': {'purchase_total': 55.25, 'currency': 'GBP'},\n",
       " '8910': {'purchase_total': 120.6, 'currency': 'CAD'},\n",
       " '4321': {'purchase_total': 180.25, 'currency': 'EUR'},\n",
       " '6789': {'purchase_total': 90.75, 'currency': 'JPY'},\n",
       " '5432': {'purchase_total': 250.9, 'currency': 'USD'},\n",
       " '1098': {'purchase_total': 70.25, 'currency': 'GBP'},\n",
       " '3647': {'purchase_total': 140.5, 'currency': 'CAD'},\n",
       " '2190': {'purchase_total': 95.8, 'currency': 'EUR'},\n",
       " '8765': {'purchase_total': 180.75, 'currency': 'JPY'},\n",
       " '9875': {'purchase_total': 210.25, 'currency': 'USD'},\n",
       " '1342': {'purchase_total': 65.5, 'currency': 'GBP'},\n",
       " '7690': {'purchase_total': 110.2, 'currency': 'CAD'},\n",
       " '2389': {'purchase_total': 155.35, 'currency': 'EUR'},\n",
       " '6574': {'purchase_total': 80.75, 'currency': 'JPY'},\n",
       " '9832': {'purchase_total': 280.4, 'currency': 'USD'},\n",
       " '3257': {'purchase_total': 60.25, 'currency': 'GBP'},\n",
       " '7194': {'purchase_total': 130.75, 'currency': 'CAD'},\n",
       " '8746': {'purchase_total': 175.9, 'currency': 'EUR'},\n",
       " '2019': {'purchase_total': 85.75, 'currency': 'JPY'},\n",
       " '5437': {'purchase_total': 195.25, 'currency': 'USD'},\n",
       " '1025': {'purchase_total': 50.5, 'currency': 'GBP'},\n",
       " '6932': {'purchase_total': 120.3, 'currency': 'CAD'}}"
      ]
     },
     "execution_count": 47,
     "metadata": {},
     "output_type": "execute_result"
    }
   ],
   "source": [
    "sales"
   ]
  },
  {
   "cell_type": "code",
   "execution_count": 48,
   "metadata": {},
   "outputs": [
    {
     "data": {
      "text/plain": [
       "29"
      ]
     },
     "execution_count": 48,
     "metadata": {},
     "output_type": "execute_result"
    }
   ],
   "source": [
    "len(sales)"
   ]
  },
  {
   "cell_type": "code",
   "execution_count": 49,
   "metadata": {},
   "outputs": [
    {
     "name": "stdout",
     "output_type": "stream",
     "text": [
      "3942\n",
      "8791\n",
      "5623\n",
      "1234\n",
      "5678\n",
      "9876\n",
      "2457\n",
      "7365\n",
      "8910\n",
      "4321\n",
      "6789\n",
      "5432\n",
      "1098\n",
      "3647\n",
      "2190\n",
      "8765\n",
      "9875\n",
      "1342\n",
      "7690\n",
      "2389\n",
      "6574\n",
      "9832\n",
      "3257\n",
      "7194\n",
      "8746\n",
      "2019\n",
      "5437\n",
      "1025\n",
      "6932\n"
     ]
    }
   ],
   "source": [
    "for i in sales:\n",
    "    print(i)"
   ]
  },
  {
   "cell_type": "code",
   "execution_count": 50,
   "metadata": {},
   "outputs": [
    {
     "name": "stdout",
     "output_type": "stream",
     "text": [
      "{'purchase_total': 100.5, 'currency': 'CAD'}\n",
      "{'purchase_total': 75.25, 'currency': 'EUR'}\n",
      "{'purchase_total': 50.75, 'currency': 'GBP'}\n",
      "{'purchase_total': 200.1, 'currency': 'USD'}\n",
      "{'purchase_total': 150.75, 'currency': 'JPY'}\n",
      "{'purchase_total': 300.5, 'currency': 'CAD'}\n",
      "{'purchase_total': 80.0, 'currency': 'USD'}\n",
      "{'purchase_total': 55.25, 'currency': 'GBP'}\n",
      "{'purchase_total': 120.6, 'currency': 'CAD'}\n",
      "{'purchase_total': 180.25, 'currency': 'EUR'}\n",
      "{'purchase_total': 90.75, 'currency': 'JPY'}\n",
      "{'purchase_total': 250.9, 'currency': 'USD'}\n",
      "{'purchase_total': 70.25, 'currency': 'GBP'}\n",
      "{'purchase_total': 140.5, 'currency': 'CAD'}\n",
      "{'purchase_total': 95.8, 'currency': 'EUR'}\n",
      "{'purchase_total': 180.75, 'currency': 'JPY'}\n",
      "{'purchase_total': 210.25, 'currency': 'USD'}\n",
      "{'purchase_total': 65.5, 'currency': 'GBP'}\n",
      "{'purchase_total': 110.2, 'currency': 'CAD'}\n",
      "{'purchase_total': 155.35, 'currency': 'EUR'}\n",
      "{'purchase_total': 80.75, 'currency': 'JPY'}\n",
      "{'purchase_total': 280.4, 'currency': 'USD'}\n",
      "{'purchase_total': 60.25, 'currency': 'GBP'}\n",
      "{'purchase_total': 130.75, 'currency': 'CAD'}\n",
      "{'purchase_total': 175.9, 'currency': 'EUR'}\n",
      "{'purchase_total': 85.75, 'currency': 'JPY'}\n",
      "{'purchase_total': 195.25, 'currency': 'USD'}\n",
      "{'purchase_total': 50.5, 'currency': 'GBP'}\n",
      "{'purchase_total': 120.3, 'currency': 'CAD'}\n"
     ]
    }
   ],
   "source": [
    "for v in sales.values():\n",
    "    print(v)\n"
   ]
  },
  {
   "cell_type": "code",
   "execution_count": 51,
   "metadata": {},
   "outputs": [
    {
     "name": "stdout",
     "output_type": "stream",
     "text": [
      "100.5 CAD\n",
      "75.25 EUR\n",
      "50.75 GBP\n",
      "200.1 USD\n",
      "150.75 JPY\n",
      "300.5 CAD\n",
      "80.0 USD\n",
      "55.25 GBP\n",
      "120.6 CAD\n",
      "180.25 EUR\n",
      "90.75 JPY\n",
      "250.9 USD\n",
      "70.25 GBP\n",
      "140.5 CAD\n",
      "95.8 EUR\n",
      "180.75 JPY\n",
      "210.25 USD\n",
      "65.5 GBP\n",
      "110.2 CAD\n",
      "155.35 EUR\n",
      "80.75 JPY\n",
      "280.4 USD\n",
      "60.25 GBP\n",
      "130.75 CAD\n",
      "175.9 EUR\n",
      "85.75 JPY\n",
      "195.25 USD\n",
      "50.5 GBP\n",
      "120.3 CAD\n"
     ]
    }
   ],
   "source": [
    "# find purchase and currency\n",
    "for v in sales.values():\n",
    "    purchase_total = v['purchase_total']\n",
    "    currency = v['currency']\n",
    "\n",
    "    print(purchase_total,currency)"
   ]
  },
  {
   "cell_type": "markdown",
   "metadata": {},
   "source": [
    "#### Convert all purchase in USD"
   ]
  },
  {
   "cell_type": "code",
   "execution_count": 66,
   "metadata": {},
   "outputs": [
    {
     "name": "stdout",
     "output_type": "stream",
     "text": [
      "76.13636363636363\n",
      "83.14917127071823\n",
      "64.64968152866241\n",
      "200.1\n",
      "1.0678614436495006\n",
      "227.65151515151513\n",
      "80.0\n",
      "70.38216560509554\n",
      "91.36363636363636\n",
      "199.17127071823205\n",
      "0.6428419635899979\n",
      "250.9\n",
      "89.49044585987261\n",
      "106.43939393939394\n",
      "105.85635359116021\n",
      "1.2803711836792522\n",
      "210.25\n",
      "83.43949044585987\n",
      "83.48484848484848\n",
      "171.6574585635359\n",
      "0.5720053835800808\n",
      "280.4\n",
      "76.7515923566879\n",
      "99.0530303030303\n",
      "194.3646408839779\n",
      "0.6074236735850393\n",
      "195.25\n",
      "64.3312101910828\n",
      "91.13636363636363\n"
     ]
    }
   ],
   "source": [
    "for v in sales.values():\n",
    "    purchase_total = v['purchase_total']\n",
    "    currency = v['currency']\n",
    "\n",
    "    date = requests.get(url).json() # only one request is used in one day \n",
    "    exc_rate = data[\"rates\"][currency]\n",
    "    \n",
    "    usd = purchase_total/exc_rate\n",
    "\n",
    "    print(usd)"
   ]
  },
  {
   "cell_type": "code",
   "execution_count": 53,
   "metadata": {},
   "outputs": [
    {
     "name": "stdout",
     "output_type": "stream",
     "text": [
      "76.13636363636363\n",
      "83.14917127071823\n",
      "64.64968152866241\n",
      "200.1\n",
      "1.0678614436495006\n",
      "227.65151515151513\n",
      "80.0\n",
      "70.38216560509554\n",
      "91.36363636363636\n",
      "199.17127071823205\n",
      "0.6428419635899979\n",
      "250.9\n",
      "89.49044585987261\n",
      "106.43939393939394\n",
      "105.85635359116021\n",
      "1.2803711836792522\n",
      "210.25\n",
      "83.43949044585987\n",
      "83.48484848484848\n",
      "171.6574585635359\n",
      "0.5720053835800808\n",
      "280.4\n",
      "76.7515923566879\n",
      "99.0530303030303\n",
      "194.3646408839779\n",
      "0.6074236735850393\n",
      "195.25\n",
      "64.3312101910828\n",
      "91.13636363636363\n"
     ]
    }
   ],
   "source": [
    "for v in sales.values():\n",
    "    purchase_total = v['purchase_total']\n",
    "    currency = v['currency']\n",
    "\n",
    "    exc_rate = data[\"rates\"][currency]\n",
    "    \n",
    "    usd = purchase_total/exc_rate\n",
    "\n",
    "    print(usd) # all purchase in USD"
   ]
  },
  {
   "cell_type": "code",
   "execution_count": 54,
   "metadata": {},
   "outputs": [
    {
     "name": "stdout",
     "output_type": "stream",
     "text": [
      "76.13636363636363 CAD\n",
      "83.14917127071823 EUR\n",
      "64.64968152866241 GBP\n",
      "200.1 USD\n",
      "1.0678614436495006 JPY\n",
      "227.65151515151513 CAD\n",
      "80.0 USD\n",
      "70.38216560509554 GBP\n",
      "91.36363636363636 CAD\n",
      "199.17127071823205 EUR\n",
      "0.6428419635899979 JPY\n",
      "250.9 USD\n",
      "89.49044585987261 GBP\n",
      "106.43939393939394 CAD\n",
      "105.85635359116021 EUR\n",
      "1.2803711836792522 JPY\n",
      "210.25 USD\n",
      "83.43949044585987 GBP\n",
      "83.48484848484848 CAD\n",
      "171.6574585635359 EUR\n",
      "0.5720053835800808 JPY\n",
      "280.4 USD\n",
      "76.7515923566879 GBP\n",
      "99.0530303030303 CAD\n",
      "194.3646408839779 EUR\n",
      "0.6074236735850393 JPY\n",
      "195.25 USD\n",
      "64.3312101910828 GBP\n",
      "91.13636363636363 CAD\n"
     ]
    }
   ],
   "source": [
    "# find Total sales in usd\n",
    "for v in sales.values():\n",
    "    purchase_total = v['purchase_total']\n",
    "    currency = v['currency']\n",
    "\n",
    "    exc_rate = data[\"rates\"][currency]\n",
    "    \n",
    "    usd = purchase_total/exc_rate\n",
    "\n",
    "    print(usd,currency)"
   ]
  },
  {
   "cell_type": "code",
   "execution_count": 55,
   "metadata": {},
   "outputs": [],
   "source": [
    "total_sales_usd =0\n",
    "for v in sales.values():\n",
    "    purchase_total = v['purchase_total']\n",
    "    currency = v['currency']\n",
    "\n",
    "    exc_rate = data[\"rates\"][currency]\n",
    "    \n",
    "    usd_amount = purchase_total/exc_rate\n",
    "    total_sales_usd += usd_amount"
   ]
  },
  {
   "cell_type": "code",
   "execution_count": 56,
   "metadata": {},
   "outputs": [
    {
     "name": "stdout",
     "output_type": "stream",
     "text": [
      "3199.579136178121\n"
     ]
    }
   ],
   "source": [
    "print(total_sales_usd)"
   ]
  },
  {
   "cell_type": "code",
   "execution_count": 57,
   "metadata": {},
   "outputs": [
    {
     "data": {
      "text/plain": [
       "3199.579136178121"
      ]
     },
     "execution_count": 57,
     "metadata": {},
     "output_type": "execute_result"
    }
   ],
   "source": [
    "total_sales_usd"
   ]
  },
  {
   "cell_type": "code",
   "execution_count": 58,
   "metadata": {},
   "outputs": [],
   "source": [
    "# define function using the above data\n",
    "\n",
    "def usd_sales():\n",
    "    total_sales_usd =0\n",
    "    for v in sales.values():\n",
    "\n",
    "        purchase_total = v['purchase_total']\n",
    "        currency = v['currency']\n",
    "        exc_rate = data[\"rates\"][currency]\n",
    "        \n",
    "        usd_amount = purchase_total/exc_rate\n",
    "        total_sales_usd += usd_amount  \n",
    "    return total_sales_usd"
   ]
  },
  {
   "cell_type": "code",
   "execution_count": 59,
   "metadata": {},
   "outputs": [
    {
     "data": {
      "text/plain": [
       "3199.579136178121"
      ]
     },
     "execution_count": 59,
     "metadata": {},
     "output_type": "execute_result"
    }
   ],
   "source": [
    "usd_sales()"
   ]
  },
  {
   "cell_type": "code",
   "execution_count": 60,
   "metadata": {},
   "outputs": [],
   "source": [
    "def usd_sales(reporting_curr,):\n",
    "    \"\"\"\n",
    "    This is build to produce total sales in reporting currency\n",
    "    \"\"\"\n",
    "\n",
    "\n",
    "    total_sales_usd =0\n",
    "    for v in sales.values():\n",
    "\n",
    "        purchase_total = v['purchase_total']\n",
    "        currency = v['currency']\n",
    "        exc_rate = data[\"rates\"][currency]\n",
    "        \n",
    "        usd_amount = purchase_total/exc_rate\n",
    "        total_sales_usd += usd_amount  \n",
    "    return total_sales_usd"
   ]
  },
  {
   "cell_type": "code",
   "execution_count": 61,
   "metadata": {},
   "outputs": [
    {
     "data": {
      "text/plain": [
       "'\\n    This is build to produce total sales in reporting currency\\n    '"
      ]
     },
     "execution_count": 61,
     "metadata": {},
     "output_type": "execute_result"
    }
   ],
   "source": [
    "usd_sales.__doc__"
   ]
  },
  {
   "cell_type": "code",
   "execution_count": 62,
   "metadata": {},
   "outputs": [
    {
     "name": "stdout",
     "output_type": "stream",
     "text": [
      "Return the sum of a 'start' value (default: 0) plus an iterable of numbers\n",
      "\n",
      "When the iterable is empty, return the start value.\n",
      "This function is intended specifically for use with numeric values and may\n",
      "reject non-numeric types.\n"
     ]
    }
   ],
   "source": [
    "print(sum.__doc__)"
   ]
  },
  {
   "cell_type": "code",
   "execution_count": 63,
   "metadata": {},
   "outputs": [
    {
     "name": "stdout",
     "output_type": "stream",
     "text": [
      "type(object) -> the object's type\n",
      "type(name, bases, dict, **kwds) -> a new type\n"
     ]
    }
   ],
   "source": [
    "print(type.__doc__)"
   ]
  },
  {
   "cell_type": "code",
   "execution_count": 64,
   "metadata": {},
   "outputs": [
    {
     "name": "stdout",
     "output_type": "stream",
     "text": [
      "max(iterable, *[, default=obj, key=func]) -> value\n",
      "max(arg1, arg2, *args, *[, key=func]) -> value\n",
      "\n",
      "With a single iterable argument, return its biggest item. The\n",
      "default keyword-only argument specifies an object to return if\n",
      "the provided iterable is empty.\n",
      "With two or more arguments, return the largest argument.\n"
     ]
    }
   ],
   "source": [
    "print(max.__doc__)"
   ]
  },
  {
   "cell_type": "code",
   "execution_count": 65,
   "metadata": {},
   "outputs": [
    {
     "name": "stdout",
     "output_type": "stream",
     "text": [
      "range(stop) -> range object\n",
      "range(start, stop[, step]) -> range object\n",
      "\n",
      "Return an object that produces a sequence of integers from start (inclusive)\n",
      "to stop (exclusive) by step.  range(i, j) produces i, i+1, i+2, ..., j-1.\n",
      "start defaults to 0, and stop is omitted!  range(4) produces 0, 1, 2, 3.\n",
      "These are exactly the valid indices for a list of 4 elements.\n",
      "When step is given, it specifies the increment (or decrement).\n"
     ]
    }
   ],
   "source": [
    "print(range.__doc__)"
   ]
  }
 ],
 "metadata": {
  "kernelspec": {
   "display_name": "Python 3 (ipykernel)",
   "language": "python",
   "name": "python3"
  },
  "language_info": {
   "codemirror_mode": {
    "name": "ipython",
    "version": 3
   },
   "file_extension": ".py",
   "mimetype": "text/x-python",
   "name": "python",
   "nbconvert_exporter": "python",
   "pygments_lexer": "ipython3",
   "version": "3.10.10"
  }
 },
 "nbformat": 4,
 "nbformat_minor": 4
}
