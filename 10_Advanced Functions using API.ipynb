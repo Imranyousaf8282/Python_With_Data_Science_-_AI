{
 "cells": [
  {
   "cell_type": "markdown",
   "metadata": {},
   "source": [
    "### Elevate your python skills with advanced function using APi\n",
    "* find weakest currency"
   ]
  },
  {
   "cell_type": "code",
   "execution_count": 44,
   "metadata": {},
   "outputs": [],
   "source": [
    "import requests"
   ]
  },
  {
   "cell_type": "code",
   "execution_count": 45,
   "metadata": {},
   "outputs": [],
   "source": [
    "url = \"https://api.exchangerate-api.com/v4/latest/usd\""
   ]
  },
  {
   "cell_type": "code",
   "execution_count": 46,
   "metadata": {},
   "outputs": [],
   "source": [
    "responce = requests.get(url)"
   ]
  },
  {
   "cell_type": "code",
   "execution_count": 47,
   "metadata": {},
   "outputs": [
    {
     "data": {
      "text/plain": [
       "200"
      ]
     },
     "execution_count": 47,
     "metadata": {},
     "output_type": "execute_result"
    }
   ],
   "source": [
    "responce.status_code"
   ]
  },
  {
   "cell_type": "code",
   "execution_count": 48,
   "metadata": {},
   "outputs": [],
   "source": [
    "data = responce.json()"
   ]
  },
  {
   "cell_type": "code",
   "execution_count": 49,
   "metadata": {},
   "outputs": [
    {
     "data": {
      "text/plain": [
       "{'provider': 'https://www.exchangerate-api.com',\n",
       " 'WARNING_UPGRADE_TO_V6': 'https://www.exchangerate-api.com/docs/free',\n",
       " 'terms': 'https://www.exchangerate-api.com/terms',\n",
       " 'base': 'USD',\n",
       " 'date': '2023-11-04',\n",
       " 'time_last_updated': 1699056001,\n",
       " 'rates': {'USD': 1,\n",
       "  'AED': 3.67,\n",
       "  'AFN': 73.82,\n",
       "  'ALL': 99.46,\n",
       "  'AMD': 401.96,\n",
       "  'ANG': 1.79,\n",
       "  'AOA': 837.92,\n",
       "  'ARS': 350.03,\n",
       "  'AUD': 1.54,\n",
       "  'AWG': 1.79,\n",
       "  'AZN': 1.7,\n",
       "  'BAM': 1.83,\n",
       "  'BBD': 2,\n",
       "  'BDT': 110.56,\n",
       "  'BGN': 1.83,\n",
       "  'BHD': 0.376,\n",
       "  'BIF': 2828.87,\n",
       "  'BMD': 1,\n",
       "  'BND': 1.36,\n",
       "  'BOB': 6.92,\n",
       "  'BRL': 4.94,\n",
       "  'BSD': 1,\n",
       "  'BTN': 83.2,\n",
       "  'BWP': 13.59,\n",
       "  'BYN': 3.28,\n",
       "  'BZD': 2,\n",
       "  'CAD': 1.37,\n",
       "  'CDF': 2487.06,\n",
       "  'CHF': 0.9,\n",
       "  'CLP': 891.21,\n",
       "  'CNY': 7.31,\n",
       "  'COP': 4085.34,\n",
       "  'CRC': 530.15,\n",
       "  'CUP': 24,\n",
       "  'CVE': 103,\n",
       "  'CZK': 22.85,\n",
       "  'DJF': 177.72,\n",
       "  'DKK': 6.98,\n",
       "  'DOP': 56.74,\n",
       "  'DZD': 136,\n",
       "  'EGP': 30.89,\n",
       "  'ERN': 15,\n",
       "  'ETB': 55.99,\n",
       "  'EUR': 0.934,\n",
       "  'FJD': 2.26,\n",
       "  'FKP': 0.81,\n",
       "  'FOK': 6.97,\n",
       "  'GBP': 0.81,\n",
       "  'GEL': 2.71,\n",
       "  'GGP': 0.81,\n",
       "  'GHS': 12,\n",
       "  'GIP': 0.81,\n",
       "  'GMD': 64.82,\n",
       "  'GNF': 8590.29,\n",
       "  'GTQ': 7.82,\n",
       "  'GYD': 209.36,\n",
       "  'HKD': 7.82,\n",
       "  'HNL': 24.65,\n",
       "  'HRK': 7.04,\n",
       "  'HTG': 132.97,\n",
       "  'HUF': 355.21,\n",
       "  'IDR': 15685.41,\n",
       "  'ILS': 3.94,\n",
       "  'IMP': 0.81,\n",
       "  'INR': 83.2,\n",
       "  'IQD': 1309.7,\n",
       "  'IRR': 41964.6,\n",
       "  'ISK': 139.32,\n",
       "  'JEP': 0.81,\n",
       "  'JMD': 155.87,\n",
       "  'JOD': 0.709,\n",
       "  'JPY': 149.51,\n",
       "  'KES': 150.75,\n",
       "  'KGS': 88.96,\n",
       "  'KHR': 4123.35,\n",
       "  'KID': 1.54,\n",
       "  'KMF': 459.56,\n",
       "  'KRW': 1312.93,\n",
       "  'KWD': 0.309,\n",
       "  'KYD': 0.833,\n",
       "  'KZT': 467.19,\n",
       "  'LAK': 20593.58,\n",
       "  'LBP': 15000,\n",
       "  'LKR': 328.23,\n",
       "  'LRD': 190.78,\n",
       "  'LSL': 18.27,\n",
       "  'LYD': 4.9,\n",
       "  'MAD': 10.22,\n",
       "  'MDL': 18.12,\n",
       "  'MGA': 4507.13,\n",
       "  'MKD': 57.72,\n",
       "  'MMK': 2097.08,\n",
       "  'MNT': 3448.74,\n",
       "  'MOP': 8.06,\n",
       "  'MRU': 39.26,\n",
       "  'MUR': 44.16,\n",
       "  'MVR': 15.45,\n",
       "  'MWK': 1166.21,\n",
       "  'MXN': 17.46,\n",
       "  'MYR': 4.74,\n",
       "  'MZN': 63.9,\n",
       "  'NAD': 18.27,\n",
       "  'NGN': 786.06,\n",
       "  'NIO': 36.54,\n",
       "  'NOK': 11.08,\n",
       "  'NPR': 133.12,\n",
       "  'NZD': 1.67,\n",
       "  'OMR': 0.384,\n",
       "  'PAB': 1,\n",
       "  'PEN': 3.83,\n",
       "  'PGK': 3.71,\n",
       "  'PHP': 55.92,\n",
       "  'PKR': 282.83,\n",
       "  'PLN': 4.17,\n",
       "  'PYG': 7484.12,\n",
       "  'QAR': 3.64,\n",
       "  'RON': 4.65,\n",
       "  'RSD': 109.43,\n",
       "  'RUB': 93.23,\n",
       "  'RWF': 1273.38,\n",
       "  'SAR': 3.75,\n",
       "  'SBD': 8.5,\n",
       "  'SCR': 13.49,\n",
       "  'SDG': 535.77,\n",
       "  'SEK': 10.94,\n",
       "  'SGD': 1.36,\n",
       "  'SHP': 0.81,\n",
       "  'SLE': 22.35,\n",
       "  'SLL': 22348.58,\n",
       "  'SOS': 572.16,\n",
       "  'SRD': 38.34,\n",
       "  'SSP': 1044.49,\n",
       "  'STN': 22.89,\n",
       "  'SYP': 12899.65,\n",
       "  'SZL': 18.27,\n",
       "  'THB': 35.57,\n",
       "  'TJS': 10.93,\n",
       "  'TMT': 3.5,\n",
       "  'TND': 3.16,\n",
       "  'TOP': 2.38,\n",
       "  'TRY': 28.41,\n",
       "  'TTD': 6.76,\n",
       "  'TVD': 1.54,\n",
       "  'TWD': 32.14,\n",
       "  'TZS': 2512.16,\n",
       "  'UAH': 36.19,\n",
       "  'UGX': 3781.2,\n",
       "  'UYU': 39.89,\n",
       "  'UZS': 12213.16,\n",
       "  'VES': 35.24,\n",
       "  'VND': 24545.82,\n",
       "  'VUV': 121.42,\n",
       "  'WST': 2.79,\n",
       "  'XAF': 612.75,\n",
       "  'XCD': 2.7,\n",
       "  'XDR': 0.762,\n",
       "  'XOF': 612.75,\n",
       "  'XPF': 111.47,\n",
       "  'YER': 249.84,\n",
       "  'ZAR': 18.29,\n",
       "  'ZMW': 22.26,\n",
       "  'ZWL': 5760.6}}"
      ]
     },
     "execution_count": 49,
     "metadata": {},
     "output_type": "execute_result"
    }
   ],
   "source": [
    "data"
   ]
  },
  {
   "cell_type": "code",
   "execution_count": 50,
   "metadata": {},
   "outputs": [
    {
     "data": {
      "text/plain": [
       "282.83"
      ]
     },
     "execution_count": 50,
     "metadata": {},
     "output_type": "execute_result"
    }
   ],
   "source": [
    "data[\"rates\"][\"PKR\"]"
   ]
  },
  {
   "cell_type": "code",
   "execution_count": 51,
   "metadata": {},
   "outputs": [],
   "source": [
    "# ERROR    \n",
    "# def weakest_cur(url): # Parameter\n",
    "#     data = requests.get(url).json()\n",
    "#     weekest_rates = 0\n",
    "#     currency_code = \"\"\n",
    "    \n",
    "#     rates = data[\"rates\"] # dictionary\n",
    "    \n",
    "#     for country_code in rates:\n",
    "#         exc_rate = rates[country_code]\n",
    "#         if exc_rate > weekest_rates:\n",
    "#             weekest_rates= exc_rate\n",
    "#             currency_code = country_code\n",
    "            \n",
    "#     return country_code"
   ]
  },
  {
   "cell_type": "code",
   "execution_count": 52,
   "metadata": {},
   "outputs": [],
   "source": [
    "def weakest_curr(url):\n",
    "    data = requests.get(url).json()\n",
    "\n",
    "    weakest_rate = 0\n",
    "    currency_code = \"\"\n",
    "    rates = data[\"rates\"]\n",
    "    for country_code in rates:\n",
    "        exc_rate = rates[country_code]\n",
    "        if weakest_rate < exc_rate:\n",
    "            weakest_rate = exc_rate\n",
    "            currency_code = country_code\n",
    "\n",
    "    return currency_code"
   ]
  },
  {
   "cell_type": "code",
   "execution_count": 53,
   "metadata": {},
   "outputs": [
    {
     "data": {
      "text/plain": [
       "'IRR'"
      ]
     },
     "execution_count": 53,
     "metadata": {},
     "output_type": "execute_result"
    }
   ],
   "source": [
    "weakest_curr(url)"
   ]
  },
  {
   "cell_type": "code",
   "execution_count": 54,
   "metadata": {},
   "outputs": [
    {
     "data": {
      "text/plain": [
       "41964.6"
      ]
     },
     "execution_count": 54,
     "metadata": {},
     "output_type": "execute_result"
    }
   ],
   "source": [
    "data[\"rates\"][weakest_curr(url)]"
   ]
  },
  {
   "cell_type": "code",
   "execution_count": 55,
   "metadata": {},
   "outputs": [],
   "source": [
    "# data[\"rates\"][\"ZWL\"]"
   ]
  },
  {
   "cell_type": "markdown",
   "metadata": {},
   "source": [
    "##### find weakest currency usin loop"
   ]
  },
  {
   "cell_type": "code",
   "execution_count": 56,
   "metadata": {},
   "outputs": [],
   "source": [
    "\n",
    "\n",
    "usd_API_data= data"
   ]
  },
  {
   "cell_type": "code",
   "execution_count": 57,
   "metadata": {},
   "outputs": [
    {
     "data": {
      "text/plain": [
       "{'USD': 1,\n",
       " 'AED': 3.67,\n",
       " 'AFN': 73.82,\n",
       " 'ALL': 99.46,\n",
       " 'AMD': 401.96,\n",
       " 'ANG': 1.79,\n",
       " 'AOA': 837.92,\n",
       " 'ARS': 350.03,\n",
       " 'AUD': 1.54,\n",
       " 'AWG': 1.79,\n",
       " 'AZN': 1.7,\n",
       " 'BAM': 1.83,\n",
       " 'BBD': 2,\n",
       " 'BDT': 110.56,\n",
       " 'BGN': 1.83,\n",
       " 'BHD': 0.376,\n",
       " 'BIF': 2828.87,\n",
       " 'BMD': 1,\n",
       " 'BND': 1.36,\n",
       " 'BOB': 6.92,\n",
       " 'BRL': 4.94,\n",
       " 'BSD': 1,\n",
       " 'BTN': 83.2,\n",
       " 'BWP': 13.59,\n",
       " 'BYN': 3.28,\n",
       " 'BZD': 2,\n",
       " 'CAD': 1.37,\n",
       " 'CDF': 2487.06,\n",
       " 'CHF': 0.9,\n",
       " 'CLP': 891.21,\n",
       " 'CNY': 7.31,\n",
       " 'COP': 4085.34,\n",
       " 'CRC': 530.15,\n",
       " 'CUP': 24,\n",
       " 'CVE': 103,\n",
       " 'CZK': 22.85,\n",
       " 'DJF': 177.72,\n",
       " 'DKK': 6.98,\n",
       " 'DOP': 56.74,\n",
       " 'DZD': 136,\n",
       " 'EGP': 30.89,\n",
       " 'ERN': 15,\n",
       " 'ETB': 55.99,\n",
       " 'EUR': 0.934,\n",
       " 'FJD': 2.26,\n",
       " 'FKP': 0.81,\n",
       " 'FOK': 6.97,\n",
       " 'GBP': 0.81,\n",
       " 'GEL': 2.71,\n",
       " 'GGP': 0.81,\n",
       " 'GHS': 12,\n",
       " 'GIP': 0.81,\n",
       " 'GMD': 64.82,\n",
       " 'GNF': 8590.29,\n",
       " 'GTQ': 7.82,\n",
       " 'GYD': 209.36,\n",
       " 'HKD': 7.82,\n",
       " 'HNL': 24.65,\n",
       " 'HRK': 7.04,\n",
       " 'HTG': 132.97,\n",
       " 'HUF': 355.21,\n",
       " 'IDR': 15685.41,\n",
       " 'ILS': 3.94,\n",
       " 'IMP': 0.81,\n",
       " 'INR': 83.2,\n",
       " 'IQD': 1309.7,\n",
       " 'IRR': 41964.6,\n",
       " 'ISK': 139.32,\n",
       " 'JEP': 0.81,\n",
       " 'JMD': 155.87,\n",
       " 'JOD': 0.709,\n",
       " 'JPY': 149.51,\n",
       " 'KES': 150.75,\n",
       " 'KGS': 88.96,\n",
       " 'KHR': 4123.35,\n",
       " 'KID': 1.54,\n",
       " 'KMF': 459.56,\n",
       " 'KRW': 1312.93,\n",
       " 'KWD': 0.309,\n",
       " 'KYD': 0.833,\n",
       " 'KZT': 467.19,\n",
       " 'LAK': 20593.58,\n",
       " 'LBP': 15000,\n",
       " 'LKR': 328.23,\n",
       " 'LRD': 190.78,\n",
       " 'LSL': 18.27,\n",
       " 'LYD': 4.9,\n",
       " 'MAD': 10.22,\n",
       " 'MDL': 18.12,\n",
       " 'MGA': 4507.13,\n",
       " 'MKD': 57.72,\n",
       " 'MMK': 2097.08,\n",
       " 'MNT': 3448.74,\n",
       " 'MOP': 8.06,\n",
       " 'MRU': 39.26,\n",
       " 'MUR': 44.16,\n",
       " 'MVR': 15.45,\n",
       " 'MWK': 1166.21,\n",
       " 'MXN': 17.46,\n",
       " 'MYR': 4.74,\n",
       " 'MZN': 63.9,\n",
       " 'NAD': 18.27,\n",
       " 'NGN': 786.06,\n",
       " 'NIO': 36.54,\n",
       " 'NOK': 11.08,\n",
       " 'NPR': 133.12,\n",
       " 'NZD': 1.67,\n",
       " 'OMR': 0.384,\n",
       " 'PAB': 1,\n",
       " 'PEN': 3.83,\n",
       " 'PGK': 3.71,\n",
       " 'PHP': 55.92,\n",
       " 'PKR': 282.83,\n",
       " 'PLN': 4.17,\n",
       " 'PYG': 7484.12,\n",
       " 'QAR': 3.64,\n",
       " 'RON': 4.65,\n",
       " 'RSD': 109.43,\n",
       " 'RUB': 93.23,\n",
       " 'RWF': 1273.38,\n",
       " 'SAR': 3.75,\n",
       " 'SBD': 8.5,\n",
       " 'SCR': 13.49,\n",
       " 'SDG': 535.77,\n",
       " 'SEK': 10.94,\n",
       " 'SGD': 1.36,\n",
       " 'SHP': 0.81,\n",
       " 'SLE': 22.35,\n",
       " 'SLL': 22348.58,\n",
       " 'SOS': 572.16,\n",
       " 'SRD': 38.34,\n",
       " 'SSP': 1044.49,\n",
       " 'STN': 22.89,\n",
       " 'SYP': 12899.65,\n",
       " 'SZL': 18.27,\n",
       " 'THB': 35.57,\n",
       " 'TJS': 10.93,\n",
       " 'TMT': 3.5,\n",
       " 'TND': 3.16,\n",
       " 'TOP': 2.38,\n",
       " 'TRY': 28.41,\n",
       " 'TTD': 6.76,\n",
       " 'TVD': 1.54,\n",
       " 'TWD': 32.14,\n",
       " 'TZS': 2512.16,\n",
       " 'UAH': 36.19,\n",
       " 'UGX': 3781.2,\n",
       " 'UYU': 39.89,\n",
       " 'UZS': 12213.16,\n",
       " 'VES': 35.24,\n",
       " 'VND': 24545.82,\n",
       " 'VUV': 121.42,\n",
       " 'WST': 2.79,\n",
       " 'XAF': 612.75,\n",
       " 'XCD': 2.7,\n",
       " 'XDR': 0.762,\n",
       " 'XOF': 612.75,\n",
       " 'XPF': 111.47,\n",
       " 'YER': 249.84,\n",
       " 'ZAR': 18.29,\n",
       " 'ZMW': 22.26,\n",
       " 'ZWL': 5760.6}"
      ]
     },
     "execution_count": 57,
     "metadata": {},
     "output_type": "execute_result"
    }
   ],
   "source": [
    "weakes_rates = 0\n",
    "weakest_cou_code = \"\"\n",
    "\n",
    "rates = data[\"rates\"]\n",
    "rates\n"
   ]
  },
  {
   "cell_type": "code",
   "execution_count": 58,
   "metadata": {},
   "outputs": [],
   "source": [
    "a,b = 11,32"
   ]
  },
  {
   "cell_type": "code",
   "execution_count": 59,
   "metadata": {},
   "outputs": [
    {
     "data": {
      "text/plain": [
       "32"
      ]
     },
     "execution_count": 59,
     "metadata": {},
     "output_type": "execute_result"
    }
   ],
   "source": [
    "b"
   ]
  },
  {
   "cell_type": "code",
   "execution_count": 60,
   "metadata": {},
   "outputs": [
    {
     "data": {
      "text/plain": [
       "11"
      ]
     },
     "execution_count": 60,
     "metadata": {},
     "output_type": "execute_result"
    }
   ],
   "source": [
    "a"
   ]
  },
  {
   "cell_type": "code",
   "execution_count": 61,
   "metadata": {},
   "outputs": [],
   "source": [
    "weakes_rates = 0\n",
    "weakest_cou_code = \"\"\n",
    "\n",
    "rates = data[\"rates\"]\n",
    "\n",
    "for count_cod,exc in rates.items():\n",
    "    if weakes_rates < exc:\n",
    "        weakes_rates = exc\n",
    "        weakest_cou_code = count_cod\n",
    "\n"
   ]
  },
  {
   "cell_type": "code",
   "execution_count": 62,
   "metadata": {},
   "outputs": [
    {
     "data": {
      "text/plain": [
       "41964.6"
      ]
     },
     "execution_count": 62,
     "metadata": {},
     "output_type": "execute_result"
    }
   ],
   "source": [
    "weakes_rates"
   ]
  },
  {
   "cell_type": "code",
   "execution_count": 63,
   "metadata": {},
   "outputs": [
    {
     "data": {
      "text/plain": [
       "'IRR'"
      ]
     },
     "execution_count": 63,
     "metadata": {},
     "output_type": "execute_result"
    }
   ],
   "source": [
    "weakest_cou_code"
   ]
  },
  {
   "cell_type": "code",
   "execution_count": 64,
   "metadata": {},
   "outputs": [
    {
     "data": {
      "text/plain": [
       "41964.6"
      ]
     },
     "execution_count": 64,
     "metadata": {},
     "output_type": "execute_result"
    }
   ],
   "source": [
    "data[\"rates\"][\"IRR\"]"
   ]
  },
  {
   "cell_type": "code",
   "execution_count": 65,
   "metadata": {},
   "outputs": [
    {
     "data": {
      "text/plain": [
       "'ZWL'"
      ]
     },
     "execution_count": 65,
     "metadata": {},
     "output_type": "execute_result"
    }
   ],
   "source": [
    "max(rates)"
   ]
  },
  {
   "cell_type": "code",
   "execution_count": 66,
   "metadata": {},
   "outputs": [
    {
     "data": {
      "text/plain": [
       "5760.6"
      ]
     },
     "execution_count": 66,
     "metadata": {},
     "output_type": "execute_result"
    }
   ],
   "source": [
    "rates[\"ZWL\"]"
   ]
  },
  {
   "cell_type": "code",
   "execution_count": 67,
   "metadata": {},
   "outputs": [
    {
     "data": {
      "text/plain": [
       "'AED'"
      ]
     },
     "execution_count": 67,
     "metadata": {},
     "output_type": "execute_result"
    }
   ],
   "source": [
    "min(rates)"
   ]
  },
  {
   "cell_type": "code",
   "execution_count": 68,
   "metadata": {},
   "outputs": [
    {
     "data": {
      "text/plain": [
       "3.67"
      ]
     },
     "execution_count": 68,
     "metadata": {},
     "output_type": "execute_result"
    }
   ],
   "source": [
    "rates[\"AED\"]"
   ]
  },
  {
   "cell_type": "code",
   "execution_count": 69,
   "metadata": {},
   "outputs": [
    {
     "data": {
      "text/plain": [
       "41964.6"
      ]
     },
     "execution_count": 69,
     "metadata": {},
     "output_type": "execute_result"
    }
   ],
   "source": [
    "max(rates.values())"
   ]
  },
  {
   "cell_type": "code",
   "execution_count": 70,
   "metadata": {},
   "outputs": [
    {
     "data": {
      "text/plain": [
       "'IRR'"
      ]
     },
     "execution_count": 70,
     "metadata": {},
     "output_type": "execute_result"
    }
   ],
   "source": [
    "max(rates,key =rates.get)"
   ]
  },
  {
   "cell_type": "code",
   "execution_count": 71,
   "metadata": {},
   "outputs": [
    {
     "data": {
      "text/plain": [
       "41964.6"
      ]
     },
     "execution_count": 71,
     "metadata": {},
     "output_type": "execute_result"
    }
   ],
   "source": [
    "rates.get(\"IRR\")"
   ]
  },
  {
   "cell_type": "code",
   "execution_count": 72,
   "metadata": {},
   "outputs": [],
   "source": [
    "rates.get(\"ABC\") #do not show the error\n"
   ]
  },
  {
   "cell_type": "code",
   "execution_count": 73,
   "metadata": {},
   "outputs": [
    {
     "data": {
      "text/plain": [
       "'Thats exchange rate is not available'"
      ]
     },
     "execution_count": 73,
     "metadata": {},
     "output_type": "execute_result"
    }
   ],
   "source": [
    "rates.get(\"ABC\",\"Thats exchange rate is not available\")"
   ]
  },
  {
   "cell_type": "code",
   "execution_count": 74,
   "metadata": {},
   "outputs": [],
   "source": [
    "func = sum"
   ]
  },
  {
   "cell_type": "code",
   "execution_count": 75,
   "metadata": {},
   "outputs": [
    {
     "data": {
      "text/plain": [
       "22"
      ]
     },
     "execution_count": 75,
     "metadata": {},
     "output_type": "execute_result"
    }
   ],
   "source": [
    "func([2,6,5,4,3,2])"
   ]
  },
  {
   "cell_type": "code",
   "execution_count": 82,
   "metadata": {},
   "outputs": [],
   "source": [
    "value = 0\n",
    "k = \"\"\n",
    "\n",
    "for key in rates:\n",
    "    if rates[key] > value:\n",
    "        value = rates[key]\n",
    "        k = key"
   ]
  },
  {
   "cell_type": "code",
   "execution_count": 84,
   "metadata": {},
   "outputs": [
    {
     "data": {
      "text/plain": [
       "'IRR'"
      ]
     },
     "execution_count": 84,
     "metadata": {},
     "output_type": "execute_result"
    }
   ],
   "source": [
    "k"
   ]
  },
  {
   "cell_type": "code",
   "execution_count": 95,
   "metadata": {},
   "outputs": [
    {
     "data": {
      "text/plain": [
       "15"
      ]
     },
     "execution_count": 95,
     "metadata": {},
     "output_type": "execute_result"
    }
   ],
   "source": [
    "def addition(a,b):\n",
    "    a = 7\n",
    "    b = 8\n",
    "    add =a+b\n",
    "    return add\n",
    "addition(a,b)\n"
   ]
  },
  {
   "cell_type": "code",
   "execution_count": 97,
   "metadata": {},
   "outputs": [
    {
     "data": {
      "text/plain": [
       "15"
      ]
     },
     "execution_count": 97,
     "metadata": {},
     "output_type": "execute_result"
    }
   ],
   "source": [
    "def addition(a,b):\n",
    "    add = a+b\n",
    "    return add\n",
    "addition(7,8)"
   ]
  },
  {
   "cell_type": "markdown",
   "metadata": {},
   "source": [
    "## Arguments\n",
    "* positional arguments \n",
    "* named arguments or key arguments"
   ]
  },
  {
   "cell_type": "code",
   "execution_count": 98,
   "metadata": {},
   "outputs": [],
   "source": [
    "def subtraction(a,b): # a,b are parameter -> headers\n",
    "    sub = a-b         # body\n",
    "    return sub        # return statement\n"
   ]
  },
  {
   "cell_type": "code",
   "execution_count": 99,
   "metadata": {},
   "outputs": [
    {
     "data": {
      "text/plain": [
       "21"
      ]
     },
     "execution_count": 99,
     "metadata": {},
     "output_type": "execute_result"
    }
   ],
   "source": [
    "subtraction(60,39)"
   ]
  },
  {
   "cell_type": "code",
   "execution_count": 100,
   "metadata": {},
   "outputs": [
    {
     "data": {
      "text/plain": [
       "39"
      ]
     },
     "execution_count": 100,
     "metadata": {},
     "output_type": "execute_result"
    }
   ],
   "source": [
    "subtraction(a = 70,b = 31)"
   ]
  },
  {
   "cell_type": "code",
   "execution_count": 101,
   "metadata": {},
   "outputs": [
    {
     "data": {
      "text/plain": [
       "39"
      ]
     },
     "execution_count": 101,
     "metadata": {},
     "output_type": "execute_result"
    }
   ],
   "source": [
    "subtraction(b = 31,a =70)"
   ]
  },
  {
   "cell_type": "code",
   "execution_count": 102,
   "metadata": {},
   "outputs": [
    {
     "data": {
      "text/plain": [
       "-42"
      ]
     },
     "execution_count": 102,
     "metadata": {},
     "output_type": "execute_result"
    }
   ],
   "source": [
    "subtraction(b = 65,a = 23)"
   ]
  },
  {
   "cell_type": "code",
   "execution_count": 104,
   "metadata": {},
   "outputs": [
    {
     "data": {
      "text/plain": [
       "{'a': 2, 'b': 5}"
      ]
     },
     "execution_count": 104,
     "metadata": {},
     "output_type": "execute_result"
    }
   ],
   "source": [
    "dict(a = 2,b = 5)"
   ]
  },
  {
   "cell_type": "markdown",
   "metadata": {},
   "source": [
    "* default arguments"
   ]
  },
  {
   "cell_type": "code",
   "execution_count": 105,
   "metadata": {},
   "outputs": [],
   "source": [
    "def tax_calu(salary,tax_rate):\n",
    "    tax_value = salary*tax_rate\n",
    "    return tax_value"
   ]
  },
  {
   "cell_type": "code",
   "execution_count": 107,
   "metadata": {},
   "outputs": [
    {
     "data": {
      "text/plain": [
       "60000.0"
      ]
     },
     "execution_count": 107,
     "metadata": {},
     "output_type": "execute_result"
    }
   ],
   "source": [
    "tax_calu(1000000,0.06)"
   ]
  },
  {
   "cell_type": "code",
   "execution_count": 109,
   "metadata": {},
   "outputs": [
    {
     "data": {
      "text/plain": [
       "40000.0"
      ]
     },
     "execution_count": 109,
     "metadata": {},
     "output_type": "execute_result"
    }
   ],
   "source": [
    "tax_calu(200000,tax_rate=0.2)"
   ]
  },
  {
   "cell_type": "code",
   "execution_count": 110,
   "metadata": {},
   "outputs": [],
   "source": [
    "def tax_calu(salary,tax_rate=0.7): #default arguments\n",
    "    tax_value = salary*tax_rate\n",
    "    return tax_value"
   ]
  },
  {
   "cell_type": "code",
   "execution_count": 111,
   "metadata": {},
   "outputs": [
    {
     "data": {
      "text/plain": [
       "350000.0"
      ]
     },
     "execution_count": 111,
     "metadata": {},
     "output_type": "execute_result"
    }
   ],
   "source": [
    "tax_calu(500000)"
   ]
  },
  {
   "cell_type": "code",
   "execution_count": 113,
   "metadata": {},
   "outputs": [
    {
     "data": {
      "text/plain": [
       "30000000.0"
      ]
     },
     "execution_count": 113,
     "metadata": {},
     "output_type": "execute_result"
    }
   ],
   "source": [
    "tax_calu(60000000,0.5)"
   ]
  },
  {
   "cell_type": "markdown",
   "metadata": {},
   "source": [
    "* Multiple return statements"
   ]
  },
  {
   "cell_type": "code",
   "execution_count": 114,
   "metadata": {},
   "outputs": [],
   "source": [
    "def add_sub(a,b,addition=True):\n",
    "    add = a+b\n",
    "    sub = a-b\n",
    "\n",
    "    if addition:\n",
    "        return add\n",
    "    else:\n",
    "        return sub\n"
   ]
  },
  {
   "cell_type": "code",
   "execution_count": 115,
   "metadata": {},
   "outputs": [
    {
     "data": {
      "text/plain": [
       "77"
      ]
     },
     "execution_count": 115,
     "metadata": {},
     "output_type": "execute_result"
    }
   ],
   "source": [
    "add_sub(23,54)"
   ]
  },
  {
   "cell_type": "code",
   "execution_count": 116,
   "metadata": {},
   "outputs": [
    {
     "data": {
      "text/plain": [
       "51"
      ]
     },
     "execution_count": 116,
     "metadata": {},
     "output_type": "execute_result"
    }
   ],
   "source": [
    "add_sub(80,29,False)"
   ]
  },
  {
   "cell_type": "code",
   "execution_count": 117,
   "metadata": {},
   "outputs": [
    {
     "data": {
      "text/plain": [
       "40"
      ]
     },
     "execution_count": 117,
     "metadata": {},
     "output_type": "execute_result"
    }
   ],
   "source": [
    "add_sub(a=60,b=20,addition=False)"
   ]
  },
  {
   "cell_type": "code",
   "execution_count": 119,
   "metadata": {},
   "outputs": [
    {
     "data": {
      "text/plain": [
       "40"
      ]
     },
     "execution_count": 119,
     "metadata": {},
     "output_type": "execute_result"
    }
   ],
   "source": [
    "add_sub(a=60,addition=False,b=20)\n"
   ]
  },
  {
   "cell_type": "code",
   "execution_count": 121,
   "metadata": {},
   "outputs": [],
   "source": [
    "# add_sub(addition=False,b=20,65) #positional argument follows keyword argument\n"
   ]
  },
  {
   "cell_type": "code",
   "execution_count": 123,
   "metadata": {},
   "outputs": [],
   "source": [
    "# return multiple statement\n",
    "def add_sub(a,b):\n",
    "    add = a+b\n",
    "    sub = a-b\n",
    "    return add,sub"
   ]
  },
  {
   "cell_type": "code",
   "execution_count": 124,
   "metadata": {},
   "outputs": [
    {
     "data": {
      "text/plain": [
       "(30, 10)"
      ]
     },
     "execution_count": 124,
     "metadata": {},
     "output_type": "execute_result"
    }
   ],
   "source": [
    "add_sub(20,10)"
   ]
  },
  {
   "cell_type": "code",
   "execution_count": 125,
   "metadata": {},
   "outputs": [],
   "source": [
    "add,sub = add_sub(40,21)"
   ]
  },
  {
   "cell_type": "code",
   "execution_count": 126,
   "metadata": {},
   "outputs": [
    {
     "data": {
      "text/plain": [
       "19"
      ]
     },
     "execution_count": 126,
     "metadata": {},
     "output_type": "execute_result"
    }
   ],
   "source": [
    "sub"
   ]
  },
  {
   "cell_type": "code",
   "execution_count": 127,
   "metadata": {},
   "outputs": [],
   "source": [
    "def tax_calu(salary):\n",
    "    tax_rate=0.6\n",
    "    return salary*tax_rate"
   ]
  },
  {
   "cell_type": "code",
   "execution_count": 128,
   "metadata": {},
   "outputs": [
    {
     "data": {
      "text/plain": [
       "1200000.0"
      ]
     },
     "execution_count": 128,
     "metadata": {},
     "output_type": "execute_result"
    }
   ],
   "source": [
    "tax_calu(2000000)"
   ]
  },
  {
   "cell_type": "markdown",
   "metadata": {},
   "source": [
    "## Lambda Function\n",
    "* map\n",
    "* filter"
   ]
  },
  {
   "cell_type": "code",
   "execution_count": 133,
   "metadata": {},
   "outputs": [],
   "source": [
    "l = [200,499,201,301,210,760]"
   ]
  },
  {
   "cell_type": "code",
   "execution_count": 134,
   "metadata": {},
   "outputs": [
    {
     "data": {
      "text/plain": [
       "[200, 499, 201, 301, 210, 760]"
      ]
     },
     "execution_count": 134,
     "metadata": {},
     "output_type": "execute_result"
    }
   ],
   "source": [
    "l"
   ]
  },
  {
   "cell_type": "code",
   "execution_count": 135,
   "metadata": {},
   "outputs": [],
   "source": [
    "l_double =[]\n",
    "\n",
    "for i in l:\n",
    "    ans = i*2\n",
    "    l_double.append(ans)\n",
    "    "
   ]
  },
  {
   "cell_type": "code",
   "execution_count": 137,
   "metadata": {},
   "outputs": [
    {
     "data": {
      "text/plain": [
       "[400, 998, 402, 602, 420, 1520]"
      ]
     },
     "execution_count": 137,
     "metadata": {},
     "output_type": "execute_result"
    }
   ],
   "source": [
    "l_double"
   ]
  },
  {
   "cell_type": "code",
   "execution_count": 138,
   "metadata": {},
   "outputs": [
    {
     "data": {
      "text/plain": [
       "['ABC', 'DEF', 'GHIJ', 'KLMNOP', 'QRSTU', 'VWXY', 'Z']"
      ]
     },
     "execution_count": 138,
     "metadata": {},
     "output_type": "execute_result"
    }
   ],
   "source": [
    "alpha = [\"ABC\",\"DEF\",\"GHIJ\",\"KLMNOP\",\"QRSTU\",\"VWXY\",\"Z\"]\n",
    "alpha"
   ]
  },
  {
   "cell_type": "code",
   "execution_count": 139,
   "metadata": {},
   "outputs": [
    {
     "data": {
      "text/plain": [
       "7"
      ]
     },
     "execution_count": 139,
     "metadata": {},
     "output_type": "execute_result"
    }
   ],
   "source": [
    "len(alpha)"
   ]
  },
  {
   "cell_type": "code",
   "execution_count": 140,
   "metadata": {},
   "outputs": [],
   "source": [
    "len_alpha = []\n",
    "\n",
    "for i in alpha:\n",
    "    length = len(i)\n",
    "    len_alpha.append(length)"
   ]
  },
  {
   "cell_type": "code",
   "execution_count": 141,
   "metadata": {},
   "outputs": [
    {
     "data": {
      "text/plain": [
       "[3, 3, 4, 6, 5, 4, 1]"
      ]
     },
     "execution_count": 141,
     "metadata": {},
     "output_type": "execute_result"
    }
   ],
   "source": [
    "len_alpha"
   ]
  },
  {
   "cell_type": "code",
   "execution_count": 142,
   "metadata": {},
   "outputs": [
    {
     "data": {
      "text/plain": [
       "<map at 0x15deb3dbd30>"
      ]
     },
     "execution_count": 142,
     "metadata": {},
     "output_type": "execute_result"
    }
   ],
   "source": [
    "map(len,alpha)"
   ]
  },
  {
   "cell_type": "code",
   "execution_count": 143,
   "metadata": {},
   "outputs": [
    {
     "data": {
      "text/plain": [
       "[3, 3, 4, 6, 5, 4, 1]"
      ]
     },
     "execution_count": 143,
     "metadata": {},
     "output_type": "execute_result"
    }
   ],
   "source": [
    "list(map(len,alpha))"
   ]
  },
  {
   "cell_type": "code",
   "execution_count": 144,
   "metadata": {},
   "outputs": [],
   "source": [
    "def mul(i):\n",
    "    return i*2"
   ]
  },
  {
   "cell_type": "code",
   "execution_count": 145,
   "metadata": {},
   "outputs": [
    {
     "data": {
      "text/plain": [
       "[400, 998, 402, 602, 420, 1520]"
      ]
     },
     "execution_count": 145,
     "metadata": {},
     "output_type": "execute_result"
    }
   ],
   "source": [
    "list(map(mul,l))"
   ]
  },
  {
   "cell_type": "code",
   "execution_count": 146,
   "metadata": {},
   "outputs": [
    {
     "data": {
      "text/plain": [
       "[600, 1497, 603, 903, 630, 2280]"
      ]
     },
     "execution_count": 146,
     "metadata": {},
     "output_type": "execute_result"
    }
   ],
   "source": [
    "list(map(lambda i: i*3,l))"
   ]
  },
  {
   "cell_type": "code",
   "execution_count": 147,
   "metadata": {},
   "outputs": [
    {
     "data": {
      "text/plain": [
       "[200, 499, 201, 301, 210, 760]"
      ]
     },
     "execution_count": 147,
     "metadata": {},
     "output_type": "execute_result"
    }
   ],
   "source": [
    "l"
   ]
  },
  {
   "cell_type": "code",
   "execution_count": 152,
   "metadata": {},
   "outputs": [
    {
     "data": {
      "text/plain": [
       "[200, 201, 210]"
      ]
     },
     "execution_count": 152,
     "metadata": {},
     "output_type": "execute_result"
    }
   ],
   "source": [
    "list(filter(lambda i: i<300,l))"
   ]
  },
  {
   "cell_type": "code",
   "execution_count": 1,
   "metadata": {},
   "outputs": [
    {
     "data": {
      "text/plain": [
       "[1, 2, 3, 4, 5, 6, 7, 8, 9, 10, 11, 12, 13, 14, 15, 16, 17, 18, 19]"
      ]
     },
     "execution_count": 1,
     "metadata": {},
     "output_type": "execute_result"
    }
   ],
   "source": [
    "list(range(1,20))"
   ]
  },
  {
   "cell_type": "code",
   "execution_count": null,
   "metadata": {},
   "outputs": [],
   "source": []
  }
 ],
 "metadata": {
  "kernelspec": {
   "display_name": "base",
   "language": "python",
   "name": "python3"
  },
  "language_info": {
   "codemirror_mode": {
    "name": "ipython",
    "version": 3
   },
   "file_extension": ".py",
   "mimetype": "text/x-python",
   "name": "python",
   "nbconvert_exporter": "python",
   "pygments_lexer": "ipython3",
   "version": "3.10.9"
  }
 },
 "nbformat": 4,
 "nbformat_minor": 2
}
