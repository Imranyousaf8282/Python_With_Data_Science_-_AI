{
 "cells": [
  {
   "cell_type": "markdown",
   "metadata": {},
   "source": [
    "## LLM"
   ]
  },
  {
   "cell_type": "code",
   "execution_count": 47,
   "metadata": {},
   "outputs": [],
   "source": [
    "def adjust_lighting():\n",
    "    print(\"Adjust lightning\")"
   ]
  },
  {
   "cell_type": "code",
   "execution_count": 48,
   "metadata": {},
   "outputs": [
    {
     "name": "stdout",
     "output_type": "stream",
     "text": [
      "Adjust lightning\n"
     ]
    }
   ],
   "source": [
    "adjust_lighting()"
   ]
  },
  {
   "cell_type": "code",
   "execution_count": 50,
   "metadata": {},
   "outputs": [],
   "source": [
    "adl = adjust_lighting"
   ]
  },
  {
   "cell_type": "code",
   "execution_count": 52,
   "metadata": {},
   "outputs": [
    {
     "name": "stdout",
     "output_type": "stream",
     "text": [
      "Adjust lightning\n"
     ]
    }
   ],
   "source": [
    "adl()"
   ]
  },
  {
   "cell_type": "code",
   "execution_count": 53,
   "metadata": {},
   "outputs": [],
   "source": [
    "def log_execution(original_function):\n",
    "    print (\"I am calling a function\")\n",
    "    original_function()\n",
    "    print(\"Function has been called\")"
   ]
  },
  {
   "cell_type": "code",
   "execution_count": 54,
   "metadata": {},
   "outputs": [
    {
     "name": "stdout",
     "output_type": "stream",
     "text": [
      "I am calling a function\n",
      "Adjust lightning\n",
      "Function has been called\n"
     ]
    }
   ],
   "source": [
    "log_execution(adjust_lighting)"
   ]
  },
  {
   "cell_type": "code",
   "execution_count": 55,
   "metadata": {},
   "outputs": [],
   "source": [
    "def log_execution():\n",
    "    def wrapper():\n",
    "        return \"some values\"\n",
    "    return wrapper"
   ]
  },
  {
   "cell_type": "code",
   "execution_count": 57,
   "metadata": {},
   "outputs": [],
   "source": [
    "wrap = log_execution()"
   ]
  },
  {
   "cell_type": "code",
   "execution_count": 59,
   "metadata": {},
   "outputs": [
    {
     "data": {
      "text/plain": [
       "'some values'"
      ]
     },
     "execution_count": 59,
     "metadata": {},
     "output_type": "execute_result"
    }
   ],
   "source": [
    "wrap()"
   ]
  },
  {
   "cell_type": "code",
   "execution_count": 60,
   "metadata": {},
   "outputs": [],
   "source": [
    "def adjust_lighting():\n",
    "    print(\"Adjust lightning\")\n",
    "def log_execution(original_function):\n",
    "    def wrapper():\n",
    "        print(\"Executing smart home system...\")\n",
    "        original_function()\n",
    "        print(\"Smart home system has been executed\")\n",
    "    return wrapper"
   ]
  },
  {
   "cell_type": "code",
   "execution_count": 62,
   "metadata": {},
   "outputs": [],
   "source": [
    "decorator_adl = log_execution(adjust_lighting)"
   ]
  },
  {
   "cell_type": "code",
   "execution_count": 65,
   "metadata": {},
   "outputs": [
    {
     "name": "stdout",
     "output_type": "stream",
     "text": [
      "Executing smart home system...\n",
      "Adjust lightning\n",
      "Smart home system has been executed\n"
     ]
    }
   ],
   "source": [
    "decorator_adl()"
   ]
  },
  {
   "cell_type": "code",
   "execution_count": 67,
   "metadata": {},
   "outputs": [],
   "source": [
    "@log_execution\n",
    "def adjust_lighting():\n",
    "    print(\"Adjust lightning\")"
   ]
  },
  {
   "cell_type": "code",
   "execution_count": 68,
   "metadata": {},
   "outputs": [
    {
     "name": "stdout",
     "output_type": "stream",
     "text": [
      "Executing smart home system...\n",
      "Adjust lightning\n",
      "Smart home system has been executed\n"
     ]
    }
   ],
   "source": [
    "adjust_lighting()"
   ]
  },
  {
   "cell_type": "code",
   "execution_count": 69,
   "metadata": {},
   "outputs": [],
   "source": [
    "def adjust_lighting():\n",
    "    print(\"Adjust lightning\")\n",
    "def log_execution(original_function):\n",
    "    def wrapper():\n",
    "        print(\"Executing smart home system...\")\n",
    "        original_function()\n",
    "        print(\"Smart home system has been executed\")\n",
    "    return wrapper\n",
    "@log_execution\n",
    "def adjust_lighting():\n",
    "    print(\"Adjust lightning\")"
   ]
  },
  {
   "cell_type": "code",
   "execution_count": 70,
   "metadata": {},
   "outputs": [
    {
     "name": "stdout",
     "output_type": "stream",
     "text": [
      "Executing smart home system...\n",
      "Adjust lightning\n",
      "Smart home system has been executed\n"
     ]
    }
   ],
   "source": [
    "adjust_lighting()"
   ]
  },
  {
   "cell_type": "code",
   "execution_count": 73,
   "metadata": {},
   "outputs": [
    {
     "name": "stdout",
     "output_type": "stream",
     "text": [
      "Adjust lightning to 80%\n"
     ]
    }
   ],
   "source": [
    "def adjust_lighting(brightness):\n",
    "    print(f\"Adjust lightning to {brightness}%\")\n",
    "\n",
    "adjust_lighting(80)"
   ]
  },
  {
   "cell_type": "code",
   "execution_count": 76,
   "metadata": {},
   "outputs": [
    {
     "name": "stdout",
     "output_type": "stream",
     "text": [
      "Executing smart home system...\n",
      "Adjust lightning to 80%\n",
      "Smart home system has been executed\n"
     ]
    }
   ],
   "source": [
    "def adjust_lighting():\n",
    "    print(\"Adjust lightning\")\n",
    "def log_execution(original_function):\n",
    "    def wrapper(args):\n",
    "        print(\"Executing smart home system...\")\n",
    "        original_function(args)\n",
    "        print(\"Smart home system has been executed\")\n",
    "    return wrapper\n",
    "@log_execution\n",
    "def adjust_lighting(brightness):\n",
    "    print(f\"Adjust lightning to {brightness}%\")\n",
    "\n",
    "adjust_lighting(80)"
   ]
  },
  {
   "cell_type": "code",
   "execution_count": 79,
   "metadata": {},
   "outputs": [
    {
     "name": "stdout",
     "output_type": "stream",
     "text": [
      "Executing smart home system...\n",
      "Adjust lightning to 80% to make its intensity to 20%\n",
      "Smart home system has been executed\n"
     ]
    }
   ],
   "source": [
    "def adjust_lighting():\n",
    "    print(\"Adjust lightning\")\n",
    "def log_execution(original_function):\n",
    "    def wrapper(*args):\n",
    "        print(\"Executing smart home system...\")\n",
    "        original_function(*args)\n",
    "        print(\"Smart home system has been executed\")\n",
    "    return wrapper\n",
    "@log_execution\n",
    "def adjust_lighting(brightness,intensity):\n",
    "    print(f\"Adjust lightning to {brightness}% to make its intensity to {intensity}%\")\n",
    "\n",
    "adjust_lighting(80,20)"
   ]
  },
  {
   "cell_type": "code",
   "execution_count": 83,
   "metadata": {},
   "outputs": [],
   "source": [
    "def adjust_lighting():\n",
    "    print(\"Adjust lightning\")\n",
    "def log_execution(original_function):\n",
    "    def wrapper(*args,**kwargs):\n",
    "        print(\"Executing smart home system...\")\n",
    "        original_function(*args,**kwargs)\n",
    "        print(\"Smart home system has been executed\")\n",
    "    return wrapper\n",
    "@log_execution\n",
    "def adjust_lighting(brightness,intensity):\n",
    "    print(f\"Adjust lightning to {brightness}% to make its intensity to {intensity}%\")"
   ]
  },
  {
   "cell_type": "code",
   "execution_count": 84,
   "metadata": {},
   "outputs": [
    {
     "name": "stdout",
     "output_type": "stream",
     "text": [
      "Executing smart home system...\n",
      "Adjust lightning to 80% to make its intensity to 70%\n",
      "Smart home system has been executed\n"
     ]
    }
   ],
   "source": [
    "adjust_lighting(brightness=80,intensity=70)"
   ]
  },
  {
   "cell_type": "code",
   "execution_count": 88,
   "metadata": {},
   "outputs": [
    {
     "name": "stdout",
     "output_type": "stream",
     "text": [
      "Executing smart home system...\n",
      "Adjust lightning to 20% to make its intensity to 80%\n",
      "Smart home system has been executed\n"
     ]
    }
   ],
   "source": [
    "adjust_lighting(20,80)"
   ]
  },
  {
   "cell_type": "code",
   "execution_count": 91,
   "metadata": {},
   "outputs": [
    {
     "name": "stdout",
     "output_type": "stream",
     "text": [
      "2024-03-09 20:08:15.323156\n"
     ]
    }
   ],
   "source": [
    "import datetime as dt\n",
    "print(dt.datetime.now())"
   ]
  },
  {
   "cell_type": "code",
   "execution_count": 92,
   "metadata": {},
   "outputs": [],
   "source": [
    "def Timestamp(origional_function):\n",
    "    def wrapper(*args,**kwargs):\n",
    "        print(dt.datetime.now())\n",
    "        origional_function(*args,**kwargs)\n",
    "    return wrapper\n"
   ]
  },
  {
   "cell_type": "code",
   "execution_count": 94,
   "metadata": {},
   "outputs": [],
   "source": [
    "ad = Timestamp(adjust_lighting)"
   ]
  },
  {
   "cell_type": "code",
   "execution_count": 96,
   "metadata": {},
   "outputs": [
    {
     "name": "stdout",
     "output_type": "stream",
     "text": [
      "2024-03-09 20:11:19.072812\n",
      "Executing smart home system...\n",
      "Adjust lightning to 20% to make its intensity to 30%\n",
      "Smart home system has been executed\n"
     ]
    }
   ],
   "source": [
    "ad(20,30)"
   ]
  },
  {
   "cell_type": "code",
   "execution_count": 101,
   "metadata": {},
   "outputs": [],
   "source": [
    "def Timestamp(origional_function):\n",
    "    def wrapper(*args,**kwargs):\n",
    "        print(dt.datetime.now())\n",
    "        origional_function(*args,**kwargs)\n",
    "    return wrapper\n",
    "def log_custom(message):\n",
    "    def log_execution(original_function):        \n",
    "        def wrapper(*args,**kwargs):\n",
    "            print(\"Executing smart home system...\")\n",
    "            original_function(*args,**kwargs)\n",
    "            print(\"Smart home system has been executed\")\n",
    "        return wrapper\n",
    "    return log_execution\n",
    "\n",
    "\n",
    "@Timestamp\n",
    "@log_custom(\"Enitiating Smart home system......\")\n",
    "def adjust_lighting(brightness,intensity):\n",
    "    print(f\"Adjust lightning to {brightness}% to make its intensity to {intensity}%\")\n",
    "\n"
   ]
  },
  {
   "cell_type": "code",
   "execution_count": 104,
   "metadata": {},
   "outputs": [
    {
     "name": "stdout",
     "output_type": "stream",
     "text": [
      "2024-03-09 20:17:45.121772\n",
      "Executing smart home system...\n",
      "Adjust lightning to 80% to make its intensity to 40%\n",
      "Smart home system has been executed\n"
     ]
    }
   ],
   "source": [
    "adjust_lighting(80,intensity = 40)"
   ]
  },
  {
   "cell_type": "code",
   "execution_count": 105,
   "metadata": {},
   "outputs": [],
   "source": [
    "def adjust_lighting(brightness,intensity):\n",
    "    \"\"\" Informing about adjusting a light\"\"\"\n",
    "    print(f\"Adjust lightning to {brightness}% to make its intensity to {intensity}%\")\n"
   ]
  },
  {
   "cell_type": "code",
   "execution_count": 106,
   "metadata": {},
   "outputs": [
    {
     "name": "stdout",
     "output_type": "stream",
     "text": [
      "Adjust lightning to 20% to make its intensity to 80%\n"
     ]
    }
   ],
   "source": [
    "adjust_lighting(brightness=20,intensity=80)"
   ]
  },
  {
   "cell_type": "code",
   "execution_count": 109,
   "metadata": {},
   "outputs": [
    {
     "name": "stdout",
     "output_type": "stream",
     "text": [
      " Informing about adjusting a light\n",
      "\n",
      "adjust_lighting\n"
     ]
    }
   ],
   "source": [
    "print(adjust_lighting.__doc__)\n",
    "print()\n",
    "print(adjust_lighting.__name__)"
   ]
  },
  {
   "cell_type": "code",
   "execution_count": 110,
   "metadata": {},
   "outputs": [
    {
     "name": "stdout",
     "output_type": "stream",
     "text": [
      "2024-03-09 20:22:53.198140\n",
      "Executing smart home system...\n",
      "Adjust lightning to 20% to make its intensity to 80%\n",
      "Smart home system has been executed\n",
      "None\n",
      "\n",
      "wrapper\n"
     ]
    }
   ],
   "source": [
    "def Timestamp(origional_function):\n",
    "    def wrapper(*args,**kwargs):\n",
    "        print(dt.datetime.now())\n",
    "        origional_function(*args,**kwargs)\n",
    "    return wrapper\n",
    "def log_custom(message):\n",
    "    def log_execution(original_function):        \n",
    "        def wrapper(*args,**kwargs):\n",
    "            print(\"Executing smart home system...\")\n",
    "            original_function(*args,**kwargs)\n",
    "            print(\"Smart home system has been executed\")\n",
    "        return wrapper\n",
    "    return log_execution\n",
    "\n",
    "\n",
    "@Timestamp\n",
    "@log_custom(\"Enitiating Smart home system......\")\n",
    "def adjust_lighting(brightness,intensity):\n",
    "    print(f\"Adjust lightning to {brightness}% to make its intensity to {intensity}%\")\n",
    "\n",
    "\n",
    "adjust_lighting(brightness=20,intensity=80)\n",
    "print(adjust_lighting.__doc__)\n",
    "print()\n",
    "print(adjust_lighting.__name__)"
   ]
  },
  {
   "cell_type": "code",
   "execution_count": 111,
   "metadata": {},
   "outputs": [],
   "source": [
    "from functools import wraps"
   ]
  },
  {
   "cell_type": "code",
   "execution_count": 119,
   "metadata": {},
   "outputs": [
    {
     "name": "stdout",
     "output_type": "stream",
     "text": [
      "2024-03-09 20:31:52.671692\n",
      "Executing smart home system...\n",
      "Adjust lightning to 20% to make its intensity to 80%\n",
      "Smart home system has been executed\n",
      " Informing about adjusting a light\n",
      "\n",
      "adjust_lighting\n"
     ]
    }
   ],
   "source": [
    "def Timestamp(origional_function):\n",
    "    @wraps(origional_function)\n",
    "    def wrapper(*args,**kwargs):\n",
    "        print(dt.datetime.now())\n",
    "        origional_function(*args,**kwargs)\n",
    "    return wrapper\n",
    "def log_custom(message):\n",
    "    def log_execution(original_function): \n",
    "        @wraps(original_function)\n",
    "        def wrapper(*args,**kwargs):\n",
    "            print(\"Executing smart home system...\")\n",
    "            original_function(*args,**kwargs)\n",
    "            print(\"Smart home system has been executed\")\n",
    "        return wrapper\n",
    "    return log_execution\n",
    "\n",
    "\n",
    "@Timestamp\n",
    "@log_custom(\"Enitiating Smart home system......\")\n",
    "def adjust_lighting(brightness,intensity):\n",
    "    \"\"\" Informing about adjusting a light\"\"\"\n",
    "    print(f\"Adjust lightning to {brightness}% to make its intensity to {intensity}%\")\n",
    "\n",
    "\n",
    "adjust_lighting(brightness=20,intensity=80)\n",
    "print(adjust_lighting.__doc__)\n",
    "print()\n",
    "print(adjust_lighting.__name__)"
   ]
  },
  {
   "cell_type": "code",
   "execution_count": 120,
   "metadata": {},
   "outputs": [],
   "source": [
    "import re"
   ]
  },
  {
   "cell_type": "code",
   "execution_count": 124,
   "metadata": {},
   "outputs": [],
   "source": [
    "pattern = \"and\"\n",
    "string = \"ahand\""
   ]
  },
  {
   "cell_type": "code",
   "execution_count": 125,
   "metadata": {},
   "outputs": [
    {
     "data": {
      "text/plain": [
       "<re.Match object; span=(2, 5), match='and'>"
      ]
     },
     "execution_count": 125,
     "metadata": {},
     "output_type": "execute_result"
    }
   ],
   "source": [
    "re.search(pattren,string)"
   ]
  },
  {
   "cell_type": "code",
   "execution_count": 126,
   "metadata": {},
   "outputs": [
    {
     "name": "stdout",
     "output_type": "stream",
     "text": [
      "<re.Match object; span=(2, 5), match='and'>\n"
     ]
    }
   ],
   "source": [
    "print(re.search(pattern,string))"
   ]
  },
  {
   "cell_type": "code",
   "execution_count": 127,
   "metadata": {},
   "outputs": [
    {
     "name": "stdout",
     "output_type": "stream",
     "text": [
      "<re.Match object; span=(0, 3), match='and'>\n"
     ]
    }
   ],
   "source": [
    "print(re.search(pattern,\"andhand\"))"
   ]
  },
  {
   "cell_type": "code",
   "execution_count": 130,
   "metadata": {},
   "outputs": [
    {
     "name": "stdout",
     "output_type": "stream",
     "text": [
      "None\n"
     ]
    }
   ],
   "source": [
    "print(re.search(pattern,\"ahnd\"))"
   ]
  },
  {
   "cell_type": "code",
   "execution_count": 131,
   "metadata": {},
   "outputs": [
    {
     "name": "stdout",
     "output_type": "stream",
     "text": [
      "It is matched\n"
     ]
    }
   ],
   "source": [
    "if re.search(pattern,string):\n",
    "    print(\"It is matched\")\n",
    "else:\n",
    "    print(\"Not matched\")"
   ]
  },
  {
   "cell_type": "code",
   "execution_count": 133,
   "metadata": {},
   "outputs": [
    {
     "name": "stdout",
     "output_type": "stream",
     "text": [
      "Not matched\n"
     ]
    }
   ],
   "source": [
    "if re.search(pattern,\"anhhnd\"):\n",
    "    print(\"It is matched\")\n",
    "else:\n",
    "    print(\"Not matched\")"
   ]
  },
  {
   "cell_type": "code",
   "execution_count": 134,
   "metadata": {},
   "outputs": [],
   "source": [
    "l = [\"My favourite color is Blue\",\"My favourite color is blue\",\"My favourite color is Blue and red\"]"
   ]
  },
  {
   "cell_type": "code",
   "execution_count": 137,
   "metadata": {},
   "outputs": [
    {
     "name": "stdout",
     "output_type": "stream",
     "text": [
      "It is matched\n",
      "Not matched\n",
      "It is matched\n"
     ]
    }
   ],
   "source": [
    "pattern = \"Blue\"\n",
    "\n",
    "for i in l:\n",
    "    if re.search(pattern,i):\n",
    "        print(\"It is matched\")\n",
    "    else:\n",
    "        print(\"Not matched\")"
   ]
  },
  {
   "cell_type": "code",
   "execution_count": 139,
   "metadata": {},
   "outputs": [
    {
     "name": "stdout",
     "output_type": "stream",
     "text": [
      "imr\n",
      "an\n"
     ]
    }
   ],
   "source": [
    "print(\"imr\\nan\")"
   ]
  },
  {
   "cell_type": "code",
   "execution_count": 140,
   "metadata": {},
   "outputs": [
    {
     "name": "stdout",
     "output_type": "stream",
     "text": [
      "imra\\nn\n"
     ]
    }
   ],
   "source": [
    "print(r\"imra\\nn\")"
   ]
  },
  {
   "cell_type": "code",
   "execution_count": 141,
   "metadata": {},
   "outputs": [
    {
     "name": "stdout",
     "output_type": "stream",
     "text": [
      "It is matched\n",
      "It is matched\n",
      "It is matched\n"
     ]
    }
   ],
   "source": [
    "pattern = r\"[Bb]lue\"\n",
    "for i in l:\n",
    "    if re.search(pattern,i):\n",
    "        print(\"It is matched\")\n",
    "    else:\n",
    "        print(\"Not matched\")"
   ]
  },
  {
   "cell_type": "code",
   "execution_count": 142,
   "metadata": {},
   "outputs": [],
   "source": [
    "discount_codes = ['P-49382', 'X-21341', 'P-2827', 'A-45221', 'S-420349', 'M-89321',\n",
    "                 'S-98277', 'D-21312', 'P-73821', 'T-73819', 'Z-29381', 'S23498',\n",
    "                 'R-23789', 'P23123', 'L-21391', 'S-23812', 'W-84321', 'P-98123',\n",
    "                 'Q-34821', 'S-39482']"
   ]
  },
  {
   "cell_type": "code",
   "execution_count": 144,
   "metadata": {},
   "outputs": [
    {
     "name": "stdout",
     "output_type": "stream",
     "text": [
      "P-49382\n",
      "P-2827\n",
      "S-420349\n",
      "S-98277\n",
      "P-73821\n",
      "S-23812\n",
      "P-98123\n",
      "S-39482\n"
     ]
    }
   ],
   "source": [
    "pattern = r\"[PS]-\"\n",
    "for i in discount_codes:\n",
    "    if re.search(pattern,i):\n",
    "        print(i)"
   ]
  },
  {
   "cell_type": "code",
   "execution_count": 146,
   "metadata": {},
   "outputs": [
    {
     "name": "stdout",
     "output_type": "stream",
     "text": [
      "P-49382\n",
      "P-2827\n",
      "P-73821\n",
      "P23123\n",
      "P-98123\n",
      "Q-34821\n"
     ]
    }
   ],
   "source": [
    "pattern = r\"[PQ]\"\n",
    "for i in discount_codes:\n",
    "    if re.search(pattern,i):\n",
    "        print(i)"
   ]
  },
  {
   "cell_type": "code",
   "execution_count": 147,
   "metadata": {},
   "outputs": [],
   "source": [
    "numbers = [\"123-555-7890\", \"9875553210\", \"123-4567-89\", \"123-456-78\", \"156-7890\"]"
   ]
  },
  {
   "cell_type": "code",
   "execution_count": 150,
   "metadata": {},
   "outputs": [
    {
     "name": "stdout",
     "output_type": "stream",
     "text": [
      "123-555-7890\n",
      "9875553210\n"
     ]
    }
   ],
   "source": [
    "pattern = r\"[0-9]{3}-?[0-9]{3}-?[0-9]{4}\"\n",
    "for num in numbers:\n",
    "    if re.search(pattern,num):\n",
    "        print(num)"
   ]
  },
  {
   "cell_type": "code",
   "execution_count": 151,
   "metadata": {},
   "outputs": [
    {
     "name": "stdout",
     "output_type": "stream",
     "text": [
      "123-555-7890\n",
      "9875553210\n"
     ]
    }
   ],
   "source": [
    "pattern = r\"\\d{3}-?\\d{3}-?\\d{4}\"\n",
    "for num in numbers:\n",
    "    if re.search(pattern,num):\n",
    "        print(num)"
   ]
  },
  {
   "cell_type": "code",
   "execution_count": 152,
   "metadata": {},
   "outputs": [
    {
     "name": "stdout",
     "output_type": "stream",
     "text": [
      "123-555-7890\n",
      "9875553210\n"
     ]
    }
   ],
   "source": [
    "pattern = r\"\\d{3}-{0,1}\\d{3}-{0,1}\\d{4}\"\n",
    "for num in numbers:\n",
    "    if re.search(pattern,num):\n",
    "        print(num)"
   ]
  },
  {
   "cell_type": "code",
   "execution_count": 153,
   "metadata": {},
   "outputs": [],
   "source": [
    "emails = ['test@example-com', 'firstlast@examplecom', 'test.one@@example.com',\n",
    "              'secondtest@ex#ample.com', 'john.doe@example.com', 'third.testexample.com',\n",
    "              'sample_email@examplecom', 'user1234@example.com', 'alice.bob@ex&ample.com',\n",
    "              'last.first@example.com', 'randomuserexample.com', 'test_two@exam*ple.com',\n",
    "              'demo.user@example.com', 'testthreeexample.com', 'example_user@examplecom',\n",
    "              'sample.test@example.com', 'user.test@examp$le.com', 'test.four @example.com',\n",
    "              'fifth.test@exa!mple.com', 'anotheruser@example.com']"
   ]
  },
  {
   "cell_type": "code",
   "execution_count": 155,
   "metadata": {},
   "outputs": [
    {
     "name": "stdout",
     "output_type": "stream",
     "text": [
      "test@example-com\n",
      "john.doe@example.com\n",
      "user1234@example.com\n",
      "last.first@example.com\n",
      "demo.user@example.com\n",
      "sample.test@example.com\n",
      "anotheruser@example.com\n"
     ]
    }
   ],
   "source": [
    "pattern = r\"[\\w]+@example.com\"\n",
    "for E in emails:\n",
    "    if re.search(pattern,E):\n",
    "        print(E)"
   ]
  },
  {
   "cell_type": "code",
   "execution_count": 156,
   "metadata": {},
   "outputs": [
    {
     "name": "stdout",
     "output_type": "stream",
     "text": [
      "john.doe@example.com\n",
      "user1234@example.com\n",
      "last.first@example.com\n",
      "demo.user@example.com\n",
      "sample.test@example.com\n",
      "anotheruser@example.com\n"
     ]
    }
   ],
   "source": [
    "pattern = r\"[\\w]+@example[.]com\"\n",
    "for E in emails:\n",
    "    if re.search(pattern,E):\n",
    "        print(E)"
   ]
  },
  {
   "cell_type": "code",
   "execution_count": 157,
   "metadata": {},
   "outputs": [
    {
     "name": "stdout",
     "output_type": "stream",
     "text": [
      "john.doe@example.com\n",
      "user1234@example.com\n",
      "last.first@example.com\n",
      "demo.user@example.com\n",
      "sample.test@example.com\n",
      "anotheruser@example.com\n"
     ]
    }
   ],
   "source": [
    "pattern = r\"[\\w]+@example\\.com\"\n",
    "for E in emails:\n",
    "    if re.search(pattern,E):\n",
    "        print(E)"
   ]
  },
  {
   "cell_type": "code",
   "execution_count": 158,
   "metadata": {},
   "outputs": [
    {
     "name": "stdout",
     "output_type": "stream",
     "text": [
      "john.doe@example.com\n",
      "user1234@example.com\n",
      "last.first@example.com\n",
      "demo.user@example.com\n",
      "sample.test@example.com\n",
      "anotheruser@example.com\n"
     ]
    }
   ],
   "source": [
    "pattern = r\"[\\w]+@[\\w]+\\.com\"\n",
    "for E in emails:\n",
    "    if re.search(pattern,E):\n",
    "        print(E)"
   ]
  },
  {
   "cell_type": "code",
   "execution_count": 159,
   "metadata": {},
   "outputs": [],
   "source": [
    "emails.append(\"imranyousaf8282@gmail.com\")"
   ]
  },
  {
   "cell_type": "code",
   "execution_count": 160,
   "metadata": {},
   "outputs": [
    {
     "data": {
      "text/plain": [
       "['test@example-com',\n",
       " 'firstlast@examplecom',\n",
       " 'test.one@@example.com',\n",
       " 'secondtest@ex#ample.com',\n",
       " 'john.doe@example.com',\n",
       " 'third.testexample.com',\n",
       " 'sample_email@examplecom',\n",
       " 'user1234@example.com',\n",
       " 'alice.bob@ex&ample.com',\n",
       " 'last.first@example.com',\n",
       " 'randomuserexample.com',\n",
       " 'test_two@exam*ple.com',\n",
       " 'demo.user@example.com',\n",
       " 'testthreeexample.com',\n",
       " 'example_user@examplecom',\n",
       " 'sample.test@example.com',\n",
       " 'user.test@examp$le.com',\n",
       " 'test.four @example.com',\n",
       " 'fifth.test@exa!mple.com',\n",
       " 'anotheruser@example.com',\n",
       " 'imranyousaf8282@gmail.com']"
      ]
     },
     "execution_count": 160,
     "metadata": {},
     "output_type": "execute_result"
    }
   ],
   "source": [
    "emails"
   ]
  },
  {
   "cell_type": "code",
   "execution_count": 161,
   "metadata": {},
   "outputs": [
    {
     "name": "stdout",
     "output_type": "stream",
     "text": [
      "john.doe@example.com\n",
      "user1234@example.com\n",
      "last.first@example.com\n",
      "demo.user@example.com\n",
      "sample.test@example.com\n",
      "anotheruser@example.com\n",
      "imranyousaf8282@gmail.com\n"
     ]
    }
   ],
   "source": [
    "pattern = r\"[\\w]+@[\\w]+\\.com\"\n",
    "for E in emails:\n",
    "    if re.search(pattern,E):\n",
    "        print(E)"
   ]
  },
  {
   "cell_type": "code",
   "execution_count": 162,
   "metadata": {},
   "outputs": [],
   "source": [
    "emails.append(\"imranyousaf8282@hotmail.com\")"
   ]
  },
  {
   "cell_type": "code",
   "execution_count": 163,
   "metadata": {},
   "outputs": [
    {
     "name": "stdout",
     "output_type": "stream",
     "text": [
      "john.doe@example.com\n",
      "user1234@example.com\n",
      "last.first@example.com\n",
      "demo.user@example.com\n",
      "sample.test@example.com\n",
      "anotheruser@example.com\n",
      "imranyousaf8282@gmail.com\n",
      "imranyousaf8282@hotmail.com\n"
     ]
    }
   ],
   "source": [
    "pattern = r\"[\\w]+@[\\w]+\\.com\"\n",
    "for E in emails:\n",
    "    if re.search(pattern,E):\n",
    "        print(E)"
   ]
  },
  {
   "cell_type": "code",
   "execution_count": 165,
   "metadata": {},
   "outputs": [
    {
     "name": "stdout",
     "output_type": "stream",
     "text": [
      "john.doe@example.com\n",
      "user1234@example.com\n",
      "last.first@example.com\n",
      "demo.user@example.com\n",
      "sample.test@example.com\n",
      "anotheruser@example.com\n",
      "imranyousaf8282@gmail.com\n",
      "imranyousaf8282@hotmail.com\n"
     ]
    }
   ],
   "source": [
    "pattern = r\"[\\w]+@[\\w]+\\.com\"\n",
    "for E in emails:\n",
    "    if re.search(pattern,E):\n",
    "        print(E)"
   ]
  }
 ],
 "metadata": {
  "kernelspec": {
   "display_name": "Python 3 (ipykernel)",
   "language": "python",
   "name": "python3"
  },
  "language_info": {
   "codemirror_mode": {
    "name": "ipython",
    "version": 3
   },
   "file_extension": ".py",
   "mimetype": "text/x-python",
   "name": "python",
   "nbconvert_exporter": "python",
   "pygments_lexer": "ipython3",
   "version": "3.12.2"
  }
 },
 "nbformat": 4,
 "nbformat_minor": 4
}
