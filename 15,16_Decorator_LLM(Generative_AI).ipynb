{
 "cells": [
  {
   "cell_type": "markdown",
   "metadata": {},
   "source": [
    "# Decorator for LLM(Large Language Model)(Generative AI)\n",
    "* Function as an Object\n",
    "* Function as an Arguments\n",
    "* Function as an inner(Nested) Function"
   ]
  },
  {
   "cell_type": "code",
   "execution_count": 3,
   "metadata": {},
   "outputs": [
    {
     "name": "stdout",
     "output_type": "stream",
     "text": [
      "Adjust Lighting\n"
     ]
    }
   ],
   "source": [
    "# function as an Object\n",
    "def Adjust_lighting():\n",
    "    print(\"Adjust Lighting\")\n",
    "\n",
    "Adjust_lighting()"
   ]
  },
  {
   "cell_type": "code",
   "execution_count": 5,
   "metadata": {},
   "outputs": [],
   "source": [
    "adl = Adjust_lighting"
   ]
  },
  {
   "cell_type": "code",
   "execution_count": 7,
   "metadata": {},
   "outputs": [
    {
     "name": "stdout",
     "output_type": "stream",
     "text": [
      "Adjust Lighting\n"
     ]
    }
   ],
   "source": [
    "adl()"
   ]
  },
  {
   "cell_type": "code",
   "execution_count": 8,
   "metadata": {},
   "outputs": [],
   "source": [
    "l = [1,2,3,4,5] # this is an object of python -> list\n",
    "s = \"imran\" # -> string"
   ]
  },
  {
   "cell_type": "markdown",
   "metadata": {},
   "source": [
    "#### Python as an arguments"
   ]
  },
  {
   "cell_type": "code",
   "execution_count": 14,
   "metadata": {},
   "outputs": [],
   "source": [
    "def log_execution(Original_function):\n",
    "    print(\"i am calling a function\")\n",
    "    print()\n",
    "    Original_function()\n",
    "    print()\n",
    "    print(\"Function has been called\")"
   ]
  },
  {
   "cell_type": "code",
   "execution_count": 15,
   "metadata": {},
   "outputs": [
    {
     "name": "stdout",
     "output_type": "stream",
     "text": [
      "i am calling a function\n",
      "\n",
      "Adjust Lighting\n",
      "\n",
      "Function has been called\n"
     ]
    }
   ],
   "source": [
    "log_execution(Adjust_lighting)"
   ]
  },
  {
   "cell_type": "code",
   "execution_count": 44,
   "metadata": {},
   "outputs": [],
   "source": [
    "def log_execution():\n",
    "    def wrapper():\n",
    "        return \"some values\"\n",
    "        \n",
    "    return wrapper"
   ]
  },
  {
   "cell_type": "code",
   "execution_count": 48,
   "metadata": {},
   "outputs": [],
   "source": [
    "fun_call = log_execution()"
   ]
  },
  {
   "cell_type": "code",
   "execution_count": 50,
   "metadata": {},
   "outputs": [
    {
     "data": {
      "text/plain": [
       "'some values'"
      ]
     },
     "execution_count": 50,
     "metadata": {},
     "output_type": "execute_result"
    }
   ],
   "source": [
    "fun_call()"
   ]
  },
  {
   "cell_type": "code",
   "execution_count": 51,
   "metadata": {},
   "outputs": [],
   "source": [
    "def log_execution():\n",
    "    def wrapper():\n",
    "        return \"some values\"\n",
    "    return wrapper()"
   ]
  },
  {
   "cell_type": "code",
   "execution_count": 52,
   "metadata": {},
   "outputs": [],
   "source": [
    "fun_call = log_execution()"
   ]
  },
  {
   "cell_type": "code",
   "execution_count": 53,
   "metadata": {},
   "outputs": [
    {
     "data": {
      "text/plain": [
       "'some values'"
      ]
     },
     "execution_count": 53,
     "metadata": {},
     "output_type": "execute_result"
    }
   ],
   "source": [
    "fun_call"
   ]
  },
  {
   "cell_type": "code",
   "execution_count": 54,
   "metadata": {},
   "outputs": [],
   "source": [
    "def Adjust_lighting():\n",
    "    print(\"Adjust lighting\")\n",
    "\n",
    "def log_execution(Original_function):\n",
    "    def wrapper():\n",
    "        print(\"Executing smart home system....\")\n",
    "        Original_function()\n",
    "        print(\"smart home system has been executed\")\n",
    "    \n",
    "    return wrapper\n",
    "    "
   ]
  },
  {
   "cell_type": "code",
   "execution_count": 55,
   "metadata": {},
   "outputs": [],
   "source": [
    "Decorator_adjust_lighting = log_execution(Adjust_lighting)"
   ]
  },
  {
   "cell_type": "code",
   "execution_count": 58,
   "metadata": {},
   "outputs": [
    {
     "data": {
      "text/plain": [
       "<function __main__.log_execution.<locals>.wrapper()>"
      ]
     },
     "execution_count": 58,
     "metadata": {},
     "output_type": "execute_result"
    }
   ],
   "source": [
    "Decorator_adjust_lighting"
   ]
  },
  {
   "cell_type": "code",
   "execution_count": 59,
   "metadata": {},
   "outputs": [
    {
     "name": "stdout",
     "output_type": "stream",
     "text": [
      "Executing smart home system....\n",
      "Adjust lighting\n",
      "smart home system has been executed\n"
     ]
    }
   ],
   "source": [
    "Decorator_adjust_lighting()"
   ]
  },
  {
   "cell_type": "markdown",
   "metadata": {},
   "source": [
    "## Syntatic Sugar\n",
    "* @"
   ]
  },
  {
   "cell_type": "code",
   "execution_count": 60,
   "metadata": {},
   "outputs": [],
   "source": [
    "def log_execution(Original_function):\n",
    "    def wrapper():\n",
    "        print(\"Executing smart home system....\")\n",
    "        Original_function()\n",
    "        print(\"smart home system has been executed\")\n",
    "    \n",
    "    return wrapper\n",
    "    "
   ]
  },
  {
   "cell_type": "code",
   "execution_count": 65,
   "metadata": {},
   "outputs": [],
   "source": [
    "@log_execution\n",
    "def Adjust_lighting():\n",
    "    print(\"Adjust lighting\")"
   ]
  },
  {
   "cell_type": "code",
   "execution_count": 66,
   "metadata": {},
   "outputs": [
    {
     "name": "stdout",
     "output_type": "stream",
     "text": [
      "Executing smart home system....\n",
      "Adjust lighting\n",
      "smart home system has been executed\n"
     ]
    }
   ],
   "source": [
    "Adjust_lighting()"
   ]
  },
  {
   "cell_type": "markdown",
   "metadata": {},
   "source": [
    "### Lecture 16 Part_2"
   ]
  },
  {
   "cell_type": "markdown",
   "metadata": {},
   "source": [
    "### Decorator LLM(Generative AI)"
   ]
  },
  {
   "cell_type": "code",
   "execution_count": 67,
   "metadata": {},
   "outputs": [],
   "source": [
    "def log_execution(Original_function): # Decorator function\n",
    "    def wrapper():\n",
    "        print(\"Executing smart home system....\")\n",
    "        Original_function()\n",
    "        print(\"smart home system has been executed\")\n",
    "    \n",
    "    return wrapper\n",
    "\n",
    "@log_execution\n",
    "def Adjust_lighting(): # Decorated function\n",
    "    print(\"Adjust lighting\")\n",
    "    "
   ]
  },
  {
   "cell_type": "code",
   "execution_count": 68,
   "metadata": {},
   "outputs": [
    {
     "name": "stdout",
     "output_type": "stream",
     "text": [
      "Executing smart home system....\n",
      "Adjust lighting\n",
      "smart home system has been executed\n"
     ]
    }
   ],
   "source": [
    "Adjust_lighting()"
   ]
  },
  {
   "cell_type": "code",
   "execution_count": 69,
   "metadata": {},
   "outputs": [
    {
     "name": "stdout",
     "output_type": "stream",
     "text": [
      "Adjust lighting to 80\n"
     ]
    }
   ],
   "source": [
    "def Adjust_lighting(brightness):\n",
    "    print(f\"Adjust lighting to {brightness}\")\n",
    "\n",
    "Adjust_lighting(80)"
   ]
  },
  {
   "cell_type": "markdown",
   "metadata": {},
   "source": [
    "#### In decorator func take argument"
   ]
  },
  {
   "cell_type": "code",
   "execution_count": 71,
   "metadata": {},
   "outputs": [
    {
     "ename": "TypeError",
     "evalue": "log_execution.<locals>.wrapper() takes 0 positional arguments but 1 was given",
     "output_type": "error",
     "traceback": [
      "\u001b[1;31m---------------------------------------------------------------------------\u001b[0m",
      "\u001b[1;31mTypeError\u001b[0m                                 Traceback (most recent call last)",
      "\u001b[1;32md:\\JUPYTER_NOTEBOOK IN VS CODE\\Data Science Training\\15,16_Decorator_LLM(Generative_AI).ipynb Cell 28\u001b[0m line \u001b[0;36m1\n\u001b[0;32m      <a href='vscode-notebook-cell:/d%3A/JUPYTER_NOTEBOOK%20IN%20VS%20CODE/Data%20Science%20Training/15%2C16_Decorator_LLM%28Generative_AI%29.ipynb#X43sZmlsZQ%3D%3D?line=8'>9</a>\u001b[0m \u001b[39m@log_execution\u001b[39m\n\u001b[0;32m     <a href='vscode-notebook-cell:/d%3A/JUPYTER_NOTEBOOK%20IN%20VS%20CODE/Data%20Science%20Training/15%2C16_Decorator_LLM%28Generative_AI%29.ipynb#X43sZmlsZQ%3D%3D?line=9'>10</a>\u001b[0m \u001b[39mdef\u001b[39;00m \u001b[39mAdjust_lighting\u001b[39m(brightness): \u001b[39m# Decorated function\u001b[39;00m\n\u001b[0;32m     <a href='vscode-notebook-cell:/d%3A/JUPYTER_NOTEBOOK%20IN%20VS%20CODE/Data%20Science%20Training/15%2C16_Decorator_LLM%28Generative_AI%29.ipynb#X43sZmlsZQ%3D%3D?line=10'>11</a>\u001b[0m     \u001b[39mprint\u001b[39m(\u001b[39mf\u001b[39m\u001b[39m\"\u001b[39m\u001b[39mAdjust lighting to \u001b[39m\u001b[39m{\u001b[39;00mbrightness\u001b[39m}\u001b[39;00m\u001b[39m%\u001b[39m\u001b[39m\"\u001b[39m)\n\u001b[1;32m---> <a href='vscode-notebook-cell:/d%3A/JUPYTER_NOTEBOOK%20IN%20VS%20CODE/Data%20Science%20Training/15%2C16_Decorator_LLM%28Generative_AI%29.ipynb#X43sZmlsZQ%3D%3D?line=12'>13</a>\u001b[0m Adjust_lighting(\u001b[39m80\u001b[39;49m)\n",
      "\u001b[1;31mTypeError\u001b[0m: log_execution.<locals>.wrapper() takes 0 positional arguments but 1 was given"
     ]
    }
   ],
   "source": [
    "def log_execution(Original_function): # Decorator function\n",
    "    def wrapper():\n",
    "        print(\"Executing smart home system....\")\n",
    "        Original_function()\n",
    "        print(\"smart home system has been executed\")\n",
    "    \n",
    "    return wrapper\n",
    "\n",
    "@log_execution\n",
    "def Adjust_lighting(brightness): # Decorated function\n",
    "    print(f\"Adjust lighting to {brightness}%\")\n",
    "\n",
    "Adjust_lighting(80)\n",
    "    #  error ---> log_execution.<locals>.wrapper() takes 0 positional arguments but 1 was given"
   ]
  },
  {
   "cell_type": "code",
   "execution_count": 72,
   "metadata": {},
   "outputs": [
    {
     "name": "stdout",
     "output_type": "stream",
     "text": [
      "Executing smart home system....\n",
      "Adjust lighting to 80%\n",
      "smart home system has been executed\n"
     ]
    }
   ],
   "source": [
    "def log_execution(Original_function): # Decorator function\n",
    "    def wrapper(arg):\n",
    "        print(\"Executing smart home system....\")\n",
    "        Original_function(arg)\n",
    "        print(\"smart home system has been executed\")\n",
    "    \n",
    "    return wrapper\n",
    "\n",
    "@log_execution\n",
    "def Adjust_lighting(brightness): # Decorated function\n",
    "    print(f\"Adjust lighting to {brightness}%\")\n",
    "\n",
    "Adjust_lighting(80)"
   ]
  },
  {
   "cell_type": "code",
   "execution_count": 75,
   "metadata": {},
   "outputs": [
    {
     "name": "stdout",
     "output_type": "stream",
     "text": [
      "Executing smart home system....\n",
      "Adjust lighting to 80% to make its intensity to 40%\n",
      "smart home system has been executed\n"
     ]
    }
   ],
   "source": [
    "# Multiple arguments in Decorator function\n",
    "def log_execution(Original_function): # Decorator function\n",
    "    def wrapper(*args):\n",
    "        print(\"Executing smart home system....\")\n",
    "        Original_function(*args)\n",
    "        print(\"smart home system has been executed\")\n",
    "    \n",
    "    return wrapper\n",
    "\n",
    "@log_execution\n",
    "def Adjust_lighting(brightness,intensity): # Decorated function\n",
    "    print(f\"Adjust lighting to {brightness}% to make its intensity to {intensity}%\")\n",
    "\n",
    "Adjust_lighting(80,40)"
   ]
  },
  {
   "cell_type": "code",
   "execution_count": 78,
   "metadata": {},
   "outputs": [
    {
     "name": "stdout",
     "output_type": "stream",
     "text": [
      "Executing smart home system....\n",
      "Adjust lighting to 80% to make its intensity to 40%\n",
      "smart home system has been executed\n"
     ]
    }
   ],
   "source": [
    "# Multiple keyword arguments in Decorator function\n",
    "def log_execution(Original_function): # Decorator function\n",
    "    def wrapper(*args,**kwargs):\n",
    "        print(\"Executing smart home system....\")\n",
    "        Original_function(*args,**kwargs)\n",
    "        print(\"smart home system has been executed\")\n",
    "    \n",
    "    return wrapper\n",
    "\n",
    "@log_execution\n",
    "def Adjust_lighting(brightness,intensity): # Decorated function\n",
    "    print(f\"Adjust lighting to {brightness}% to make its intensity to {intensity}%\")\n",
    "\n",
    "Adjust_lighting(80,40)"
   ]
  },
  {
   "cell_type": "code",
   "execution_count": 79,
   "metadata": {},
   "outputs": [
    {
     "name": "stdout",
     "output_type": "stream",
     "text": [
      "Executing smart home system....\n",
      "Adjust lighting to 70% to make its intensity to 40%\n",
      "smart home system has been executed\n"
     ]
    }
   ],
   "source": [
    "Adjust_lighting(brightness=70,intensity=40)\n"
   ]
  },
  {
   "cell_type": "code",
   "execution_count": 84,
   "metadata": {},
   "outputs": [
    {
     "name": "stdout",
     "output_type": "stream",
     "text": [
      "Executing smart home system....\n",
      "Adjust lighting to 70% to make its intensity to 40%\n",
      "smart home system has been executed\n"
     ]
    }
   ],
   "source": [
    "Adjust_lighting(70,intensity=40)\n"
   ]
  },
  {
   "cell_type": "markdown",
   "metadata": {},
   "source": [
    "#### Using anoter layer in decorator func"
   ]
  },
  {
   "cell_type": "code",
   "execution_count": 89,
   "metadata": {},
   "outputs": [
    {
     "name": "stdout",
     "output_type": "stream",
     "text": [
      "Initiating smart home system.....\n",
      "Adjust lighting to 80% to make its intensity to 40%\n",
      "smart home system has been executed\n"
     ]
    }
   ],
   "source": [
    "def log_custom_message(message):\n",
    "\n",
    "      # Multiple keyword arguments in Decorator function\n",
    "    def log_execution(Original_function): # Decorator function\n",
    "        def wrapper(*args,**kwargs):\n",
    "            print(message) # print(\"Executing smart home system....\")\n",
    "            Original_function(*args,**kwargs)\n",
    "            print(\"smart home system has been executed\")\n",
    "    \n",
    "        return wrapper\n",
    "    return log_execution\n",
    "\n",
    "@log_custom_message(\"Initiating smart home system.....\")\n",
    "def Adjust_lighting(brightness,intensity): # Decorated function\n",
    "    print(f\"Adjust lighting to {brightness}% to make its intensity to {intensity}%\")\n",
    "\n",
    "Adjust_lighting(80,40)"
   ]
  },
  {
   "cell_type": "markdown",
   "metadata": {},
   "source": [
    "# Decorator chaining"
   ]
  },
  {
   "cell_type": "code",
   "execution_count": 90,
   "metadata": {},
   "outputs": [
    {
     "name": "stdout",
     "output_type": "stream",
     "text": [
      "2023-12-09 15:31:38.477417\n"
     ]
    }
   ],
   "source": [
    "import datetime as dt\n",
    "print(dt.datetime.now())"
   ]
  },
  {
   "cell_type": "code",
   "execution_count": 92,
   "metadata": {},
   "outputs": [
    {
     "name": "stdout",
     "output_type": "stream",
     "text": [
      "2023-12-09 15:34:56.428288\n",
      "Initiating smart home system.....\n",
      "Adjust lighting to 80% to make its intensity to 40%\n",
      "smart home system has been executed\n"
     ]
    }
   ],
   "source": [
    "def timestamp(Origional_function):\n",
    "    def wrapper(*args,**kwargs):\n",
    "       print(dt.datetime.now())\n",
    "       Origional_function(*args,**kwargs)\n",
    "\n",
    "    return wrapper\n",
    "\n",
    "def log_custom_message(message):\n",
    "\n",
    "      # Multiple keyword arguments in Decorator function\n",
    "    def log_execution(Original_function): # Decorator function\n",
    "        def wrapper(*args,**kwargs):\n",
    "            print(message) # print(\"Executing smart home system....\")\n",
    "            Original_function(*args,**kwargs)\n",
    "            print(\"smart home system has been executed\")\n",
    "    \n",
    "        return wrapper\n",
    "    return log_execution\n",
    "@timestamp\n",
    "@log_custom_message(\"Initiating smart home system.....\")\n",
    "def Adjust_lighting(brightness,intensity): # Decorated function\n",
    "    print(f\"Adjust lighting to {brightness}% to make its intensity to {intensity}%\")\n",
    "\n",
    "Adjust_lighting(80,40)\n",
    "        "
   ]
  },
  {
   "cell_type": "code",
   "execution_count": 97,
   "metadata": {},
   "outputs": [
    {
     "name": "stdout",
     "output_type": "stream",
     "text": [
      "Initiating smart home system.....\n",
      "2023-12-09 15:38:35.475237\n",
      "Adjust lighting to 80% to make its intensity to 40%\n",
      "smart home system has been executed\n"
     ]
    }
   ],
   "source": [
    "def timestamp(Origional_function):\n",
    "    def wrapper(*args,**kwargs):\n",
    "       print(dt.datetime.now())\n",
    "       Origional_function(*args,**kwargs)\n",
    "\n",
    "    return wrapper\n",
    "\n",
    "def log_custom_message(message):\n",
    "\n",
    "      # Multiple keyword arguments in Decorator function\n",
    "    def log_execution(Original_function): # Decorator function\n",
    "        def wrapper(*args,**kwargs):\n",
    "            print(message) # print(\"Executing smart home system....\")\n",
    "            Original_function(*args,**kwargs)\n",
    "            print(\"smart home system has been executed\")\n",
    "    \n",
    "        return wrapper\n",
    "    return log_execution\n",
    "@log_custom_message(\"Initiating smart home system.....\")\n",
    "@timestamp\n",
    "def Adjust_lighting(brightness,intensity): # Decorated function\n",
    "    print(f\"Adjust lighting to {brightness}% to make its intensity to {intensity}%\")\n",
    "\n",
    "Adjust_lighting(80,40)\n",
    "        "
   ]
  },
  {
   "cell_type": "markdown",
   "metadata": {},
   "source": [
    "##### __doc__ string and __doc__ name"
   ]
  },
  {
   "cell_type": "code",
   "execution_count": 98,
   "metadata": {},
   "outputs": [
    {
     "name": "stdout",
     "output_type": "stream",
     "text": [
      "Adjust lighting to 80% to make its intensity to 40%\n"
     ]
    }
   ],
   "source": [
    "def Adjust_lighting(brightness,intensity): # Decorated function\n",
    "    \"\"\"\n",
    "    informing about adjusting smart light\n",
    "    \"\"\"\n",
    "    print(f\"Adjust lighting to {brightness}% to make its intensity to {intensity}%\")\n",
    "\n",
    "Adjust_lighting(80,40)\n",
    "        "
   ]
  },
  {
   "cell_type": "code",
   "execution_count": 101,
   "metadata": {},
   "outputs": [
    {
     "name": "stdout",
     "output_type": "stream",
     "text": [
      "\n",
      "    informing about adjusting smart light\n",
      "    \n",
      "Adjust_lighting\n"
     ]
    }
   ],
   "source": [
    "print(Adjust_lighting.__doc__) # __init__by default function of python\n",
    "print(Adjust_lighting.__name__)"
   ]
  },
  {
   "cell_type": "code",
   "execution_count": 109,
   "metadata": {},
   "outputs": [
    {
     "name": "stdout",
     "output_type": "stream",
     "text": [
      "2023-12-09 15:44:20.356270\n",
      "Initiating smart home system.....\n",
      "Adjust lighting to 80% to make its intensity to 40%\n",
      "smart home system has been executed\n",
      "\n",
      "None\n",
      "\n",
      "wrapper\n"
     ]
    }
   ],
   "source": [
    "def timestamp(Origional_function):\n",
    "    def wrapper(*args,**kwargs):\n",
    "       print(dt.datetime.now())\n",
    "       Origional_function(*args,**kwargs)\n",
    "\n",
    "    return wrapper\n",
    "\n",
    "def log_custom_message(message):\n",
    "\n",
    "      # Multiple keyword arguments in Decorator function\n",
    "    def log_execution(Original_function): # Decorator function\n",
    "        def wrapper(*args,**kwargs):\n",
    "            print(message) # print(\"Executing smart home system....\")\n",
    "            Original_function(*args,**kwargs)\n",
    "            print(\"smart home system has been executed\")\n",
    "    \n",
    "        return wrapper\n",
    "    return log_execution\n",
    "@timestamp\n",
    "@log_custom_message(\"Initiating smart home system.....\")\n",
    "def Adjust_lighting(brightness,intensity): # Decorated function\n",
    "    print(f\"Adjust lighting to {brightness}% to make its intensity to {intensity}%\")\n",
    "\n",
    "Adjust_lighting(80,40)\n",
    "print()\n",
    "print(Adjust_lighting.__doc__) # __init__by default function of python\n",
    "print()\n",
    "print(Adjust_lighting.__name__)"
   ]
  },
  {
   "cell_type": "code",
   "execution_count": 112,
   "metadata": {},
   "outputs": [],
   "source": [
    "from functools import wraps"
   ]
  },
  {
   "cell_type": "code",
   "execution_count": 114,
   "metadata": {},
   "outputs": [
    {
     "name": "stdout",
     "output_type": "stream",
     "text": [
      "2023-12-09 15:55:30.244824\n",
      "Initiating smart home system.....\n",
      "Adjust lighting to 80% to make its intensity to 40%\n",
      "smart home system has been executed\n",
      "\n",
      "None\n",
      "\n",
      "Adjust_lighting\n"
     ]
    }
   ],
   "source": [
    "def timestamp(Origional_function):\n",
    "    @wraps(Origional_function)\n",
    "    def wrapper(*args,**kwargs):\n",
    "       print(dt.datetime.now())\n",
    "       Origional_function(*args,**kwargs)\n",
    "\n",
    "    return wrapper\n",
    "\n",
    "def log_custom_message(message):\n",
    "\n",
    "      # Multiple keyword arguments in Decorator function\n",
    "    def log_execution(Origional_function): # Decorator function\n",
    "        @wraps(Origional_function)\n",
    "        def wrapper(*args,**kwargs):\n",
    "            print(message) # print(\"Executing smart home system....\")\n",
    "            Origional_function(*args,**kwargs)\n",
    "            print(\"smart home system has been executed\")\n",
    "    \n",
    "        return wrapper\n",
    "    return log_execution\n",
    "@timestamp\n",
    "@log_custom_message(\"Initiating smart home system.....\")\n",
    "def Adjust_lighting(brightness,intensity): # Decorated function\n",
    "    print(f\"Adjust lighting to {brightness}% to make its intensity to {intensity}%\")\n",
    "\n",
    "Adjust_lighting(80,40)\n",
    "print()\n",
    "print(Adjust_lighting.__doc__) # __init__by default function of python\n",
    "print()\n",
    "print(Adjust_lighting.__name__)"
   ]
  }
 ],
 "metadata": {
  "kernelspec": {
   "display_name": "base",
   "language": "python",
   "name": "python3"
  },
  "language_info": {
   "codemirror_mode": {
    "name": "ipython",
    "version": 3
   },
   "file_extension": ".py",
   "mimetype": "text/x-python",
   "name": "python",
   "nbconvert_exporter": "python",
   "pygments_lexer": "ipython3",
   "version": "3.10.9"
  }
 },
 "nbformat": 4,
 "nbformat_minor": 2
}
