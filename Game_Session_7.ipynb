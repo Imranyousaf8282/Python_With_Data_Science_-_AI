{
 "cells": [
  {
   "cell_type": "code",
   "execution_count": 26,
   "metadata": {},
   "outputs": [],
   "source": [
    "file = \"words.txt\""
   ]
  },
  {
   "cell_type": "code",
   "execution_count": 27,
   "metadata": {},
   "outputs": [
    {
     "name": "stdout",
     "output_type": "stream",
     "text": [
      "words.txt\n"
     ]
    }
   ],
   "source": [
    "print(file)"
   ]
  },
  {
   "cell_type": "code",
   "execution_count": 28,
   "metadata": {},
   "outputs": [],
   "source": [
    "words = []\n",
    "\n",
    "with open(\"words.txt\") as file:\n",
    "    for line in file:\n",
    "        words.append(line.strip().lower())"
   ]
  },
  {
   "cell_type": "code",
   "execution_count": 29,
   "metadata": {},
   "outputs": [
    {
     "name": "stdout",
     "output_type": "stream",
     "text": [
      "['bears', 'pears', 'lions', 'kings', 'queen', 'helps', 'learn']\n"
     ]
    }
   ],
   "source": [
    "print(words)"
   ]
  },
  {
   "cell_type": "code",
   "execution_count": 30,
   "metadata": {},
   "outputs": [
    {
     "name": "stdout",
     "output_type": "stream",
     "text": [
      "5\n",
      "5\n",
      "5\n",
      "5\n",
      "5\n",
      "5\n",
      "5\n"
     ]
    }
   ],
   "source": [
    "for word in words:\n",
    "    print(len(word))"
   ]
  },
  {
   "cell_type": "code",
   "execution_count": 31,
   "metadata": {},
   "outputs": [
    {
     "data": {
      "text/plain": [
       "5"
      ]
     },
     "execution_count": 31,
     "metadata": {},
     "output_type": "execute_result"
    }
   ],
   "source": [
    "len(words[0])"
   ]
  },
  {
   "cell_type": "code",
   "execution_count": 32,
   "metadata": {},
   "outputs": [],
   "source": [
    "import random"
   ]
  },
  {
   "cell_type": "code",
   "execution_count": 33,
   "metadata": {},
   "outputs": [
    {
     "data": {
      "text/plain": [
       "4"
      ]
     },
     "execution_count": 33,
     "metadata": {},
     "output_type": "execute_result"
    }
   ],
   "source": [
    "i = [1,2,3,4,5,6,7,8,9]\n",
    "random.choice(i)"
   ]
  },
  {
   "cell_type": "code",
   "execution_count": 34,
   "metadata": {},
   "outputs": [
    {
     "name": "stdout",
     "output_type": "stream",
     "text": [
      "lions\n"
     ]
    }
   ],
   "source": [
    "guess_word = random.choice(words)\n",
    "print(guess_word)"
   ]
  },
  {
   "cell_type": "code",
   "execution_count": 35,
   "metadata": {},
   "outputs": [],
   "source": [
    "max_turns = 5\n",
    "n_turns = 0"
   ]
  },
  {
   "cell_type": "code",
   "execution_count": 36,
   "metadata": {},
   "outputs": [],
   "source": [
    "while True:\n",
    "    guess = input(\"please Enter any word of five character:\")\n",
    "    break"
   ]
  },
  {
   "cell_type": "code",
   "execution_count": 37,
   "metadata": {},
   "outputs": [
    {
     "name": "stdout",
     "output_type": "stream",
     "text": [
      "congratulations! you have won \n"
     ]
    }
   ],
   "source": [
    "while True:\n",
    "    guess = input(\"please Enter any word of five character:\").lower()\n",
    "    if guess == guess_word:\n",
    "        print(\"congratulations! you have won \")\n",
    "        break\n",
    "    n_turns+=1\n",
    "\n",
    "    if n_turns == max_turns:\n",
    "        print(\"you have lost\")\n",
    "        break"
   ]
  },
  {
   "cell_type": "code",
   "execution_count": 14,
   "metadata": {},
   "outputs": [
    {
     "data": {
      "text/plain": [
       "['__add__',\n",
       " '__class__',\n",
       " '__contains__',\n",
       " '__delattr__',\n",
       " '__dir__',\n",
       " '__doc__',\n",
       " '__eq__',\n",
       " '__format__',\n",
       " '__ge__',\n",
       " '__getattribute__',\n",
       " '__getitem__',\n",
       " '__getnewargs__',\n",
       " '__gt__',\n",
       " '__hash__',\n",
       " '__init__',\n",
       " '__init_subclass__',\n",
       " '__iter__',\n",
       " '__le__',\n",
       " '__len__',\n",
       " '__lt__',\n",
       " '__mod__',\n",
       " '__mul__',\n",
       " '__ne__',\n",
       " '__new__',\n",
       " '__reduce__',\n",
       " '__reduce_ex__',\n",
       " '__repr__',\n",
       " '__rmod__',\n",
       " '__rmul__',\n",
       " '__setattr__',\n",
       " '__sizeof__',\n",
       " '__str__',\n",
       " '__subclasshook__',\n",
       " 'capitalize',\n",
       " 'casefold',\n",
       " 'center',\n",
       " 'count',\n",
       " 'encode',\n",
       " 'endswith',\n",
       " 'expandtabs',\n",
       " 'find',\n",
       " 'format',\n",
       " 'format_map',\n",
       " 'index',\n",
       " 'isalnum',\n",
       " 'isalpha',\n",
       " 'isascii',\n",
       " 'isdecimal',\n",
       " 'isdigit',\n",
       " 'isidentifier',\n",
       " 'islower',\n",
       " 'isnumeric',\n",
       " 'isprintable',\n",
       " 'isspace',\n",
       " 'istitle',\n",
       " 'isupper',\n",
       " 'join',\n",
       " 'ljust',\n",
       " 'lower',\n",
       " 'lstrip',\n",
       " 'maketrans',\n",
       " 'partition',\n",
       " 'removeprefix',\n",
       " 'removesuffix',\n",
       " 'replace',\n",
       " 'rfind',\n",
       " 'rindex',\n",
       " 'rjust',\n",
       " 'rpartition',\n",
       " 'rsplit',\n",
       " 'rstrip',\n",
       " 'split',\n",
       " 'splitlines',\n",
       " 'startswith',\n",
       " 'strip',\n",
       " 'swapcase',\n",
       " 'title',\n",
       " 'translate',\n",
       " 'upper',\n",
       " 'zfill']"
      ]
     },
     "execution_count": 14,
     "metadata": {},
     "output_type": "execute_result"
    }
   ],
   "source": [
    "dir(\"imran\")"
   ]
  },
  {
   "cell_type": "code",
   "execution_count": 38,
   "metadata": {},
   "outputs": [
    {
     "data": {
      "text/plain": [
       "True"
      ]
     },
     "execution_count": 38,
     "metadata": {},
     "output_type": "execute_result"
    }
   ],
   "source": [
    "\"123imran123\".isalnum()"
   ]
  },
  {
   "cell_type": "code",
   "execution_count": 39,
   "metadata": {},
   "outputs": [
    {
     "data": {
      "text/plain": [
       "False"
      ]
     },
     "execution_count": 39,
     "metadata": {},
     "output_type": "execute_result"
    }
   ],
   "source": [
    "\"123imran123\".isalpha()"
   ]
  },
  {
   "cell_type": "code",
   "execution_count": 40,
   "metadata": {},
   "outputs": [
    {
     "data": {
      "text/plain": [
       "True"
      ]
     },
     "execution_count": 40,
     "metadata": {},
     "output_type": "execute_result"
    }
   ],
   "source": [
    "\"imran\".isalpha()"
   ]
  },
  {
   "cell_type": "code",
   "execution_count": 43,
   "metadata": {},
   "outputs": [
    {
     "name": "stdout",
     "output_type": "stream",
     "text": [
      "0\n",
      "1\n",
      "2\n",
      "3\n",
      "As advised! Enter five character words\n",
      "3\n",
      "4\n",
      "You have lost\n"
     ]
    }
   ],
   "source": [
    "max_turns = 5\n",
    "n_turns = 0\n",
    "while True:\n",
    "    \n",
    "    guess = input(\"Please Enter any word of five character\").lower()\n",
    "    print(n_turns)\n",
    "\n",
    "    if len(guess) != len(guess_word) or not guess.isalpha():\n",
    "        print(\"As advised! Enter five character words\")\n",
    "        continue\n",
    "\n",
    "    if guess == guess_word:\n",
    "        print(\"congratulations! you have won\")\n",
    "        break\n",
    "    n_turns+=1\n",
    "\n",
    "    if n_turns == max_turns:\n",
    "        print(\"You have lost\")\n",
    "        break\n",
    "        "
   ]
  },
  {
   "cell_type": "code",
   "execution_count": 46,
   "metadata": {},
   "outputs": [
    {
     "name": "stdout",
     "output_type": "stream",
     "text": [
      "imran\n"
     ]
    }
   ],
   "source": [
    "print(\"i\",end=\"\")\n",
    "print(\"m\",end=\"\")\n",
    "print(\"r\",end=\"\")\n",
    "print(\"a\",end=\"\")\n",
    "print(\"n\")"
   ]
  },
  {
   "cell_type": "code",
   "execution_count": 48,
   "metadata": {},
   "outputs": [
    {
     "name": "stdout",
     "output_type": "stream",
     "text": [
      "0\n",
      "As advised! Enter five character words\n",
      "0\n",
      "As advised! Enter five character words\n",
      "0\n",
      "is1\n",
      "s2\n",
      "lns3\n",
      "4\n",
      "As advised! Enter five character words\n",
      "4\n",
      "isYou have lost\n"
     ]
    }
   ],
   "source": [
    "max_turns = 5\n",
    "n_turns = 0\n",
    "while True:\n",
    "    \n",
    "    guess = input(\"Please Enter any word of five character\").lower()\n",
    "    print(n_turns)\n",
    "\n",
    "    if len(guess) != len(guess_word) or not guess.isalpha():\n",
    "        print(\"As advised! Enter five character words\")\n",
    "        continue\n",
    "\n",
    "    ind = 0\n",
    "    for c in guess:\n",
    "        if c == guess_word[ind]:\n",
    "            print(c,end=\"\")\n",
    "        ind += 1\n",
    "\n",
    "    if guess == guess_word:\n",
    "        print(\"congratulations! you have won\")\n",
    "        break\n",
    "    n_turns+=1\n",
    "\n",
    "    if n_turns == max_turns:\n",
    "        print(\"You have lost\")\n",
    "        break\n",
    "        "
   ]
  },
  {
   "cell_type": "code",
   "execution_count": 49,
   "metadata": {},
   "outputs": [
    {
     "data": {
      "text/plain": [
       "True"
      ]
     },
     "execution_count": 49,
     "metadata": {},
     "output_type": "execute_result"
    }
   ],
   "source": [
    "\"imran\"\n",
    "\"a\" in \"imran\""
   ]
  },
  {
   "cell_type": "code",
   "execution_count": 50,
   "metadata": {},
   "outputs": [
    {
     "name": "stdout",
     "output_type": "stream",
     "text": [
      "0\n",
      "_____1\n",
      "_i__s2\n",
      "_____3\n",
      "lion_4\n",
      "lionscongratulations! you have won\n"
     ]
    }
   ],
   "source": [
    "inc_pos = []\n",
    "inc_chr = []\n",
    "\n",
    "max_turns = 5\n",
    "n_turns = 0\n",
    "while True:\n",
    "    \n",
    "    guess = input(\"Please Enter any word of five character\").lower()\n",
    "    print(n_turns)\n",
    "\n",
    "    if len(guess) != len(guess_word) or not guess.isalpha():\n",
    "        print(\"As advised! Enter five character words\")\n",
    "        continue\n",
    "\n",
    "    ind = 0\n",
    "    for c in guess:\n",
    "        if c == guess_word[ind]:\n",
    "            print(c,end=\"\")\n",
    "            if c in inc_pos:\n",
    "                inc_pos.remove(c)\n",
    "        elif c in guess_word:\n",
    "            print(\"_\",end=\"\")\n",
    "            inc_pos.append(c)\n",
    "        else:\n",
    "            print(\"_\",end=\"\")\n",
    "            inc_chr.append(c)\n",
    "\n",
    "        ind += 1\n",
    "\n",
    "    if guess == guess_word:\n",
    "        print(\"congratulations! you have won\")\n",
    "        break\n",
    "    n_turns+=1\n",
    "\n",
    "    if n_turns == max_turns:\n",
    "        print(\"You have lost\")\n",
    "        break\n",
    "        "
   ]
  }
 ],
 "metadata": {
  "kernelspec": {
   "display_name": "base",
   "language": "python",
   "name": "python3"
  },
  "language_info": {
   "codemirror_mode": {
    "name": "ipython",
    "version": 3
   },
   "file_extension": ".py",
   "mimetype": "text/x-python",
   "name": "python",
   "nbconvert_exporter": "python",
   "pygments_lexer": "ipython3",
   "version": "3.10.9"
  }
 },
 "nbformat": 4,
 "nbformat_minor": 2
}
