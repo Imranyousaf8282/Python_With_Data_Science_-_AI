{
 "cells": [
  {
   "cell_type": "code",
   "execution_count": null,
   "metadata": {},
   "outputs": [],
   "source": []
  },
  {
   "cell_type": "markdown",
   "metadata": {},
   "source": [
    "## Inharitance\n",
    "* parent class -> base class,superclass\n",
    "* child class -> derived class,subclass"
   ]
  },
  {
   "cell_type": "code",
   "execution_count": 8,
   "metadata": {},
   "outputs": [],
   "source": [
    "class Animal:\n",
    "    def __init__(self,name,age):\n",
    "        self.name = name\n",
    "        self.age = age\n",
    "    \n",
    "    def display(self):\n",
    "        print(f\"Name:{self.name},Age:{self.age} year\")"
   ]
  },
  {
   "cell_type": "code",
   "execution_count": 9,
   "metadata": {},
   "outputs": [],
   "source": [
    "elepahant = Animal(\"Bubbles\",5)"
   ]
  },
  {
   "cell_type": "code",
   "execution_count": 10,
   "metadata": {},
   "outputs": [
    {
     "name": "stdout",
     "output_type": "stream",
     "text": [
      "Name:Bubbles,Age:5 year\n"
     ]
    }
   ],
   "source": [
    "elepahant.display()"
   ]
  },
  {
   "cell_type": "code",
   "execution_count": 11,
   "metadata": {},
   "outputs": [],
   "source": [
    "class Animal:\n",
    "    def __init__(self,name,age):\n",
    "        self.name = name\n",
    "        self.age = age\n",
    "    \n",
    "    def display(self):\n",
    "        print(f\"Name:{self.name},Age:{self.age} year\")"
   ]
  },
  {
   "cell_type": "code",
   "execution_count": 12,
   "metadata": {},
   "outputs": [],
   "source": [
    "class Eliphant(Animal):\n",
    "    pass"
   ]
  },
  {
   "cell_type": "code",
   "execution_count": 14,
   "metadata": {},
   "outputs": [],
   "source": [
    "# bubbles = Eliphant()\n",
    "# TypeError: Animal.__init__() missing 2 required positional arguments: 'name' and 'age'"
   ]
  },
  {
   "cell_type": "code",
   "execution_count": 15,
   "metadata": {},
   "outputs": [],
   "source": [
    "bubbles = Eliphant(\"Bubbles\",4)"
   ]
  },
  {
   "cell_type": "code",
   "execution_count": 16,
   "metadata": {},
   "outputs": [
    {
     "name": "stdout",
     "output_type": "stream",
     "text": [
      "Name:Bubbles,Age:4 year\n"
     ]
    }
   ],
   "source": [
    "bubbles.display()"
   ]
  },
  {
   "cell_type": "code",
   "execution_count": 17,
   "metadata": {},
   "outputs": [],
   "source": [
    "class Animal: # Parent\n",
    "    def __init__(self,name,age):\n",
    "        self.name = name\n",
    "        self.age = age\n",
    "            \n",
    "    def display(self):\n",
    "        print(f\"Name:{self.name},Age:{self.age} year\")\n",
    "\n",
    "class Eliphant(Animal): # child\n",
    "    def __init__(self,name,age,trunk_length):\n",
    "        self.name = name\n",
    "        self.age = age\n",
    "        self.trunk_length = trunk_length\n",
    "        self.discription = f\"{self.name} has {self.trunk_length} meter long trunk\"\n",
    "        "
   ]
  },
  {
   "cell_type": "code",
   "execution_count": 19,
   "metadata": {},
   "outputs": [],
   "source": [
    "baby_eliphant = Eliphant(\"tiny\",0.5,0.6)"
   ]
  },
  {
   "cell_type": "code",
   "execution_count": 20,
   "metadata": {},
   "outputs": [
    {
     "name": "stdout",
     "output_type": "stream",
     "text": [
      "Name:tiny,Age:0.5 year\n"
     ]
    }
   ],
   "source": [
    "baby_eliphant.display()"
   ]
  },
  {
   "cell_type": "code",
   "execution_count": 21,
   "metadata": {},
   "outputs": [
    {
     "data": {
      "text/plain": [
       "0.6"
      ]
     },
     "execution_count": 21,
     "metadata": {},
     "output_type": "execute_result"
    }
   ],
   "source": [
    "baby_eliphant.trunk_length"
   ]
  },
  {
   "cell_type": "code",
   "execution_count": 22,
   "metadata": {},
   "outputs": [
    {
     "data": {
      "text/plain": [
       "'tiny has 0.6 meter long trunk'"
      ]
     },
     "execution_count": 22,
     "metadata": {},
     "output_type": "execute_result"
    }
   ],
   "source": [
    "baby_eliphant.discription"
   ]
  },
  {
   "cell_type": "code",
   "execution_count": 23,
   "metadata": {},
   "outputs": [],
   "source": [
    "\n",
    "class Animal: # Parent\n",
    "    def __init__(self,name,age):\n",
    "        self.name = name\n",
    "        self.age = age\n",
    "            \n",
    "    def display(self):\n",
    "        print(f\"Name:{self.name},Age:{self.age} year\")\n",
    "\n",
    "class Eliphant(Animal): # child\n",
    "    def __init__(self,name,age,trunk_length):\n",
    "        super().__init__(name,age) # calling parent __init__ method\n",
    "        self.trunk_length = trunk_length\n",
    "        self.discription = f\"{self.name} has {self.trunk_length} meter long trunk\"\n",
    "        "
   ]
  },
  {
   "cell_type": "code",
   "execution_count": 24,
   "metadata": {},
   "outputs": [],
   "source": [
    "mother = Eliphant(\"Mother Eliphant\",6,0.9)"
   ]
  },
  {
   "cell_type": "code",
   "execution_count": 25,
   "metadata": {},
   "outputs": [
    {
     "name": "stdout",
     "output_type": "stream",
     "text": [
      "Name:Mother Eliphant,Age:6 year\n"
     ]
    }
   ],
   "source": [
    "mother.display()"
   ]
  },
  {
   "cell_type": "code",
   "execution_count": 26,
   "metadata": {},
   "outputs": [
    {
     "data": {
      "text/plain": [
       "'Mother Eliphant has 0.9 meter long trunk'"
      ]
     },
     "execution_count": 26,
     "metadata": {},
     "output_type": "execute_result"
    }
   ],
   "source": [
    "mother.discription"
   ]
  },
  {
   "cell_type": "code",
   "execution_count": 27,
   "metadata": {},
   "outputs": [
    {
     "data": {
      "text/plain": [
       "'Mother Eliphant'"
      ]
     },
     "execution_count": 27,
     "metadata": {},
     "output_type": "execute_result"
    }
   ],
   "source": [
    "mother.name"
   ]
  },
  {
   "cell_type": "code",
   "execution_count": 28,
   "metadata": {},
   "outputs": [],
   "source": [
    "# in this object has no sequence \n",
    "class Animal: # Parent\n",
    "    def __init__(self,name,age):\n",
    "        self.name = name\n",
    "        self.age = age\n",
    "            \n",
    "    def display(self):\n",
    "        print(f\"Name:{self.name},Age:{self.age} year\")\n",
    "    \n",
    "    def eat(self):\n",
    "        print(\"This Animal is eating\")\n",
    "\n",
    "\n",
    "class Eliphant(Animal): # child\n",
    "    def __init__(self,name,age,trunk_length):\n",
    "        super().__init__(name,age) # calling parent __init__ method\n",
    "        self.trunk_length = trunk_length\n",
    "        self.discription = f\"{self.name} has {self.trunk_length} meter long trunk\"\n",
    "        "
   ]
  },
  {
   "cell_type": "code",
   "execution_count": 29,
   "metadata": {},
   "outputs": [],
   "source": [
    "mother = Eliphant(\"Mother Eliphant\",7,1.9)"
   ]
  },
  {
   "cell_type": "code",
   "execution_count": 30,
   "metadata": {},
   "outputs": [
    {
     "name": "stdout",
     "output_type": "stream",
     "text": [
      "Name:Mother Eliphant,Age:7 year\n"
     ]
    }
   ],
   "source": [
    "mother.display()"
   ]
  },
  {
   "cell_type": "code",
   "execution_count": 31,
   "metadata": {},
   "outputs": [
    {
     "data": {
      "text/plain": [
       "'Mother Eliphant has 1.9 meter long trunk'"
      ]
     },
     "execution_count": 31,
     "metadata": {},
     "output_type": "execute_result"
    }
   ],
   "source": [
    "mother.discription"
   ]
  },
  {
   "cell_type": "code",
   "execution_count": 33,
   "metadata": {},
   "outputs": [
    {
     "name": "stdout",
     "output_type": "stream",
     "text": [
      "This Animal is eating\n"
     ]
    }
   ],
   "source": [
    "mother.eat()"
   ]
  },
  {
   "cell_type": "markdown",
   "metadata": {},
   "source": [
    "##### Overrididng"
   ]
  },
  {
   "cell_type": "code",
   "execution_count": 34,
   "metadata": {},
   "outputs": [],
   "source": [
    "\n",
    "class Animal: # Parent\n",
    "    def __init__(self,name,age):\n",
    "        self.name = name\n",
    "        self.age = age\n",
    "            \n",
    "    def display(self):\n",
    "        print(f\"Name:{self.name},Age:{self.age} year\")\n",
    "    \n",
    "    def eat(self):\n",
    "        print(\"This Animal is eating\")\n",
    "\n",
    "\n",
    "class Eliphant(Animal): # child\n",
    "    def __init__(self,name,age,trunk_length):\n",
    "        super().__init__(name,age) # calling parent __init__ method\n",
    "        self.trunk_length = trunk_length\n",
    "        self.discription = f\"{self.name} has {self.trunk_length} meter long trunk\"\n",
    "\n",
    "    def eat(self): # overriding mother eat method\n",
    "        print(f\"{self.name} having some leaves\")"
   ]
  },
  {
   "cell_type": "code",
   "execution_count": 36,
   "metadata": {},
   "outputs": [],
   "source": [
    "mother = Eliphant(\"Mother Eliphant\",7,1.9)\n"
   ]
  },
  {
   "cell_type": "code",
   "execution_count": 37,
   "metadata": {},
   "outputs": [
    {
     "name": "stdout",
     "output_type": "stream",
     "text": [
      "Mother Eliphant having some leaves\n"
     ]
    }
   ],
   "source": [
    "mother.eat()"
   ]
  },
  {
   "cell_type": "code",
   "execution_count": 38,
   "metadata": {},
   "outputs": [],
   "source": [
    "# in this object has no sequence \n",
    "class Animal: # Parent\n",
    "    def __init__(self,name,age):\n",
    "        self.name = name\n",
    "        self.age = age\n",
    "            \n",
    "    def display(self):\n",
    "        print(f\"Name:{self.name},Age:{self.age} year\")\n",
    "    \n",
    "    def eat(self):\n",
    "        print(\"This Animal is eating\")\n",
    "\n",
    "\n",
    "class Eliphant(Animal): # child\n",
    "    def __init__(self,name,age,trunk_length):\n",
    "        super().__init__(name,age) # calling parent __init__ method\n",
    "        self.trunk_length = trunk_length\n",
    "        self.discription = f\"{self.name} has {self.trunk_length} meter long trunk\"\n",
    "\n",
    "    def eat(self):\n",
    "        super().eat() # Extending the method\n",
    "        print(f\"{self.name} having some leaves\")"
   ]
  },
  {
   "cell_type": "code",
   "execution_count": 39,
   "metadata": {},
   "outputs": [],
   "source": [
    "mother = Eliphant(\"Mother Eliphant\",7,1.9)\n"
   ]
  },
  {
   "cell_type": "code",
   "execution_count": 40,
   "metadata": {},
   "outputs": [
    {
     "name": "stdout",
     "output_type": "stream",
     "text": [
      "This Animal is eating\n",
      "Mother Eliphant having some leaves\n"
     ]
    }
   ],
   "source": [
    "mother.eat()"
   ]
  },
  {
   "cell_type": "markdown",
   "metadata": {},
   "source": [
    "## Polymorphism\n",
    "*In Python, Polymorphism lets us define methods in the child class that have the same name as the methods in the parent class. "
   ]
  },
  {
   "cell_type": "code",
   "execution_count": 47,
   "metadata": {},
   "outputs": [
    {
     "name": "stdout",
     "output_type": "stream",
     "text": [
      "6\n",
      "12\n",
      "3\n"
     ]
    }
   ],
   "source": [
    "list = [1,4,5,9,8,7]\n",
    "str = \"imran yousaf\"\n",
    "dict = {\"name\":\"Imran\",\"age\":21,\"class\":\"BSCS\"}\n",
    "print(len(list))\n",
    "print(len(str))\n",
    "print(len(dict))"
   ]
  },
  {
   "cell_type": "code",
   "execution_count": 44,
   "metadata": {},
   "outputs": [
    {
     "name": "stdout",
     "output_type": "stream",
     "text": [
      "This Animal is eating\n",
      "Mother Eliphant having some leaves\n"
     ]
    }
   ],
   "source": [
    " \n",
    "class Animal: # Parent\n",
    "    def __init__(self,name,age):\n",
    "        self.name = name\n",
    "        self.age = age\n",
    "            \n",
    "    def display(self):\n",
    "        print(f\"Name:{self.name},Age:{self.age} year\")\n",
    "    \n",
    "    def eat(self):\n",
    "        print(\"This Animal is eating\")\n",
    "    def move(self):\n",
    "        pass\n",
    "\n",
    "\n",
    "class Eliphant(Animal): # child\n",
    "    def __init__(self,name,age,trunk_length):\n",
    "        super().__init__(name,age) # calling parent __init__ method\n",
    "        self.trunk_length = trunk_length\n",
    "        self.discription = f\"{self.name} has {self.trunk_length} meter long trunk\"\n",
    "\n",
    "    def eat(self):\n",
    "        super().eat() # Extending the method\n",
    "        print(f\"{self.name} having some leaves\")\n",
    "    def move(self):\n",
    "        print(f\"{self.name} is ambling\")\n",
    "mother = Eliphant(\"Mother Eliphant\",7,1.9)\n",
    "mother.eat()"
   ]
  },
  {
   "cell_type": "code",
   "execution_count": 45,
   "metadata": {},
   "outputs": [
    {
     "name": "stdout",
     "output_type": "stream",
     "text": [
      "Mother Eliphant is ambling\n"
     ]
    }
   ],
   "source": [
    "mother.move()"
   ]
  },
  {
   "cell_type": "markdown",
   "metadata": {},
   "source": [
    "## Encapsulation"
   ]
  },
  {
   "cell_type": "code",
   "execution_count": 57,
   "metadata": {},
   "outputs": [],
   "source": [
    " \n",
    "class Animal: # Parent\n",
    "    def __init__(self,name,age):\n",
    "        self.name = name\n",
    "        self.age = age\n",
    "        self._is_hungry = True\n",
    "            \n",
    "    def display(self):\n",
    "        print(f\"Name:{self.name},Age:{self.age} year\")\n",
    "    \n",
    "    def eat(self):\n",
    "        print(\"This Animal is eating\")\n",
    "        self._is_hungry = False\n",
    "    def move(self):\n",
    "        pass\n",
    "\n",
    "\n",
    "class Eliphant(Animal): # child\n",
    "    def __init__(self,name,age,trunk_length):\n",
    "        super().__init__(name,age) # calling parent __init__ method\n",
    "        self.trunk_length = trunk_length\n",
    "        self.discription = f\"{self.name} has {self.trunk_length} meter long trunk\"\n",
    "\n",
    "    def eat(self):\n",
    "        super().eat() # Extending the method\n",
    "        print(f\"{self.name} having some leaves\")\n",
    "    def move(self):\n",
    "        print(f\"{self.name} is ambling\")\n",
    "mother = Eliphant(\"Mother Eliphant\",7,1.9)\n"
   ]
  },
  {
   "cell_type": "code",
   "execution_count": 58,
   "metadata": {},
   "outputs": [
    {
     "data": {
      "text/plain": [
       "True"
      ]
     },
     "execution_count": 58,
     "metadata": {},
     "output_type": "execute_result"
    }
   ],
   "source": [
    "mother._is_hungry"
   ]
  },
  {
   "cell_type": "code",
   "execution_count": 59,
   "metadata": {},
   "outputs": [
    {
     "name": "stdout",
     "output_type": "stream",
     "text": [
      "This Animal is eating\n",
      "Mother Eliphant having some leaves\n"
     ]
    }
   ],
   "source": [
    "mother.eat()"
   ]
  },
  {
   "cell_type": "code",
   "execution_count": 60,
   "metadata": {},
   "outputs": [
    {
     "data": {
      "text/plain": [
       "False"
      ]
     },
     "execution_count": 60,
     "metadata": {},
     "output_type": "execute_result"
    }
   ],
   "source": [
    "mother._is_hungry"
   ]
  },
  {
   "cell_type": "code",
   "execution_count": 61,
   "metadata": {},
   "outputs": [],
   "source": [
    " \n",
    "class Animal: # Parent\n",
    "    def __init__(self,name,age):\n",
    "        self.name = name\n",
    "        self.age = age\n",
    "        self._is_hungry = True\n",
    "            \n",
    "    def display(self):\n",
    "        print(f\"Name:{self.name},Age:{self.age} year\")\n",
    "    \n",
    "    def eat(self):\n",
    "        print(\"This Animal is eating\")\n",
    "        self._is_hungry = False\n",
    "    def move(self):\n",
    "        pass\n",
    "\n",
    "\n",
    "class Eliphant(Animal): # child\n",
    "    def __init__(self,name,age,trunk_length):\n",
    "        super().__init__(name,age) # calling parent __init__ method\n",
    "        self.trunk_length = trunk_length\n",
    "        self.discription = f\"{self.name} has {self.trunk_length} meter long trunk\"\n",
    "\n",
    "    def eat(self):\n",
    "        super().eat() # Extending the method\n",
    "        print(f\"{self.name} having some leaves\")\n",
    "    def move(self):\n",
    "        print(f\"{self.name} is ambling\")\n",
    "mother = Eliphant(\"Mother Eliphant\",7,1.9)\n"
   ]
  },
  {
   "cell_type": "code",
   "execution_count": 62,
   "metadata": {},
   "outputs": [],
   "source": [
    "mother._is_hungry = False"
   ]
  },
  {
   "cell_type": "code",
   "execution_count": 64,
   "metadata": {},
   "outputs": [
    {
     "data": {
      "text/plain": [
       "False"
      ]
     },
     "execution_count": 64,
     "metadata": {},
     "output_type": "execute_result"
    }
   ],
   "source": [
    "mother._is_hungry"
   ]
  },
  {
   "cell_type": "markdown",
   "metadata": {},
   "source": [
    "## Getter & Setter"
   ]
  },
  {
   "cell_type": "code",
   "execution_count": 66,
   "metadata": {},
   "outputs": [],
   "source": [
    " \n",
    "class Animal: # Parent\n",
    "    def __init__(self,name,age):\n",
    "        self.name = name\n",
    "        self.age = age\n",
    "        self._is_hungry = True\n",
    "            \n",
    "    def display(self):\n",
    "        print(f\"Name:{self.name},Age:{self.age} year\")\n",
    "    \n",
    "    def eat(self):\n",
    "        print(\"This Animal is eating\")\n",
    "        self._is_hungry = False\n",
    "    def move(self):\n",
    "        pass\n",
    "\n",
    "\n",
    "class Eliphant(Animal): # child\n",
    "    def __init__(self,name,age,trunk_length):\n",
    "        super().__init__(name,age) # calling parent __init__ method\n",
    "        self.trunk_length = trunk_length\n",
    "        self.discription = f\"{self.name} has {self.trunk_length} meter long trunk\"\n",
    "\n",
    "    def eat(self):\n",
    "        super().eat() # Extending the method\n",
    "        print(f\"{self.name} having some leaves\")\n",
    "    def get_trunk_length(self): ## setter\n",
    "        return self.trunk_length\n",
    "    \n",
    "\n",
    "    def move(self):\n",
    "        print(f\"{self.name} is ambling\")\n",
    "mother = Eliphant(\"Mother Eliphant\",7,1.9)"
   ]
  },
  {
   "cell_type": "code",
   "execution_count": 68,
   "metadata": {},
   "outputs": [
    {
     "data": {
      "text/plain": [
       "1.9"
      ]
     },
     "execution_count": 68,
     "metadata": {},
     "output_type": "execute_result"
    }
   ],
   "source": [
    "mother.get_trunk_length()"
   ]
  },
  {
   "cell_type": "code",
   "execution_count": 69,
   "metadata": {},
   "outputs": [],
   "source": [
    " \n",
    "class Animal: # Parent\n",
    "    def __init__(self,name,age):\n",
    "        self.name = name\n",
    "        self.age = age\n",
    "        self._is_hungry = True\n",
    "            \n",
    "    def display(self):\n",
    "        print(f\"Name:{self.name},Age:{self.age} year\")\n",
    "    \n",
    "    def eat(self):\n",
    "        print(\"This Animal is eating\")\n",
    "        self._is_hungry = False\n",
    "    def move(self):\n",
    "        pass\n",
    "\n",
    "\n",
    "class Eliphant(Animal): # child\n",
    "    def __init__(self,name,age,trunk_length):\n",
    "        super().__init__(name,age) # calling parent __init__ method\n",
    "        self.trunk_length = trunk_length\n",
    "        self.discription = f\"{self.name} has {self.trunk_length} meter long trunk\"\n",
    "\n",
    "    def eat(self):\n",
    "        super().eat() # Extending the method\n",
    "        print(f\"{self.name} having some leaves\")\n",
    "    def get_trunk_length(self): ## setter\n",
    "        return self.trunk_length\n",
    "    \n",
    "    def set_trunk_lenght(self,length):\n",
    "        if 0<length<3:\n",
    "            self.trunk_length = length\n",
    "        else:\n",
    "            print(\"Trunk length must be between 0 and 3\")\n",
    "    \n",
    "\n",
    "    def move(self):\n",
    "        print(f\"{self.name} is ambling\")\n",
    "mother = Eliphant(\"Mother Eliphant\",7,1.9)"
   ]
  },
  {
   "cell_type": "code",
   "execution_count": 71,
   "metadata": {},
   "outputs": [],
   "source": [
    "mother.set_trunk_lenght(2.9)"
   ]
  },
  {
   "cell_type": "code",
   "execution_count": 72,
   "metadata": {},
   "outputs": [
    {
     "data": {
      "text/plain": [
       "2.9"
      ]
     },
     "execution_count": 72,
     "metadata": {},
     "output_type": "execute_result"
    }
   ],
   "source": [
    "mother.get_trunk_length()"
   ]
  },
  {
   "cell_type": "code",
   "execution_count": 75,
   "metadata": {},
   "outputs": [
    {
     "name": "stdout",
     "output_type": "stream",
     "text": [
      "Trunk length must be between 0 and 3\n"
     ]
    }
   ],
   "source": [
    "mother.set_trunk_lenght(3)"
   ]
  },
  {
   "cell_type": "code",
   "execution_count": 99,
   "metadata": {},
   "outputs": [],
   "source": [
    " \n",
    "class Animal: # Parent\n",
    "    def __init__(self,name,age):\n",
    "        self.name = name\n",
    "        self.age = age\n",
    "        self._is_hungry = True\n",
    "            \n",
    "    def display(self):\n",
    "        print(f\"Name:{self.name},Age:{self.age} year\")\n",
    "    \n",
    "    def eat(self):\n",
    "        print(\"This Animal is eating\")\n",
    "        self._is_hungry = False\n",
    "    def move(self):\n",
    "        pass\n",
    "\n",
    "    def _check_retirement(self):\n",
    "        if self.age >= 10:\n",
    "            print(f\"{self.name} has retired\")\n",
    "    \n",
    "    def age_up(self):\n",
    "        self.age += 1\n",
    "        self._check_retirement()\n",
    "\n",
    "class Eliphant(Animal): # child\n",
    "    def __init__(self,name,age,trunk_length):\n",
    "        super().__init__(name,age) # calling parent __init__ method\n",
    "        self.trunk_length = trunk_length\n",
    "        self.discription = f\"{self.name} has {self.trunk_length} meter long trunk\"\n",
    "\n",
    "    def eat(self):\n",
    "        super().eat() # Extending the method\n",
    "        print(f\"{self.name} having some leaves\")\n",
    "    def get_trunk_length(self): ## setter\n",
    "        return self.trunk_length\n",
    "    \n",
    "    def set_trunk_lenght(self,length):\n",
    "        if 0<length<3:\n",
    "            self.trunk_length = length\n",
    "        else:\n",
    "            print(\"Trunk length must be between 0 and 3\")\n",
    "    \n",
    "\n",
    "    def move(self):\n",
    "        print(f\"{self.name} is ambling\")\n",
    "mother = Eliphant(\"Mother Eliphant\",7,1.9)"
   ]
  },
  {
   "cell_type": "code",
   "execution_count": 100,
   "metadata": {},
   "outputs": [
    {
     "data": {
      "text/plain": [
       "7"
      ]
     },
     "execution_count": 100,
     "metadata": {},
     "output_type": "execute_result"
    }
   ],
   "source": [
    "mother.age"
   ]
  },
  {
   "cell_type": "code",
   "execution_count": 101,
   "metadata": {},
   "outputs": [
    {
     "name": "stdout",
     "output_type": "stream",
     "text": [
      "7\n",
      "8\n",
      "9\n",
      "Mother Eliphant has retired\n",
      "10\n",
      "Mother Eliphant has retired\n",
      "11\n",
      "Mother Eliphant has retired\n"
     ]
    }
   ],
   "source": [
    "for _ in range(5):\n",
    "    print(mother.age)\n",
    "    mother.age_up()"
   ]
  },
  {
   "cell_type": "code",
   "execution_count": 109,
   "metadata": {},
   "outputs": [],
   "source": [
    " \n",
    "class Animal: # Parent\n",
    "    def __init__(self,name,age):\n",
    "        self.name = name\n",
    "        self.age = age\n",
    "        self._is_hungry = True\n",
    "            \n",
    "    def display(self):\n",
    "        print(f\"Name:{self.name},Age:{self.age} year\")\n",
    "    \n",
    "    def eat(self):\n",
    "        print(\"This Animal is eating\")\n",
    "        self._is_hungry = False\n",
    "    def move(self):\n",
    "        pass\n",
    "\n",
    "    def _check_retirement(self):\n",
    "        if self.age >= 10:\n",
    "            print(f\"{self.name} has retired\")\n",
    "    \n",
    "    def age_up(self):\n",
    "        self.age += 1\n",
    "        self._check_retirement()\n",
    "\n",
    "class Eliphant(Animal): # child\n",
    "    def __init__(self,name,age,trunk_length):\n",
    "        super().__init__(name,age) # calling parent __init__ method\n",
    "        self.trunk_length = trunk_length\n",
    "        self.discription = f\"{self.name} has {self.trunk_length} meter long trunk\"\n",
    "\n",
    "    def eat(self):\n",
    "        # super().eat() # Extending the method\n",
    "        if self._use_trunk():\n",
    "            print(f\"{self.name} having some leaves\")\n",
    "        else:\n",
    "            print(f\"{self.name} will be fed by mother\")\n",
    "    def get_trunk_length(self): ## setter\n",
    "        return self.trunk_length\n",
    "    \n",
    "    def set_trunk_lenght(self,length):\n",
    "        if 0<length<3:\n",
    "            self.trunk_length = length\n",
    "        else:\n",
    "            print(\"Trunk length must be between 0 and 3\")\n",
    "    \n",
    "    def _use_trunk(self):\n",
    "        if self.age <1 or self.trunk_length < 1.2:\n",
    "            return False\n",
    "        else:\n",
    "            return True\n",
    "    def move(self):\n",
    "        print(f\"{self.name} is ambling\")"
   ]
  },
  {
   "cell_type": "code",
   "execution_count": 123,
   "metadata": {},
   "outputs": [
    {
     "name": "stdout",
     "output_type": "stream",
     "text": [
      "Mother Eliphant having some leaves\n"
     ]
    }
   ],
   "source": [
    "mother = Eliphant(\"Mother Eliphant\",6,3)\n",
    "mother.eat()"
   ]
  },
  {
   "cell_type": "code",
   "execution_count": 129,
   "metadata": {},
   "outputs": [],
   "source": [
    "baby = Eliphant(\"Tiny Eliphant\",2,1.1)"
   ]
  },
  {
   "cell_type": "code",
   "execution_count": 130,
   "metadata": {},
   "outputs": [
    {
     "name": "stdout",
     "output_type": "stream",
     "text": [
      "Tiny Eliphant will be fed by mother\n"
     ]
    }
   ],
   "source": [
    "baby.eat()"
   ]
  },
  {
   "cell_type": "code",
   "execution_count": 136,
   "metadata": {},
   "outputs": [],
   "source": [
    "baby = Eliphant(\"Mother Eliphant\",2,1.3)"
   ]
  },
  {
   "cell_type": "code",
   "execution_count": 137,
   "metadata": {},
   "outputs": [
    {
     "name": "stdout",
     "output_type": "stream",
     "text": [
      "Mother Eliphant having some leaves\n"
     ]
    }
   ],
   "source": [
    "baby.eat()"
   ]
  }
 ],
 "metadata": {
  "kernelspec": {
   "display_name": "base",
   "language": "python",
   "name": "python3"
  },
  "language_info": {
   "codemirror_mode": {
    "name": "ipython",
    "version": 3
   },
   "file_extension": ".py",
   "mimetype": "text/x-python",
   "name": "python",
   "nbconvert_exporter": "python",
   "pygments_lexer": "ipython3",
   "version": "3.10.9"
  }
 },
 "nbformat": 4,
 "nbformat_minor": 2
}
